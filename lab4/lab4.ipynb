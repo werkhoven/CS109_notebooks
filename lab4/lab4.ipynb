{
 "cells": [
  {
   "cell_type": "markdown",
   "metadata": {},
   "source": [
    "# <img style=\"float: left; padding-right: 10px; width: 45px\" src=\"https://raw.githubusercontent.com/Harvard-IACS/2018-CS109A/master/content/styles/iacs.png\"> CS-109A Introduction to Data Science\n"
   ]
  },
  {
   "cell_type": "markdown",
   "metadata": {},
   "source": [
    "## Lab 4: Multiple and Polynomial Regression \n",
    "\n",
    "**Harvard University**<br/>\n",
    "**Fall 2018**<br/>\n",
    "**Instructors:** Pavlos Protopapas and Kevin Rader<br/>\n",
    "**Lab Instructor:** Rahul Dave<br/>\n",
    "**Authors:** Rahul Dave, David Sondak, Will Claybaugh, Pavlos Protopapas\n",
    "\n",
    "---"
   ]
  },
  {
   "cell_type": "code",
   "execution_count": 142,
   "metadata": {},
   "outputs": [],
   "source": [
    "## RUN THIS CELL TO GET THE RIGHT FORMATTING \n",
    "import requests\n",
    "from IPython.core.display import HTML\n",
    "styles = requests.get(\"https://raw.githubusercontent.com/Harvard-IACS/2018-CS109A/master/content/styles/cs109.css\").text\n",
    "HTML(styles)"
   ]
  },
  {
   "cell_type": "markdown",
   "metadata": {},
   "source": [
    "## Table of Contents\n",
    "\n",
    "<ol start=\"0\">\n",
    "<li> Learning Goals </li>\n",
    "<li> Polynomial Regression, and Revisiting the Cab Data</li>\n",
    "<li> Multiple regression and exploring the Football data </li>\n",
    "<li> A nice trick for forward-backwards </li>\n",
    "</ol>"
   ]
  },
  {
   "cell_type": "markdown",
   "metadata": {},
   "source": [
    "## Learning Goals\n",
    "After this lab, you should be able to\n",
    " - Implement arbitrary multiple regression models in both SK-learn and Statsmodels\n",
    " - Interpret the coefficent estimates produced by each model, including transformed and dummy variables"
   ]
  },
  {
   "cell_type": "code",
   "execution_count": 2,
   "metadata": {},
   "outputs": [],
   "source": [
    "import numpy as np\n",
    "import pandas as pd\n",
    "import matplotlib.pyplot as plt\n",
    "\n",
    "import statsmodels.api as sm\n",
    "from statsmodels.api import OLS\n",
    "\n",
    "from sklearn import preprocessing\n",
    "from sklearn.preprocessing import PolynomialFeatures\n",
    "from sklearn.metrics import r2_score\n",
    "from sklearn.model_selection import train_test_split\n",
    "\n",
    "from pandas.plotting import scatter_matrix\n",
    "\n",
    "import seaborn as sns\n",
    "\n",
    "\n",
    "%matplotlib inline"
   ]
  },
  {
   "cell_type": "markdown",
   "metadata": {},
   "source": [
    "`statsmodels` is focused on the _inference_ task: guess good values for the betas and discuss how certain you are in those answers. \n",
    "\n",
    "`sklearn` is focused on the _prediction_ task: given \\[new\\] data, guess what the response value is. As a result, statsmodels has lots of tools to discuss confidence, but isn't great at dealing with test sets. Sklearn is great at test sets and validations, but can't really discuss uncertainty in the parameters or predictions. In short:\n",
    "\n",
    "  - sklearn is about putting a line through it and predicting new values using that line. If the line gives good predictions on the test set, who cares about anything else?\n",
    "  - statsmodels assumes more about how the data were generated, and (if the assumptions are correct) can tell you about uncertainty in the results\n"
   ]
  },
  {
   "cell_type": "markdown",
   "metadata": {},
   "source": [
    "### Some terms\n",
    "\n",
    "\n",
    "- **R-squared**: An interpretable summary of how well the model did. 1 is perfect, 0 is a trivial baseline model, negative is worse than the trivial model\n",
    "- **F-statistic**: A value testing whether we're likely to see these results (or even stronger ones) if none of the predictors actually mattered.\n",
    "- **Prob (F-statistic)**: The probability that we'd see these results (or even stronger ones) if none of the predictors actually mattered. If this probability is small then either A) some combination of predictors actually matters or B) something rather unlikely has happened\n",
    "- **coef**: The estimate of each beta. This has several sub-components:\n",
    "  - **std err**: The amount we'd expect this value to wiggle if we re-did the data collection and re-ran our model. More data tends to make this wiggle smaller, but sometimes the collected data just isn't enough to pin down a particular value.\n",
    "  - **t and P>|t|**: similar to the F-statistic, these measure the probability of seeing coefficients this big (or even bigger) if the given variable didn't actually matter. Small probability doesn't necessarily mean the value matters\n",
    "  - **\\[0.025 0.975\\]**: Endpoints of the 95% confidence interval. This is a interval drawn in a clever way and which gives an idea of where the true beta value might plausibly live. (If you want to understand why \"there's a 95% chance the true beta is in the interval\" is _wrong_, start a chat with Will : )\n",
    "  "
   ]
  },
  {
   "cell_type": "markdown",
   "metadata": {},
   "source": [
    "## Part 1: Polynomial Regression, and Revisiting the Cab Data"
   ]
  },
  {
   "cell_type": "code",
   "execution_count": 3,
   "metadata": {},
   "outputs": [
    {
     "data": {
      "text/html": [
       "<div>\n",
       "<style scoped>\n",
       "    .dataframe tbody tr th:only-of-type {\n",
       "        vertical-align: middle;\n",
       "    }\n",
       "\n",
       "    .dataframe tbody tr th {\n",
       "        vertical-align: top;\n",
       "    }\n",
       "\n",
       "    .dataframe thead th {\n",
       "        text-align: right;\n",
       "    }\n",
       "</style>\n",
       "<table border=\"1\" class=\"dataframe\">\n",
       "  <thead>\n",
       "    <tr style=\"text-align: right;\">\n",
       "      <th></th>\n",
       "      <th>TimeMin</th>\n",
       "      <th>PickupCount</th>\n",
       "    </tr>\n",
       "  </thead>\n",
       "  <tbody>\n",
       "    <tr>\n",
       "      <th>0</th>\n",
       "      <td>860.0</td>\n",
       "      <td>33.0</td>\n",
       "    </tr>\n",
       "    <tr>\n",
       "      <th>1</th>\n",
       "      <td>17.0</td>\n",
       "      <td>75.0</td>\n",
       "    </tr>\n",
       "    <tr>\n",
       "      <th>2</th>\n",
       "      <td>486.0</td>\n",
       "      <td>13.0</td>\n",
       "    </tr>\n",
       "    <tr>\n",
       "      <th>3</th>\n",
       "      <td>300.0</td>\n",
       "      <td>5.0</td>\n",
       "    </tr>\n",
       "    <tr>\n",
       "      <th>4</th>\n",
       "      <td>385.0</td>\n",
       "      <td>10.0</td>\n",
       "    </tr>\n",
       "  </tbody>\n",
       "</table>\n",
       "</div>"
      ],
      "text/plain": [
       "   TimeMin  PickupCount\n",
       "0    860.0         33.0\n",
       "1     17.0         75.0\n",
       "2    486.0         13.0\n",
       "3    300.0          5.0\n",
       "4    385.0         10.0"
      ]
     },
     "execution_count": 3,
     "metadata": {},
     "output_type": "execute_result"
    }
   ],
   "source": [
    "# read in the data, break into train and test\n",
    "cab_df = pd.read_csv(\"data/dataset_1.txt\")\n",
    "train_data, test_data = train_test_split(cab_df, test_size=.2, random_state=42)\n",
    "cab_df.head()"
   ]
  },
  {
   "cell_type": "code",
   "execution_count": 4,
   "metadata": {},
   "outputs": [
    {
     "data": {
      "text/plain": [
       "(1250, 2)"
      ]
     },
     "execution_count": 4,
     "metadata": {},
     "output_type": "execute_result"
    }
   ],
   "source": [
    "cab_df.shape"
   ]
  },
  {
   "cell_type": "code",
   "execution_count": 5,
   "metadata": {},
   "outputs": [],
   "source": [
    "# do some data cleaning\n",
    "X_train = train_data['TimeMin'].values.reshape(-1,1)/60\n",
    "y_train = train_data['PickupCount'].values\n",
    "\n",
    "X_test = test_data['TimeMin'].values.reshape(-1,1)/60\n",
    "y_test = test_data['PickupCount'].values\n",
    "\n",
    "\n",
    "def plot_cabs(cur_model, poly_transformer=None):\n",
    "    \n",
    "    # build the x values for the prediction line\n",
    "    x_vals = np.arange(0,24,.1).reshape(-1,1)\n",
    "    \n",
    "    # if needed, build the design matrix\n",
    "    if poly_transformer:\n",
    "        design_mat = poly_transformer.fit_transform(x_vals)\n",
    "    else:\n",
    "        design_mat = x_vals\n",
    "    \n",
    "    # make the prediction at each x value\n",
    "    prediction = cur_model.predict(design_mat)\n",
    "    \n",
    "    # plot the prediction line, and the test data\n",
    "    plt.plot(x_vals,prediction, color='k', label=\"Prediction\")\n",
    "    plt.scatter(X_test, y_test, label=\"Test Data\")\n",
    "\n",
    "    # label your plots\n",
    "    plt.ylabel(\"Number of Taxi Pickups\")\n",
    "    plt.xlabel(\"Time of Day (Hours Past Midnight)\")\n",
    "    plt.legend()\n",
    "    plt.show()"
   ]
  },
  {
   "cell_type": "code",
   "execution_count": 6,
   "metadata": {},
   "outputs": [
    {
     "data": {
      "image/png": "[encoded data removed]",
      "text/plain": [
       "<Figure size 432x288 with 1 Axes>"
      ]
     },
     "metadata": {},
     "output_type": "display_data"
    }
   ],
   "source": [
    "from sklearn.linear_model import LinearRegression\n",
    "fitted_cab_model0 = LinearRegression().fit(X_train, y_train)\n",
    "plot_cabs(fitted_cab_model0)"
   ]
  },
  {
   "cell_type": "code",
   "execution_count": 7,
   "metadata": {},
   "outputs": [
    {
     "data": {
      "text/plain": [
       "0.240661535615741"
      ]
     },
     "execution_count": 7,
     "metadata": {},
     "output_type": "execute_result"
    }
   ],
   "source": [
    "fitted_cab_model0.score(X_test, y_test)"
   ]
  },
  {
   "cell_type": "markdown",
   "metadata": {},
   "source": [
    "We can see that there's still a lot of variation in cab pickups that's not being caught by a linear fit. And the linear fit is predicting massively more pickups at 11:59pm than at 12:00am. However, we can add columns to our design matrix for $TimeMin^2$ and $TimeMin^3$ and so on, allowing a wigglier polynomial that will better fit the data.\n",
    "\n",
    "We'll be using sklearn's `PolynomialFeatures` to take some of the tedium out of building the new design matrix. In fact, if all we want is a formula like $y \\approx \\beta_0 + \\beta_1 x + \\beta_2 x^2 + ...$ it will directly return the new design matrix."
   ]
  },
  {
   "cell_type": "code",
   "execution_count": 17,
   "metadata": {},
   "outputs": [
    {
     "data": {
      "text/plain": [
       "array([ 6.73333333,  2.18333333,  1.41666667,  8.98333333, 21.1       ,\n",
       "       20.7       ,  0.35      , 19.03333333,  9.81666667,  1.35      ,\n",
       "       22.6       ,  4.05      ,  0.08333333,  5.43333333,  9.05      ,\n",
       "       22.11666667,  8.65      , 21.86666667, 17.26666667, 21.03333333,\n",
       "        2.6       ,  6.88333333, 13.31666667, 14.73333333, 13.7       ,\n",
       "       14.45      , 12.46666667, 22.1       , 18.86666667, 20.66666667,\n",
       "       12.7       ,  9.98333333,  7.43333333, 15.86666667, 13.03333333,\n",
       "       18.3       , 12.03333333,  5.41666667, 19.96666667, 22.38333333,\n",
       "       16.11666667, 10.91666667, 18.08333333,  6.16666667, 22.03333333,\n",
       "       19.61666667, 12.35      ,  7.76666667,  3.5       ,  5.21666667,\n",
       "       15.71666667, 16.13333333, 17.08333333, 17.86666667,  3.51666667,\n",
       "        6.16666667,  5.13333333,  2.68333333, 13.41666667,  2.13333333,\n",
       "       17.23333333,  4.26666667, 20.8       ,  6.6       ,  4.38333333,\n",
       "        1.91666667, 22.48333333, 22.8       , 12.05      ,  1.53333333,\n",
       "       11.46666667, 10.16666667, 15.35      ,  1.53333333, 16.43333333,\n",
       "        8.38333333,  2.56666667,  8.1       , 12.2       ,  2.36666667,\n",
       "        3.83333333,  1.21666667, 13.15      ,  1.56666667, 20.6       ,\n",
       "       21.96666667, 22.91666667,  4.73333333, 22.06666667, 10.13333333,\n",
       "       23.36666667, 13.86666667,  7.85      ,  5.        , 20.58333333,\n",
       "        9.48333333, 12.41666667,  6.61666667, 17.45      , 19.63333333,\n",
       "        6.        ,  3.83333333,  3.31666667,  8.31666667,  0.7       ,\n",
       "       12.33333333, 10.65      ,  0.71666667,  1.55      , 21.43333333,\n",
       "        4.        , 17.18333333, 18.48333333, 20.93333333,  1.1       ,\n",
       "        8.51666667, 17.31666667, 20.63333333,  3.43333333, 14.21666667,\n",
       "       15.53333333,  9.26666667,  0.45      ,  8.31666667, 17.95      ,\n",
       "       20.1       , 23.13333333, 18.05      ,  0.3       ,  8.96666667,\n",
       "       13.75      ,  0.91666667,  7.98333333, 10.25      , 10.2       ,\n",
       "        5.33333333,  3.66666667,  0.46666667,  8.73333333, 18.81666667,\n",
       "       18.3       ,  4.03333333, 14.45      , 23.51666667,  7.81666667,\n",
       "       12.33333333,  8.1       , 13.65      , 22.51666667,  2.91666667,\n",
       "       10.73333333,  5.65      , 13.13333333, 18.61666667, 20.66666667,\n",
       "        4.16666667,  1.91666667,  6.35      , 19.98333333,  5.68333333,\n",
       "       10.08333333,  5.76666667,  3.46666667,  4.83333333,  1.83333333,\n",
       "       21.4       ,  8.65      ,  5.8       , 12.41666667, 16.9       ,\n",
       "       11.21666667, 10.55      , 16.45      , 15.66666667, 16.68333333,\n",
       "       14.75      , 21.35      ,  0.78333333,  6.41666667,  3.18333333,\n",
       "       16.86666667,  8.51666667, 20.25      , 12.08333333,  6.75      ,\n",
       "       11.55      , 18.56666667, 21.08333333, 16.71666667,  7.01666667,\n",
       "        2.5       , 11.36666667,  3.58333333, 20.73333333, 18.05      ,\n",
       "       12.88333333,  7.63333333,  5.18333333, 21.56666667, 12.75      ,\n",
       "        4.15      , 15.56666667,  5.88333333, 16.43333333, 14.43333333,\n",
       "       11.11666667,  4.38333333, 15.06666667, 11.38333333, 13.38333333,\n",
       "       12.78333333,  3.91666667, 20.41666667, 13.18333333, 15.91666667,\n",
       "       23.5       , 14.63333333,  5.61666667, 12.1       , 13.2       ,\n",
       "       20.53333333,  0.21666667, 10.96666667, 13.88333333, 15.16666667,\n",
       "        6.3       , 19.95      ,  9.45      , 14.13333333, 15.16666667,\n",
       "        9.2       , 11.55      , 22.21666667, 23.1       ,  0.31666667,\n",
       "        3.98333333, 23.6       ,  9.81666667, 13.88333333, 10.23333333,\n",
       "       17.48333333, 10.85      , 23.83333333,  9.41666667, 18.23333333,\n",
       "       14.5       ,  0.96666667,  9.81666667,  4.26666667, 11.03333333,\n",
       "        3.78333333, 21.38333333,  5.43333333, 19.91666667,  3.18333333,\n",
       "        5.88333333, 13.3       ,  7.03333333, 17.15      ,  8.18333333,\n",
       "       16.61666667, 19.11666667, 18.7       , 18.43333333,  8.25      ,\n",
       "       21.85      , 21.38333333,  8.5       ,  6.73333333,  2.36666667,\n",
       "       16.96666667, 13.36666667,  1.58333333,  1.1       , 14.48333333,\n",
       "        3.03333333, 19.2       , 19.03333333, 11.5       ,  1.51666667,\n",
       "       15.7       ,  2.48333333, 10.95      ,  4.33333333, 19.8       ,\n",
       "        6.48333333, 22.3       , 23.61666667, 18.48333333, 20.91666667,\n",
       "       10.38333333, 11.31666667, 20.9       , 15.26666667, 10.95      ,\n",
       "        6.05      , 15.2       ,  6.28333333,  7.11666667, 22.86666667,\n",
       "        0.98333333,  8.46666667, 17.98333333, 14.58333333, 23.61666667,\n",
       "        0.63333333,  5.35      , 10.06666667,  7.83333333, 14.58333333,\n",
       "       18.4       ,  5.2       , 10.48333333,  4.66666667,  9.21666667,\n",
       "        8.75      , 16.1       , 23.8       ,  9.05      ,  0.75      ,\n",
       "        1.8       ,  7.35      , 10.11666667, 11.18333333, 15.41666667,\n",
       "        1.96666667,  1.13333333, 14.9       , 15.33333333, 11.68333333,\n",
       "       22.36666667,  8.9       , 21.38333333, 21.66666667,  8.35      ,\n",
       "       16.65      ,  6.96666667,  3.05      ,  4.65      , 15.95      ,\n",
       "       22.88333333, 10.83333333, 14.01666667,  2.93333333, 14.71666667,\n",
       "        5.41666667,  5.16666667,  2.58333333, 18.78333333, 15.33333333,\n",
       "       16.35      ,  6.11666667,  8.83333333,  5.31666667, 12.81666667,\n",
       "        8.66666667, 18.16666667,  4.63333333,  6.51666667, 18.25      ,\n",
       "       16.6       , 19.1       ,  3.81666667,  6.38333333, 17.95      ,\n",
       "        8.1       ,  8.98333333,  5.61666667, 22.63333333, 15.43333333,\n",
       "       22.05      ,  9.46666667, 15.88333333,  1.78333333, 14.48333333,\n",
       "        0.56666667,  9.46666667,  5.81666667, 18.31666667,  5.53333333,\n",
       "        3.23333333, 12.31666667, 12.41666667, 14.33333333, 12.18333333,\n",
       "       15.11666667,  6.8       ,  6.53333333,  3.9       , 12.        ,\n",
       "        4.18333333,  4.4       , 19.78333333, 12.36666667,  1.4       ,\n",
       "        3.8       , 16.3       ,  1.13333333,  6.2       , 14.26666667,\n",
       "        9.31666667, 20.3       ,  2.48333333,  6.56666667,  8.18333333,\n",
       "        0.51666667, 13.        ,  4.        , 15.75      , 23.8       ,\n",
       "       17.31666667, 15.41666667,  2.31666667,  0.11666667, 10.1       ,\n",
       "       12.16666667, 12.33333333,  1.68333333,  1.35      , 19.21666667,\n",
       "        7.75      ,  6.01666667,  1.85      , 19.28333333, 23.96666667,\n",
       "        3.06666667,  9.85      ,  8.13333333, 20.13333333, 20.51666667,\n",
       "        8.63333333, 21.53333333, 19.53333333,  1.78333333,  2.66666667,\n",
       "        5.93333333, 14.93333333, 13.95      ,  5.18333333, 22.45      ,\n",
       "        9.45      , 18.        , 23.7       ,  5.41666667,  7.86666667,\n",
       "        8.95      , 21.51666667,  1.7       ,  6.3       ,  8.96666667,\n",
       "       18.71666667, 10.58333333, 16.26666667, 22.56666667, 23.01666667,\n",
       "        2.9       , 14.93333333,  5.        ,  9.1       ,  1.5       ,\n",
       "        3.33333333, 22.11666667, 22.53333333,  7.9       , 10.7       ,\n",
       "       14.38333333, 10.75      , 17.86666667,  9.66666667,  5.5       ,\n",
       "        2.95      , 15.25      ,  5.45      , 10.56666667, 16.78333333,\n",
       "       20.05      ,  1.86666667, 21.61666667,  6.35      ,  9.15      ,\n",
       "        7.96666667, 12.93333333,  0.85      ,  0.66666667,  9.05      ,\n",
       "       22.03333333, 20.76666667, 13.38333333,  9.98333333,  5.75      ,\n",
       "       15.05      , 11.4       , 18.7       ,  8.43333333,  3.53333333,\n",
       "       16.88333333, 11.38333333,  6.95      , 12.25      , 19.33333333,\n",
       "        0.36666667, 20.68333333,  4.08333333,  7.31666667, 16.53333333,\n",
       "       10.68333333, 17.21666667,  9.65      , 18.11666667, 11.16666667,\n",
       "       12.78333333, 14.        ,  4.61666667, 17.41666667,  7.36666667,\n",
       "        5.25      ,  3.56666667,  8.01666667, 14.23333333,  8.73333333,\n",
       "        2.1       ,  5.76666667,  5.03333333, 12.3       , 21.61666667,\n",
       "       13.06666667, 14.95      ,  1.11666667, 11.88333333,  6.78333333,\n",
       "        9.75      , 15.15      , 16.95      ,  5.7       , 10.51666667,\n",
       "        4.06666667,  0.1       , 23.26666667,  2.03333333,  5.2       ,\n",
       "       23.41666667, 12.5       ,  8.96666667,  0.75      ,  2.11666667,\n",
       "       13.75      ,  7.8       , 13.3       , 10.78333333, 19.15      ,\n",
       "        4.63333333, 14.38333333,  1.43333333, 18.16666667,  6.4       ,\n",
       "       19.16666667, 16.46666667, 19.85      , 23.68333333, 18.78333333,\n",
       "       11.7       ,  1.58333333, 21.95      , 11.21666667,  4.41666667,\n",
       "       10.38333333,  1.6       ,  1.13333333, 15.26666667, 18.96666667,\n",
       "       13.41666667,  1.53333333,  9.        , 20.33333333, 10.86666667,\n",
       "       10.6       ,  7.65      , 22.88333333,  7.5       ,  7.43333333,\n",
       "        6.16666667,  9.28333333,  6.21666667, 14.75      , 14.7       ,\n",
       "       10.8       ,  7.        ,  8.2       ,  5.13333333, 16.11666667,\n",
       "       23.16666667, 14.66666667, 23.73333333,  4.18333333, 17.36666667,\n",
       "        2.33333333,  6.53333333, 12.41666667,  0.55      , 22.5       ,\n",
       "       17.91666667,  9.8       , 17.41666667,  7.63333333, 22.95      ,\n",
       "       12.83333333, 15.78333333,  3.46666667,  3.06666667, 20.71666667,\n",
       "        4.01666667, 23.41666667,  1.96666667, 21.33333333, 13.91666667,\n",
       "       18.81666667, 20.85      , 23.51666667, 16.11666667,  6.25      ,\n",
       "        8.35      , 19.15      ,  2.15      , 13.9       , 12.38333333,\n",
       "        6.41666667,  9.06666667, 19.86666667, 15.35      , 10.3       ,\n",
       "        3.21666667,  9.11666667, 19.7       , 10.75      ,  1.6       ,\n",
       "       20.38333333, 21.85      , 17.58333333, 11.9       , 23.76666667,\n",
       "        7.33333333, 10.08333333, 10.85      , 20.4       ,  9.75      ,\n",
       "       12.41666667, 19.26666667,  8.7       , 11.03333333,  5.5       ,\n",
       "       11.6       ,  1.2       , 20.5       , 11.86666667, 19.23333333,\n",
       "       20.56666667, 19.58333333, 20.11666667,  8.91666667, 23.18333333,\n",
       "       21.53333333, 11.45      , 14.18333333, 11.08333333, 12.41666667,\n",
       "       16.18333333, 19.6       ,  8.26666667,  9.56666667, 17.68333333,\n",
       "       13.3       , 20.16666667,  8.06666667, 15.31666667, 14.28333333,\n",
       "       23.56666667, 16.46666667,  7.4       ,  2.31666667, 13.56666667,\n",
       "        6.38333333, 14.75      ,  2.65      ,  1.03333333,  8.35      ,\n",
       "        6.7       , 16.23333333, 10.4       , 18.05      , 13.95      ,\n",
       "        2.78333333, 16.5       ,  0.71666667,  7.03333333,  9.76666667,\n",
       "       22.38333333, 13.2       ,  6.45      , 11.86666667,  9.9       ,\n",
       "       12.45      ,  6.05      ,  2.46666667,  6.4       , 13.1       ,\n",
       "        7.33333333,  4.06666667,  9.43333333, 16.83333333,  0.71666667,\n",
       "       22.33333333,  7.88333333,  1.3       ,  2.63333333, 14.15      ,\n",
       "       20.48333333,  6.51666667,  0.06666667, 23.08333333,  0.06666667,\n",
       "       23.88333333, 21.01666667, 10.58333333, 16.43333333, 16.18333333,\n",
       "        7.66666667,  3.31666667, 12.13333333, 17.06666667, 23.75      ,\n",
       "       11.81666667, 19.03333333,  8.26666667, 13.6       ,  0.55      ,\n",
       "       18.16666667, 17.48333333,  6.71666667,  8.85      ,  7.2       ,\n",
       "       11.18333333, 13.46666667, 12.36666667,  0.73333333,  5.7       ,\n",
       "        3.16666667,  3.38333333,  0.86666667,  5.7       , 14.78333333,\n",
       "       13.71666667,  9.85      ,  7.13333333, 20.66666667,  4.66666667,\n",
       "       21.        , 17.31666667,  7.53333333, 10.5       ,  8.03333333,\n",
       "        2.66666667, 21.23333333, 16.98333333, 21.83333333, 22.85      ,\n",
       "        3.3       , 21.56666667, 23.83333333, 17.1       , 10.73333333,\n",
       "        6.98333333, 10.25      ,  2.65      , 23.5       , 10.58333333,\n",
       "       22.75      , 13.46666667,  8.66666667,  8.86666667, 14.38333333,\n",
       "        9.95      ,  4.66666667,  3.4       ,  1.36666667, 22.25      ,\n",
       "       16.9       , 12.96666667, 20.43333333, 10.53333333, 22.43333333,\n",
       "       19.56666667, 13.25      , 22.81666667, 13.28333333, 13.06666667,\n",
       "       11.5       ,  2.9       , 10.7       , 18.56666667, 22.18333333,\n",
       "       19.15      , 10.48333333, 16.        ,  5.86666667,  3.2       ,\n",
       "        4.05      , 10.2       ,  7.95      , 13.53333333,  6.2       ,\n",
       "       20.38333333, 22.4       , 11.08333333, 22.75      , 14.9       ,\n",
       "       12.7       ,  8.81666667,  4.53333333, 14.28333333, 11.8       ,\n",
       "       23.91666667, 21.03333333,  9.56666667, 11.01666667, 15.26666667,\n",
       "       18.73333333, 22.71666667, 17.75      ,  1.91666667, 10.41666667,\n",
       "        2.28333333, 19.58333333, 17.21666667, 12.45      , 16.7       ,\n",
       "       13.68333333, 22.61666667,  5.65      , 22.16666667,  8.21666667,\n",
       "        3.35      , 19.        ,  2.73333333,  0.28333333, 20.95      ,\n",
       "       19.38333333, 15.46666667,  4.        ,  0.13333333, 13.68333333,\n",
       "       12.85      ,  5.        ,  0.5       , 11.25      , 15.48333333,\n",
       "        2.03333333,  2.28333333, 20.8       , 12.63333333,  9.98333333,\n",
       "       17.63333333, 18.3       , 18.6       ,  8.58333333, 17.43333333,\n",
       "        2.18333333, 16.81666667, 19.        , 17.5       , 20.41666667,\n",
       "       10.26666667,  6.86666667, 18.21666667,  9.98333333,  4.16666667,\n",
       "       10.58333333,  1.93333333, 16.28333333, 17.81666667,  4.78333333,\n",
       "        5.48333333, 14.01666667, 11.13333333, 10.38333333, 12.06666667,\n",
       "        6.46666667, 18.78333333, 18.63333333,  8.3       ,  7.65      ,\n",
       "       12.31666667,  4.35      , 17.45      , 14.11666667, 23.11666667,\n",
       "       13.91666667, 15.73333333, 15.01666667, 20.16666667,  9.56666667,\n",
       "       23.73333333, 11.48333333, 14.68333333, 17.68333333,  5.05      ,\n",
       "        6.46666667, 12.31666667, 23.28333333, 23.66666667, 15.61666667,\n",
       "       19.08333333, 12.43333333,  2.31666667, 23.41666667, 13.18333333,\n",
       "       12.75      , 13.33333333,  6.43333333, 21.36666667,  3.48333333,\n",
       "        8.18333333,  9.86666667,  2.51666667, 17.23333333, 21.83333333,\n",
       "        3.16666667,  8.2       ,  2.28333333,  4.9       ,  7.35      ,\n",
       "        2.61666667, 19.38333333,  1.8       ,  4.18333333, 17.01666667,\n",
       "        6.38333333, 11.61666667, 11.4       ,  7.66666667, 19.93333333,\n",
       "       17.45      ,  2.25      ,  2.95      , 21.86666667, 20.25      ,\n",
       "        3.3       , 17.65      , 18.13333333,  9.03333333,  2.96666667,\n",
       "       19.48333333,  8.75      ,  8.5       , 17.2       , 12.11666667,\n",
       "        0.63333333, 13.21666667,  4.71666667, 10.01666667,  3.9       ,\n",
       "       22.75      , 16.68333333, 18.48333333, 15.3       ,  4.83333333,\n",
       "       20.81666667, 11.25      , 16.93333333,  8.4       ,  2.95      ,\n",
       "        3.88333333, 10.25      ,  7.76666667,  7.4       , 23.16666667,\n",
       "       22.78333333, 21.28333333, 21.31666667, 16.61666667,  3.35      ,\n",
       "        6.15      ,  5.26666667, 16.31666667, 20.03333333,  8.48333333,\n",
       "       11.05      , 19.88333333,  6.71666667,  7.41666667,  4.35      ,\n",
       "       17.75      , 14.35      , 21.36666667,  3.45      ,  3.85      ,\n",
       "        8.11666667, 18.13333333, 19.66666667, 11.73333333, 14.2       ])"
      ]
     },
     "execution_count": 17,
     "metadata": {},
     "output_type": "execute_result"
    }
   ],
   "source": [
    "transformer_3 = PolynomialFeatures(3, include_bias=True)\n",
    "new_features = transformer_3.fit_transform(X_train)\n"
   ]
  },
  {
   "cell_type": "markdown",
   "metadata": {},
   "source": [
    "A few notes on `PolynomialFeatures`:\n",
    "\n",
    "- The interface is a bit strange. `PolynomialFeatures` is a 'transformer' in sklearn. We'll be using several transformers that learn a transformation on the training data and then apply that transformation on future data. On these (more typical) transformers it makes sense to have a `.fit()` and a separate `.transform()`. With PolynomialFeatures, the `.fit()` is pretty trivial, and we often fit and transform in one command, as seen above.\n",
    "- You rarely want to `include_bias` (a column of all 1s), since sklearn will add it automatically and statsmodels can just `add_constant` right before you fit to the design matrix\n",
    "- If you want polynomial features for a several different variables, you should call `.fit_transform()` separately on each column and append all the results to the design matrix (unless you also want interaction terms between the newly-created features). See `np.concatenate` for joining arrays."
   ]
  },
  {
   "cell_type": "code",
   "execution_count": 8,
   "metadata": {},
   "outputs": [],
   "source": [
    "fitted_cab_model3 = LinearRegression().fit(new_features, y_train)\n",
    "plot_cabs(fitted_cab_model3, transformer_3)"
   ]
  },
  {
   "cell_type": "markdown",
   "metadata": {},
   "source": [
    "<div class=\"exercise\"><b>Exercise</b></div>\n",
    "\n",
    "**Questions**:\n",
    "1. Calculate the polynomial model's $R^2$ performance on the test set. \n",
    "2. Does the polynomial model improve on the purely linear model?\n",
    "3. Make a residual plot for the polynomial model. What does this plot tell us about the model?"
   ]
  },
  {
   "cell_type": "markdown",
   "metadata": {},
   "source": [
    "*your answer here*\n"
   ]
  },
  {
   "cell_type": "code",
   "execution_count": 9,
   "metadata": {},
   "outputs": [],
   "source": [
    "# your code here\n"
   ]
  },
  {
   "cell_type": "code",
   "execution_count": 40,
   "metadata": {},
   "outputs": [],
   "source": [
    "# your code here\n"
   ]
  },
  {
   "cell_type": "code",
   "execution_count": 41,
   "metadata": {},
   "outputs": [],
   "source": [
    "# your code here\n"
   ]
  },
  {
   "cell_type": "markdown",
   "metadata": {},
   "source": [
    "#### Other features\n",
    "Polynomial features are not the only constucted features that help fit the data. Because these data have a 24 hour cycle, we may want to build features that follow such a cycle. For example, $sin(24\\frac{x}{2\\pi})$, $sin(12\\frac{x}{2\\pi})$, $sin(8\\frac{x}{2\\pi})$. Other feature transformations are appropriate to other types of data. For instance certain feature transformations have been developed for geographical data."
   ]
  },
  {
   "cell_type": "markdown",
   "metadata": {},
   "source": [
    "<hr style=\"height:3px\">\n",
    "## Part 2: Multiple regression and exploring the Football data\n",
    "Let's move on to a truly interesting dataset. The data imported below were scraped by [Shubham Maurya](https://www.kaggle.com/mauryashubham/linear-regression-to-predict-market-value/data) and record various facts about players in the English Premier League. Our goal will be to fit models that predict the players' market value (what the player could earn when hired by a new team), as estimated by transfermrkt.com.\n",
    "\n",
    "`name`: Name of the player  \n",
    "`club`: Club of the player  \n",
    "`age` : Age of the player  \n",
    "`position` : The usual position on the pitch  \n",
    "`position_cat` :  1 for attackers, 2 for midfielders, 3 for defenders, 4 for goalkeepers  \n",
    "`market_value` : As on transfermrkt.com on July 20th, 2017  \n",
    "`page_views` : Average daily Wikipedia page views from September 1, 2016 to May 1, 2017  \n",
    "`fpl_value` : Value in Fantasy Premier League as on July 20th, 2017  \n",
    "`fpl_sel` : % of FPL players who have selected that player in their team  \n",
    "`fpl_points` : FPL points accumulated over the previous season  \n",
    "`region`: 1 for England, 2 for EU, 3 for Americas, 4 for Rest of World  \n",
    "`nationality`: Player's nationality  \n",
    "`new_foreign`: Whether a new signing from a different league, for 2017/18 (till 20th July)  \n",
    "`age_cat`: a categorical version of the Age feature  \n",
    "`club_id`: a numerical version of the Club feature  \n",
    "`big_club`: Whether one of the Top 6 clubs  \n",
    "`new_signing`: Whether a new signing for 2017/18 (till 20th July)  \n",
    "\n",
    "As always, we first import, verify, split, and explore the data.\n",
    "\n",
    "## Part 2.1: Import and verification and grouping"
   ]
  },
  {
   "cell_type": "code",
   "execution_count": 85,
   "metadata": {
    "scrolled": false
   },
   "outputs": [],
   "source": [
    "league_df = pd.read_csv(\"data/league_data.txt\")\n",
    "print(league_df.dtypes)\n",
    "league_df.head()"
   ]
  },
  {
   "cell_type": "code",
   "execution_count": 86,
   "metadata": {},
   "outputs": [],
   "source": [
    "league_df.shape"
   ]
  },
  {
   "cell_type": "code",
   "execution_count": 87,
   "metadata": {},
   "outputs": [],
   "source": [
    "league_df.describe()"
   ]
  },
  {
   "cell_type": "markdown",
   "metadata": {},
   "source": [
    "### (Stratified) train/test split\n",
    "We want to make sure that the training and test data have appropriate representation of each region; it would be bad for the training data to entirely miss a region. This is especially important because some regions are rather rare.\n",
    "\n",
    "<div class=\"exercise\"><b>Exercise</b></div>\n",
    "**Questions**:\n",
    "1. Use the `train_test_split` function to and its 'stratify' argument to split the data, keeping equal representation of each region (This will not work out of the box on this data. Deal with the resulting issue).\n",
    "2. Deal with the issue you encountered above.\n",
    "3. How did you deal with the error generated by `train_test_split`? How did you justify your action? "
   ]
  },
  {
   "cell_type": "markdown",
   "metadata": {},
   "source": [
    "*your answer here*:\n"
   ]
  },
  {
   "cell_type": "code",
   "execution_count": 88,
   "metadata": {},
   "outputs": [],
   "source": [
    "# your code here\n"
   ]
  },
  {
   "cell_type": "code",
   "execution_count": 89,
   "metadata": {},
   "outputs": [],
   "source": [
    "train_data.shape, test_data.shape"
   ]
  },
  {
   "cell_type": "markdown",
   "metadata": {},
   "source": [
    "Now that we won't be peeking at the test set, let's explore and look for patterns! We'll introduce a number of useful pandas and numpy functions along the way. "
   ]
  },
  {
   "cell_type": "markdown",
   "metadata": {},
   "source": [
    "### Groupby\n",
    "Pandas' `.groupby()` function is a wonderful tool for data analysis. It allows us to analyze each of several subgroups.\n",
    "\n",
    "Many times, `.groupby()` is combined with `.agg()` to get a summary statistic for each subgroup. For instance: What is the average market value, median page views, and maximum fpl for each player position?"
   ]
  },
  {
   "cell_type": "code",
   "execution_count": 90,
   "metadata": {
    "scrolled": false
   },
   "outputs": [],
   "source": [
    "train_data.groupby('position').agg({\n",
    "    'market_value': np.mean,\n",
    "    'page_views': np.median,\n",
    "    'fpl_points': np.max\n",
    "})"
   ]
  },
  {
   "cell_type": "code",
   "execution_count": 91,
   "metadata": {},
   "outputs": [],
   "source": [
    "train_data.position.unique()"
   ]
  },
  {
   "cell_type": "code",
   "execution_count": 92,
   "metadata": {},
   "outputs": [],
   "source": [
    "train_data.groupby(['big_club', 'position']).agg({\n",
    "    'market_value': np.mean,\n",
    "    'page_views': np.mean,\n",
    "    'fpl_points': np.mean\n",
    "})"
   ]
  },
  {
   "cell_type": "markdown",
   "metadata": {},
   "source": [
    "<hr style=\"height:3px\">\n",
    "## Part 2.2: Linear regression on the football data\n",
    "This section of the lab focuses on fitting a model to the football data and interpreting the model results. The model we'll use is\n",
    "\n",
    "$$\\text{market_value} \\approx \\beta_0 + \\beta_1\\text{fpl_points} + \\beta_2\\text{age} + \\beta_3\\text{age}^2 + \\beta_4log_2\\left(\\text{page_views}\\right) + \\beta_5\\text{new_signing} +\\beta_6\\text{big_club} + \\beta_7\\text{position_cat}$$\n",
    "\n",
    "We're including a 2nd degree polynomial in age because we expect pay to increase as a player gains experience, but then decrease as they continue aging. We're taking the log of page views because they have such a large, skewed range and the transformed variable will have fewer outliers that could bias the line. We choose the base of the log to be 2 just to make interpretation cleaner.\n",
    "\n",
    "<div class=\"exercise\"><b>Exercise</b></div>\n",
    "**Questions**:\n",
    "1. Build a design matrix function and fit this model to the training data. How good is the overall model?\n",
    "2. Interpret the regression model. What is the meaning of the coefficient for:\n",
    "    - age and age$^2$\n",
    "    - $log_2($page_views$)$\n",
    "    - big_club\n",
    "2. What should a player do in order to improve their market value? How many page views should a player go get to increase their market value by 10?"
   ]
  },
  {
   "cell_type": "code",
   "execution_count": 93,
   "metadata": {
    "scrolled": false
   },
   "outputs": [],
   "source": [
    "# your code here\n"
   ]
  },
  {
   "cell_type": "code",
   "execution_count": 94,
   "metadata": {},
   "outputs": [],
   "source": [
    "# your code here\n"
   ]
  },
  {
   "cell_type": "markdown",
   "metadata": {},
   "source": [
    "*your answer here*\n"
   ]
  },
  {
   "cell_type": "code",
   "execution_count": 95,
   "metadata": {},
   "outputs": [],
   "source": [
    "agecoef = fitted_model_1.params.age\n",
    "age2coef = fitted_model_1.params.age_squared"
   ]
  },
  {
   "cell_type": "code",
   "execution_count": 96,
   "metadata": {},
   "outputs": [],
   "source": [
    "x_vals = np.linspace(-100,100,1000)\n",
    "y_vals = agecoef*x_vals +age2coef*x_vals**2\n",
    "plt.plot(x_vals, y_vals)\n",
    "plt.title(\"Effect of Age\")\n",
    "plt.xlabel(\"Age\")\n",
    "plt.ylabel(\"Contribution to Predicted Market Value\")\n",
    "plt.show()"
   ]
  },
  {
   "cell_type": "markdown",
   "metadata": {},
   "source": [
    "<hr style='height:3px'>\n",
    "### Part 2.3: Turning Categorical Variables into multiple binary variables\n",
    "Of course, we have an error in how we've included player position. Even though the variable is numeric (1,2,3,4) and the model runs without issue, the value we're getting back is garbage. The interpretation, such as it is, is that there is an equal effect of moving from position category 1 to 2, from 2 to 3, and from 3 to 4, and that this effect is about -.61.\n",
    "\n",
    "In reality, we don't expect moving from one position category to another to be equivalent, nor for a move from category 1 to category 3 to be twice as important as a move from category 1 to category 2. We need to introduce better features to model this variable.\n",
    "\n",
    "We'll use `pd.get_dummies` to do the work for us."
   ]
  },
  {
   "cell_type": "code",
   "execution_count": 97,
   "metadata": {},
   "outputs": [],
   "source": [
    "train_design_recoded = pd.get_dummies(train_design, columns=['position_cat'], drop_first=True)\n",
    "test_design_recoded = pd.get_dummies(test_design, columns=['position_cat'], drop_first=True)\n",
    "\n",
    "train_design_recoded.head()"
   ]
  },
  {
   "cell_type": "markdown",
   "metadata": {},
   "source": [
    "We've removed the original `position_cat` column and created three new ones.\n",
    "\n",
    "#### Why only three new columns?\n",
    "Why does pandas give us the option to drop the first category? \n",
    "\n",
    "<div class=\"exercise\"><b>Exercise</b></div>\n",
    "**Questions**:\n",
    "1. If we're fitting a model without a constant, should we have three dummy columns or four dummy columns?\n",
    "2. Fit a model and interpret the coefficient of `position_cat_2`.\n"
   ]
  },
  {
   "cell_type": "code",
   "execution_count": 109,
   "metadata": {},
   "outputs": [],
   "source": [
    "resu = OLS(y_train, train_design_recoded).fit()\n",
    "resu.summary()"
   ]
  },
  {
   "cell_type": "code",
   "execution_count": 110,
   "metadata": {},
   "outputs": [],
   "source": [
    "r2_score(y_test, resu.predict(test_design_recoded))"
   ]
  },
  {
   "cell_type": "code",
   "execution_count": 99,
   "metadata": {},
   "outputs": [],
   "source": [
    "train_design_recoded.shape, y_train.shape"
   ]
  },
  {
   "cell_type": "markdown",
   "metadata": {},
   "source": [
    "**Answers**:\n",
    "1. If our model does not have a constant, we must include all four dummy variable columns. If we drop one, we're not modeling any effect of being in that category, and effectively assuming the dropped category's effect is 0.\n",
    "2. Being in position 2 (instead of position 1) has an impact between -1.54 and +2.38 on a player's market value. Since we're using an intercept, the dropped category becomes the baseline and the effect of any dummy variable is the effect of being in that category instead of the baseline category."
   ]
  },
  {
   "cell_type": "markdown",
   "metadata": {},
   "source": [
    "## Part 3: A nice trick for forward-backwards\n",
    "\n",
    "XOR (operator ^) is a logical operation that only returns true when input differ. We can use it to implement forward-or-backwards selection when we want to keep track of whet predictors are \"left\" from a given list of predictors.\n",
    "\n",
    "The set analog is \"symmetric difference\". From the python docs:\n",
    "\n",
    "`s.symmetric_difference(t)\ts ^ t\tnew set with elements in either s or t but not both`\n"
   ]
  },
  {
   "cell_type": "code",
   "execution_count": 139,
   "metadata": {},
   "outputs": [],
   "source": [
    "set() ^ set([1,2,3])"
   ]
  },
  {
   "cell_type": "code",
   "execution_count": 140,
   "metadata": {},
   "outputs": [],
   "source": [
    "set([1]) ^ set([1,2,3])"
   ]
  },
  {
   "cell_type": "code",
   "execution_count": 141,
   "metadata": {},
   "outputs": [],
   "source": [
    "set([1, 2]) ^ set([1,2,3])"
   ]
  },
  {
   "cell_type": "markdown",
   "metadata": {},
   "source": [
    "<div class=\"exercise\"><b>Exercise</b></div>\n",
    "\n",
    "Outline a step-forwards algorithm which uses this idea"
   ]
  },
  {
   "cell_type": "markdown",
   "metadata": {},
   "source": [
    "*your answer here*\n"
   ]
  }
 ],
 "metadata": {
  "kernelspec": {
   "display_name": "Python 3",
   "language": "python",
   "name": "python3"
  },
  "language_info": {
   "codemirror_mode": {
    "name": "ipython",
    "version": 3
   },
   "file_extension": ".py",
   "mimetype": "text/x-python",
   "name": "python",
   "nbconvert_exporter": "python",
   "pygments_lexer": "ipython3",
   "version": "3.6.5"
  }
 },
 "nbformat": 4,
 "nbformat_minor": 2
}
