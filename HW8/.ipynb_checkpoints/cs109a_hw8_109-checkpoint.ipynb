{
 "cells": [
  {
   "cell_type": "markdown",
   "metadata": {},
   "source": [
    "# <img style=\"float: left; padding-right: 10px; width: 45px\" src=\"https://raw.githubusercontent.com/Harvard-IACS/2018-CS109A/master/content/styles/iacs.png\"> CS109A Introduction to Data Science: \n",
    "\n",
    "## Homework 8: Ensembles: Bagging, Random Forests, and Boosting\n",
    "\n",
    "\n",
    "**Harvard University**<br/>\n",
    "**Fall 2018**<br/>\n",
    "**Instructors**: Pavlos Protopapas, Kevin Rader\n",
    "\n",
    "<hr style=\"height:2pt\">\n",
    "\n"
   ]
  },
  {
   "cell_type": "code",
   "execution_count": 1,
   "metadata": {},
   "outputs": [
    {
     "data": {
      "text/html": [
       "<style>\n",
       "blockquote { background: #AEDE94; }\n",
       "h1 { \n",
       "    padding-top: 25px;\n",
       "    padding-bottom: 25px;\n",
       "    text-align: left; \n",
       "    padding-left: 10px;\n",
       "    background-color: #DDDDDD; \n",
       "    color: black;\n",
       "}\n",
       "h2 { \n",
       "    padding-top: 10px;\n",
       "    padding-bottom: 10px;\n",
       "    text-align: left; \n",
       "    padding-left: 5px;\n",
       "    background-color: #EEEEEE; \n",
       "    color: black;\n",
       "}\n",
       "\n",
       "div.exercise {\n",
       "\tbackground-color: #ffcccc;\n",
       "\tborder-color: #E9967A; \t\n",
       "\tborder-left: 5px solid #800080; \n",
       "\tpadding: 0.5em;\n",
       "}\n",
       "div.theme {\n",
       "\tbackground-color: #DDDDDD;\n",
       "\tborder-color: #E9967A; \t\n",
       "\tborder-left: 5px solid #800080; \n",
       "\tpadding: 0.5em;\n",
       "\tfont-size: 18pt;\n",
       "}\n",
       "div.gc { \n",
       "\tbackground-color: #AEDE94;\n",
       "\tborder-color: #E9967A; \t \n",
       "\tborder-left: 5px solid #800080; \n",
       "\tpadding: 0.5em;\n",
       "\tfont-size: 12pt;\n",
       "}\n",
       "p.q1 { \n",
       "    padding-top: 5px;\n",
       "    padding-bottom: 5px;\n",
       "    text-align: left; \n",
       "    padding-left: 5px;\n",
       "    background-color: #EEEEEE; \n",
       "    color: black;\n",
       "}\n",
       "header {\n",
       "   padding-top: 35px;\n",
       "    padding-bottom: 35px;\n",
       "    text-align: left; \n",
       "    padding-left: 10px;\n",
       "    background-color: #DDDDDD; \n",
       "    color: black;\n",
       "}\n",
       "</style>\n",
       "\n"
      ],
      "text/plain": [
       "<IPython.core.display.HTML object>"
      ]
     },
     "execution_count": 1,
     "metadata": {},
     "output_type": "execute_result"
    }
   ],
   "source": [
    "#RUN THIS CELL \n",
    "import requests\n",
    "from IPython.core.display import HTML\n",
    "styles = requests.get(\"https://raw.githubusercontent.com/Harvard-IACS/2018-CS109A/master/content/styles/cs109.css\").text\n",
    "HTML(styles)"
   ]
  },
  {
   "cell_type": "markdown",
   "metadata": {},
   "source": [
    "### INSTRUCTIONS\n",
    "\n",
    "- To submit your assignment follow the [instructions given in Canvas](https://canvas.harvard.edu/courses/42693/pages/homework-policies-and-submission-instructions).\n",
    "\n",
    "- If needed, clarifications will be posted on Piazza.\n",
    "\n",
    "- This homework can be submitted in pairs.\n",
    "\n",
    "- If you submit individually but you have worked with someone, please include the name of your **one** partner below. \n",
    "\n",
    "\n",
    "**Name of the person you have worked with goes here:**\n",
    "<br><BR>"
   ]
  },
  {
   "cell_type": "markdown",
   "metadata": {},
   "source": [
    "## Learning Objectives\n",
    "Completing this assignment will demonstrate success at the following objectives:\n",
    "\n",
    "- Statistical\n",
    "  - Predict when bagging will help model performance.\n",
    "  - Identify how Random Forests improve over bagging.\n",
    "  - Predict when boosting will help model performance.\n",
    "  - Compare and contrast bagging and boosting.\n",
    "- Coding\n",
    "  - Identify and fix problems in poorly written code\n",
    "- Communication\n",
    "  - Visually explain a complex concept"
   ]
  },
  {
   "cell_type": "code",
   "execution_count": 2,
   "metadata": {},
   "outputs": [],
   "source": [
    "import numpy as np\n",
    "import pandas as pd\n",
    "import matplotlib.pyplot as plt\n",
    "\n",
    "from sklearn.model_selection import cross_val_score\n",
    "from sklearn.utils import resample\n",
    "from sklearn.tree import DecisionTreeClassifier\n",
    "from sklearn.ensemble import RandomForestClassifier\n",
    "from sklearn.ensemble import AdaBoostClassifier\n",
    "from sklearn.metrics import accuracy_score\n",
    "\n",
    "%matplotlib inline\n",
    "\n",
    "import seaborn as sns\n",
    "sns.set(style='whitegrid')\n",
    "pd.set_option('display.width', 1500)\n",
    "pd.set_option('display.max_columns', 100)"
   ]
  },
  {
   "cell_type": "markdown",
   "metadata": {},
   "source": [
    "<div class=\"theme\"> Overview: Higgs Boson Discovery </div>\n",
    "\n",
    "The discovery of the Higgs boson in July 2012 marked a fundamental breakthrough in particle physics. The Higgs boson particle was discovered through experiments at the Large Hadron Collider at CERN, by colliding beams of protons at high energy. A key challenge in analyzing the results of these experiments is to differentiate between collisions that produce Higgs bosons and collisions that produce only background noise. We shall explore the use of ensemble methods for this classification task.\n",
    "\n",
    "You are provided with data from Monte-Carlo simulations of collisions of particles in a particle collider experiment. The training set is available in `Higgs_train.csv` and the test set is in `Higgs_test.csv`. Each row in these files corresponds to a particle collision described by 28 features (columns 1-28), of which the first 21 features are kinematic properties measured by the particle detectors in the accelerator, and the remaining features are derived by physicists from the first 21 features. The class label is provided in the last column, with a label of 1 indicating that the collision produces Higgs bosons (signal), and a label of 0 indicating that the collision produces other particles (background).\n",
    "\n",
    "The data set provided to you is a small subset of the HIGGS data set in the UCI machine learning repository. The following paper contains further details about the data set and the predictors used: [Baldi et al., Nature Communications 5, 2014](https://www.nature.com/articles/ncomms5308)."
   ]
  },
  {
   "cell_type": "code",
   "execution_count": 4,
   "metadata": {},
   "outputs": [
    {
     "name": "stdout",
     "output_type": "stream",
     "text": [
      "5000 training samples, 5000 test samples\n",
      "\n",
      "Columns:\n",
      "lepton pT, lepton eta, lepton phi, missing energy magnitude, missing energy phi, jet 1 pt, jet 1 eta, jet 1 phi, jet 1 b-tag, jet 2 pt, jet 2 eta, jet 2 phi, jet 2 b-tag, jet 3 pt, jet 3 eta, jet 3 phi, jet 3 b-tag, jet 4 pt, jet 4 eta, jet 4 phi, jet 4 b-tag, m_jj, m_jjj, m_lv, m_jlv, m_bb, m_wbb, m_wwbb, class\n"
     ]
    }
   ],
   "source": [
    "# Load data\n",
    "data_train = pd.read_csv('data/Higgs_train.csv')\n",
    "data_test = pd.read_csv('data/Higgs_test.csv')\n",
    "\n",
    "print(f\"{len(data_train)} training samples, {len(data_test)} test samples\")\n",
    "print(\"\\nColumns:\")\n",
    "print(', '.join(data_train.columns))"
   ]
  },
  {
   "cell_type": "code",
   "execution_count": 5,
   "metadata": {
    "scrolled": false
   },
   "outputs": [
    {
     "data": {
      "text/html": [
       "<div>\n",
       "<style scoped>\n",
       "    .dataframe tbody tr th:only-of-type {\n",
       "        vertical-align: middle;\n",
       "    }\n",
       "\n",
       "    .dataframe tbody tr th {\n",
       "        vertical-align: top;\n",
       "    }\n",
       "\n",
       "    .dataframe thead th {\n",
       "        text-align: right;\n",
       "    }\n",
       "</style>\n",
       "<table border=\"1\" class=\"dataframe\">\n",
       "  <thead>\n",
       "    <tr style=\"text-align: right;\">\n",
       "      <th></th>\n",
       "      <th>lepton pT</th>\n",
       "      <th>lepton eta</th>\n",
       "      <th>lepton phi</th>\n",
       "      <th>missing energy magnitude</th>\n",
       "      <th>missing energy phi</th>\n",
       "      <th>jet 1 pt</th>\n",
       "      <th>jet 1 eta</th>\n",
       "      <th>jet 1 phi</th>\n",
       "      <th>jet 1 b-tag</th>\n",
       "      <th>jet 2 pt</th>\n",
       "      <th>jet 2 eta</th>\n",
       "      <th>jet 2 phi</th>\n",
       "      <th>jet 2 b-tag</th>\n",
       "      <th>jet 3 pt</th>\n",
       "      <th>jet 3 eta</th>\n",
       "      <th>jet 3 phi</th>\n",
       "      <th>jet 3 b-tag</th>\n",
       "      <th>jet 4 pt</th>\n",
       "      <th>jet 4 eta</th>\n",
       "      <th>jet 4 phi</th>\n",
       "      <th>jet 4 b-tag</th>\n",
       "      <th>m_jj</th>\n",
       "      <th>m_jjj</th>\n",
       "      <th>m_lv</th>\n",
       "      <th>m_jlv</th>\n",
       "      <th>m_bb</th>\n",
       "      <th>m_wbb</th>\n",
       "      <th>m_wwbb</th>\n",
       "      <th>class</th>\n",
       "    </tr>\n",
       "  </thead>\n",
       "  <tbody>\n",
       "    <tr>\n",
       "      <th>0</th>\n",
       "      <td>0.377</td>\n",
       "      <td>-1.5800</td>\n",
       "      <td>-1.7100</td>\n",
       "      <td>0.991</td>\n",
       "      <td>0.114</td>\n",
       "      <td>1.250</td>\n",
       "      <td>0.620</td>\n",
       "      <td>-1.480</td>\n",
       "      <td>2.17</td>\n",
       "      <td>0.754</td>\n",
       "      <td>0.7750</td>\n",
       "      <td>-0.667</td>\n",
       "      <td>2.21</td>\n",
       "      <td>1.280</td>\n",
       "      <td>-1.190</td>\n",
       "      <td>0.505</td>\n",
       "      <td>0.00</td>\n",
       "      <td>1.110</td>\n",
       "      <td>-0.464</td>\n",
       "      <td>0.397</td>\n",
       "      <td>0.00</td>\n",
       "      <td>0.522</td>\n",
       "      <td>1.320</td>\n",
       "      <td>0.982</td>\n",
       "      <td>1.360</td>\n",
       "      <td>0.965</td>\n",
       "      <td>1.310</td>\n",
       "      <td>1.080</td>\n",
       "      <td>1.0</td>\n",
       "    </tr>\n",
       "    <tr>\n",
       "      <th>1</th>\n",
       "      <td>0.707</td>\n",
       "      <td>0.0876</td>\n",
       "      <td>-0.4000</td>\n",
       "      <td>0.919</td>\n",
       "      <td>-1.230</td>\n",
       "      <td>1.170</td>\n",
       "      <td>-0.553</td>\n",
       "      <td>0.886</td>\n",
       "      <td>2.17</td>\n",
       "      <td>1.300</td>\n",
       "      <td>0.7620</td>\n",
       "      <td>-1.060</td>\n",
       "      <td>2.21</td>\n",
       "      <td>0.607</td>\n",
       "      <td>0.459</td>\n",
       "      <td>1.020</td>\n",
       "      <td>0.00</td>\n",
       "      <td>0.497</td>\n",
       "      <td>0.956</td>\n",
       "      <td>0.236</td>\n",
       "      <td>0.00</td>\n",
       "      <td>0.440</td>\n",
       "      <td>0.829</td>\n",
       "      <td>0.992</td>\n",
       "      <td>1.160</td>\n",
       "      <td>2.220</td>\n",
       "      <td>1.190</td>\n",
       "      <td>0.938</td>\n",
       "      <td>1.0</td>\n",
       "    </tr>\n",
       "    <tr>\n",
       "      <th>2</th>\n",
       "      <td>0.617</td>\n",
       "      <td>0.2660</td>\n",
       "      <td>-1.3500</td>\n",
       "      <td>1.150</td>\n",
       "      <td>1.040</td>\n",
       "      <td>0.955</td>\n",
       "      <td>0.377</td>\n",
       "      <td>-0.148</td>\n",
       "      <td>0.00</td>\n",
       "      <td>1.060</td>\n",
       "      <td>-0.0194</td>\n",
       "      <td>1.110</td>\n",
       "      <td>0.00</td>\n",
       "      <td>1.470</td>\n",
       "      <td>0.205</td>\n",
       "      <td>-1.060</td>\n",
       "      <td>2.55</td>\n",
       "      <td>1.490</td>\n",
       "      <td>-0.398</td>\n",
       "      <td>-0.542</td>\n",
       "      <td>0.00</td>\n",
       "      <td>1.020</td>\n",
       "      <td>1.030</td>\n",
       "      <td>0.986</td>\n",
       "      <td>0.928</td>\n",
       "      <td>1.370</td>\n",
       "      <td>0.982</td>\n",
       "      <td>0.917</td>\n",
       "      <td>1.0</td>\n",
       "    </tr>\n",
       "    <tr>\n",
       "      <th>3</th>\n",
       "      <td>0.851</td>\n",
       "      <td>-0.3810</td>\n",
       "      <td>-0.0713</td>\n",
       "      <td>1.470</td>\n",
       "      <td>-0.795</td>\n",
       "      <td>0.692</td>\n",
       "      <td>0.883</td>\n",
       "      <td>0.497</td>\n",
       "      <td>0.00</td>\n",
       "      <td>1.620</td>\n",
       "      <td>0.1240</td>\n",
       "      <td>1.180</td>\n",
       "      <td>1.11</td>\n",
       "      <td>1.290</td>\n",
       "      <td>0.160</td>\n",
       "      <td>-0.916</td>\n",
       "      <td>2.55</td>\n",
       "      <td>0.945</td>\n",
       "      <td>0.796</td>\n",
       "      <td>-1.520</td>\n",
       "      <td>0.00</td>\n",
       "      <td>1.200</td>\n",
       "      <td>1.100</td>\n",
       "      <td>0.987</td>\n",
       "      <td>1.350</td>\n",
       "      <td>1.460</td>\n",
       "      <td>0.995</td>\n",
       "      <td>0.954</td>\n",
       "      <td>1.0</td>\n",
       "    </tr>\n",
       "    <tr>\n",
       "      <th>4</th>\n",
       "      <td>0.768</td>\n",
       "      <td>-0.6920</td>\n",
       "      <td>-0.0402</td>\n",
       "      <td>0.615</td>\n",
       "      <td>0.144</td>\n",
       "      <td>0.749</td>\n",
       "      <td>0.397</td>\n",
       "      <td>-0.874</td>\n",
       "      <td>0.00</td>\n",
       "      <td>1.150</td>\n",
       "      <td>0.1270</td>\n",
       "      <td>1.320</td>\n",
       "      <td>2.21</td>\n",
       "      <td>0.730</td>\n",
       "      <td>-0.758</td>\n",
       "      <td>-1.120</td>\n",
       "      <td>0.00</td>\n",
       "      <td>0.848</td>\n",
       "      <td>0.107</td>\n",
       "      <td>0.502</td>\n",
       "      <td>1.55</td>\n",
       "      <td>0.922</td>\n",
       "      <td>0.864</td>\n",
       "      <td>0.983</td>\n",
       "      <td>1.370</td>\n",
       "      <td>0.601</td>\n",
       "      <td>0.919</td>\n",
       "      <td>0.957</td>\n",
       "      <td>0.0</td>\n",
       "    </tr>\n",
       "  </tbody>\n",
       "</table>\n",
       "</div>"
      ],
      "text/plain": [
       "   lepton pT  lepton eta  lepton phi  missing energy magnitude  missing energy phi  jet 1 pt  jet 1 eta  jet 1 phi  jet 1 b-tag  jet 2 pt  jet 2 eta  jet 2 phi  jet 2 b-tag  jet 3 pt  jet 3 eta  jet 3 phi  jet 3 b-tag  jet 4 pt  jet 4 eta  jet 4 phi  jet 4 b-tag   m_jj  m_jjj   m_lv  m_jlv   m_bb  m_wbb  m_wwbb  class\n",
       "0      0.377     -1.5800     -1.7100                     0.991               0.114     1.250      0.620     -1.480         2.17     0.754     0.7750     -0.667         2.21     1.280     -1.190      0.505         0.00     1.110     -0.464      0.397         0.00  0.522  1.320  0.982  1.360  0.965  1.310   1.080    1.0\n",
       "1      0.707      0.0876     -0.4000                     0.919              -1.230     1.170     -0.553      0.886         2.17     1.300     0.7620     -1.060         2.21     0.607      0.459      1.020         0.00     0.497      0.956      0.236         0.00  0.440  0.829  0.992  1.160  2.220  1.190   0.938    1.0\n",
       "2      0.617      0.2660     -1.3500                     1.150               1.040     0.955      0.377     -0.148         0.00     1.060    -0.0194      1.110         0.00     1.470      0.205     -1.060         2.55     1.490     -0.398     -0.542         0.00  1.020  1.030  0.986  0.928  1.370  0.982   0.917    1.0\n",
       "3      0.851     -0.3810     -0.0713                     1.470              -0.795     0.692      0.883      0.497         0.00     1.620     0.1240      1.180         1.11     1.290      0.160     -0.916         2.55     0.945      0.796     -1.520         0.00  1.200  1.100  0.987  1.350  1.460  0.995   0.954    1.0\n",
       "4      0.768     -0.6920     -0.0402                     0.615               0.144     0.749      0.397     -0.874         0.00     1.150     0.1270      1.320         2.21     0.730     -0.758     -1.120         0.00     0.848      0.107      0.502         1.55  0.922  0.864  0.983  1.370  0.601  0.919   0.957    0.0"
      ]
     },
     "metadata": {},
     "output_type": "display_data"
    },
    {
     "data": {
      "text/html": [
       "<div>\n",
       "<style scoped>\n",
       "    .dataframe tbody tr th:only-of-type {\n",
       "        vertical-align: middle;\n",
       "    }\n",
       "\n",
       "    .dataframe tbody tr th {\n",
       "        vertical-align: top;\n",
       "    }\n",
       "\n",
       "    .dataframe thead th {\n",
       "        text-align: right;\n",
       "    }\n",
       "</style>\n",
       "<table border=\"1\" class=\"dataframe\">\n",
       "  <thead>\n",
       "    <tr style=\"text-align: right;\">\n",
       "      <th></th>\n",
       "      <th>lepton pT</th>\n",
       "      <th>lepton eta</th>\n",
       "      <th>lepton phi</th>\n",
       "      <th>missing energy magnitude</th>\n",
       "      <th>missing energy phi</th>\n",
       "      <th>jet 1 pt</th>\n",
       "      <th>jet 1 eta</th>\n",
       "      <th>jet 1 phi</th>\n",
       "      <th>jet 1 b-tag</th>\n",
       "      <th>jet 2 pt</th>\n",
       "      <th>jet 2 eta</th>\n",
       "      <th>jet 2 phi</th>\n",
       "      <th>jet 2 b-tag</th>\n",
       "      <th>jet 3 pt</th>\n",
       "      <th>jet 3 eta</th>\n",
       "      <th>jet 3 phi</th>\n",
       "      <th>jet 3 b-tag</th>\n",
       "      <th>jet 4 pt</th>\n",
       "      <th>jet 4 eta</th>\n",
       "      <th>jet 4 phi</th>\n",
       "      <th>jet 4 b-tag</th>\n",
       "      <th>m_jj</th>\n",
       "      <th>m_jjj</th>\n",
       "      <th>m_lv</th>\n",
       "      <th>m_jlv</th>\n",
       "      <th>m_bb</th>\n",
       "      <th>m_wbb</th>\n",
       "      <th>m_wwbb</th>\n",
       "      <th>class</th>\n",
       "    </tr>\n",
       "  </thead>\n",
       "  <tbody>\n",
       "    <tr>\n",
       "      <th>count</th>\n",
       "      <td>5000.000000</td>\n",
       "      <td>5000.000000</td>\n",
       "      <td>5000.000000</td>\n",
       "      <td>5000.000000</td>\n",
       "      <td>5000.000000</td>\n",
       "      <td>5000.000000</td>\n",
       "      <td>5000.000000</td>\n",
       "      <td>5000.000000</td>\n",
       "      <td>5000.000000</td>\n",
       "      <td>5000.000000</td>\n",
       "      <td>5000.000000</td>\n",
       "      <td>5000.000000</td>\n",
       "      <td>5000.000000</td>\n",
       "      <td>5000.000000</td>\n",
       "      <td>5000.000000</td>\n",
       "      <td>5000.000000</td>\n",
       "      <td>5000.000000</td>\n",
       "      <td>5000.000000</td>\n",
       "      <td>5000.000000</td>\n",
       "      <td>5000.000000</td>\n",
       "      <td>5000.000000</td>\n",
       "      <td>5000.000000</td>\n",
       "      <td>5000.000000</td>\n",
       "      <td>5000.000000</td>\n",
       "      <td>5000.000000</td>\n",
       "      <td>5000.000000</td>\n",
       "      <td>5000.000000</td>\n",
       "      <td>5000.000000</td>\n",
       "      <td>5000.000000</td>\n",
       "    </tr>\n",
       "    <tr>\n",
       "      <th>mean</th>\n",
       "      <td>0.978645</td>\n",
       "      <td>-0.014280</td>\n",
       "      <td>-0.018956</td>\n",
       "      <td>1.005793</td>\n",
       "      <td>0.002528</td>\n",
       "      <td>0.980390</td>\n",
       "      <td>0.025014</td>\n",
       "      <td>-0.007104</td>\n",
       "      <td>0.993678</td>\n",
       "      <td>0.988659</td>\n",
       "      <td>-0.010310</td>\n",
       "      <td>-0.006926</td>\n",
       "      <td>1.006922</td>\n",
       "      <td>0.997004</td>\n",
       "      <td>0.018817</td>\n",
       "      <td>0.003952</td>\n",
       "      <td>1.011994</td>\n",
       "      <td>0.982806</td>\n",
       "      <td>0.005201</td>\n",
       "      <td>0.003349</td>\n",
       "      <td>1.007810</td>\n",
       "      <td>1.038431</td>\n",
       "      <td>1.027201</td>\n",
       "      <td>1.054719</td>\n",
       "      <td>1.023094</td>\n",
       "      <td>0.958464</td>\n",
       "      <td>1.033432</td>\n",
       "      <td>0.960494</td>\n",
       "      <td>0.524600</td>\n",
       "    </tr>\n",
       "    <tr>\n",
       "      <th>std</th>\n",
       "      <td>0.547025</td>\n",
       "      <td>1.011927</td>\n",
       "      <td>0.997945</td>\n",
       "      <td>0.591907</td>\n",
       "      <td>1.003337</td>\n",
       "      <td>0.463677</td>\n",
       "      <td>1.002018</td>\n",
       "      <td>1.014559</td>\n",
       "      <td>1.028920</td>\n",
       "      <td>0.476462</td>\n",
       "      <td>1.007983</td>\n",
       "      <td>1.002177</td>\n",
       "      <td>1.045206</td>\n",
       "      <td>0.471681</td>\n",
       "      <td>1.007824</td>\n",
       "      <td>0.999656</td>\n",
       "      <td>1.200416</td>\n",
       "      <td>0.497681</td>\n",
       "      <td>1.007999</td>\n",
       "      <td>1.008904</td>\n",
       "      <td>1.400846</td>\n",
       "      <td>0.619460</td>\n",
       "      <td>0.353984</td>\n",
       "      <td>0.173243</td>\n",
       "      <td>0.427141</td>\n",
       "      <td>0.495720</td>\n",
       "      <td>0.352966</td>\n",
       "      <td>0.306057</td>\n",
       "      <td>0.499444</td>\n",
       "    </tr>\n",
       "    <tr>\n",
       "      <th>min</th>\n",
       "      <td>0.275000</td>\n",
       "      <td>-2.410000</td>\n",
       "      <td>-1.740000</td>\n",
       "      <td>0.010000</td>\n",
       "      <td>-1.740000</td>\n",
       "      <td>0.170000</td>\n",
       "      <td>-2.920000</td>\n",
       "      <td>-1.740000</td>\n",
       "      <td>0.000000</td>\n",
       "      <td>0.198000</td>\n",
       "      <td>-2.910000</td>\n",
       "      <td>-1.740000</td>\n",
       "      <td>0.000000</td>\n",
       "      <td>0.265000</td>\n",
       "      <td>-2.720000</td>\n",
       "      <td>-1.740000</td>\n",
       "      <td>0.000000</td>\n",
       "      <td>0.366000</td>\n",
       "      <td>-2.500000</td>\n",
       "      <td>-1.740000</td>\n",
       "      <td>0.000000</td>\n",
       "      <td>0.151000</td>\n",
       "      <td>0.443000</td>\n",
       "      <td>0.339000</td>\n",
       "      <td>0.371000</td>\n",
       "      <td>0.079500</td>\n",
       "      <td>0.413000</td>\n",
       "      <td>0.452000</td>\n",
       "      <td>0.000000</td>\n",
       "    </tr>\n",
       "    <tr>\n",
       "      <th>25%</th>\n",
       "      <td>0.587000</td>\n",
       "      <td>-0.764250</td>\n",
       "      <td>-0.877500</td>\n",
       "      <td>0.581000</td>\n",
       "      <td>-0.870000</td>\n",
       "      <td>0.676000</td>\n",
       "      <td>-0.659250</td>\n",
       "      <td>-0.885000</td>\n",
       "      <td>0.000000</td>\n",
       "      <td>0.666000</td>\n",
       "      <td>-0.699000</td>\n",
       "      <td>-0.859500</td>\n",
       "      <td>0.000000</td>\n",
       "      <td>0.664750</td>\n",
       "      <td>-0.679250</td>\n",
       "      <td>-0.858000</td>\n",
       "      <td>0.000000</td>\n",
       "      <td>0.619000</td>\n",
       "      <td>-0.707250</td>\n",
       "      <td>-0.869250</td>\n",
       "      <td>0.000000</td>\n",
       "      <td>0.798750</td>\n",
       "      <td>0.850000</td>\n",
       "      <td>0.986000</td>\n",
       "      <td>0.768000</td>\n",
       "      <td>0.672000</td>\n",
       "      <td>0.826000</td>\n",
       "      <td>0.772750</td>\n",
       "      <td>0.000000</td>\n",
       "    </tr>\n",
       "    <tr>\n",
       "      <th>50%</th>\n",
       "      <td>0.846000</td>\n",
       "      <td>-0.009305</td>\n",
       "      <td>-0.016050</td>\n",
       "      <td>0.903500</td>\n",
       "      <td>0.001300</td>\n",
       "      <td>0.891000</td>\n",
       "      <td>0.049500</td>\n",
       "      <td>-0.023500</td>\n",
       "      <td>1.090000</td>\n",
       "      <td>0.891000</td>\n",
       "      <td>-0.004800</td>\n",
       "      <td>-0.030700</td>\n",
       "      <td>1.110000</td>\n",
       "      <td>0.899500</td>\n",
       "      <td>0.045700</td>\n",
       "      <td>0.018800</td>\n",
       "      <td>0.000000</td>\n",
       "      <td>0.877000</td>\n",
       "      <td>0.012900</td>\n",
       "      <td>-0.004700</td>\n",
       "      <td>0.000000</td>\n",
       "      <td>0.898000</td>\n",
       "      <td>0.957000</td>\n",
       "      <td>0.990000</td>\n",
       "      <td>0.922000</td>\n",
       "      <td>0.868000</td>\n",
       "      <td>0.952000</td>\n",
       "      <td>0.877500</td>\n",
       "      <td>1.000000</td>\n",
       "    </tr>\n",
       "    <tr>\n",
       "      <th>75%</th>\n",
       "      <td>1.220000</td>\n",
       "      <td>0.725500</td>\n",
       "      <td>0.837000</td>\n",
       "      <td>1.300000</td>\n",
       "      <td>0.866000</td>\n",
       "      <td>1.160000</td>\n",
       "      <td>0.716000</td>\n",
       "      <td>0.894000</td>\n",
       "      <td>2.170000</td>\n",
       "      <td>1.192500</td>\n",
       "      <td>0.692250</td>\n",
       "      <td>0.855500</td>\n",
       "      <td>2.210000</td>\n",
       "      <td>1.232500</td>\n",
       "      <td>0.717000</td>\n",
       "      <td>0.855000</td>\n",
       "      <td>2.550000</td>\n",
       "      <td>1.220000</td>\n",
       "      <td>0.719000</td>\n",
       "      <td>0.859000</td>\n",
       "      <td>3.100000</td>\n",
       "      <td>1.030000</td>\n",
       "      <td>1.090000</td>\n",
       "      <td>1.030000</td>\n",
       "      <td>1.160000</td>\n",
       "      <td>1.120000</td>\n",
       "      <td>1.140000</td>\n",
       "      <td>1.060000</td>\n",
       "      <td>1.000000</td>\n",
       "    </tr>\n",
       "    <tr>\n",
       "      <th>max</th>\n",
       "      <td>5.330000</td>\n",
       "      <td>2.430000</td>\n",
       "      <td>1.740000</td>\n",
       "      <td>6.260000</td>\n",
       "      <td>1.740000</td>\n",
       "      <td>4.190000</td>\n",
       "      <td>2.960000</td>\n",
       "      <td>1.740000</td>\n",
       "      <td>2.170000</td>\n",
       "      <td>4.800000</td>\n",
       "      <td>2.910000</td>\n",
       "      <td>1.740000</td>\n",
       "      <td>2.210000</td>\n",
       "      <td>4.630000</td>\n",
       "      <td>2.730000</td>\n",
       "      <td>1.740000</td>\n",
       "      <td>2.550000</td>\n",
       "      <td>5.770000</td>\n",
       "      <td>2.490000</td>\n",
       "      <td>1.740000</td>\n",
       "      <td>3.100000</td>\n",
       "      <td>10.600000</td>\n",
       "      <td>5.740000</td>\n",
       "      <td>3.940000</td>\n",
       "      <td>6.220000</td>\n",
       "      <td>5.080000</td>\n",
       "      <td>4.320000</td>\n",
       "      <td>3.500000</td>\n",
       "      <td>1.000000</td>\n",
       "    </tr>\n",
       "  </tbody>\n",
       "</table>\n",
       "</div>"
      ],
      "text/plain": [
       "         lepton pT   lepton eta   lepton phi  missing energy magnitude  missing energy phi     jet 1 pt    jet 1 eta    jet 1 phi  jet 1 b-tag     jet 2 pt    jet 2 eta    jet 2 phi  jet 2 b-tag     jet 3 pt    jet 3 eta    jet 3 phi  jet 3 b-tag     jet 4 pt    jet 4 eta    jet 4 phi  jet 4 b-tag         m_jj        m_jjj         m_lv        m_jlv         m_bb        m_wbb       m_wwbb        class\n",
       "count  5000.000000  5000.000000  5000.000000               5000.000000         5000.000000  5000.000000  5000.000000  5000.000000  5000.000000  5000.000000  5000.000000  5000.000000  5000.000000  5000.000000  5000.000000  5000.000000  5000.000000  5000.000000  5000.000000  5000.000000  5000.000000  5000.000000  5000.000000  5000.000000  5000.000000  5000.000000  5000.000000  5000.000000  5000.000000\n",
       "mean      0.978645    -0.014280    -0.018956                  1.005793            0.002528     0.980390     0.025014    -0.007104     0.993678     0.988659    -0.010310    -0.006926     1.006922     0.997004     0.018817     0.003952     1.011994     0.982806     0.005201     0.003349     1.007810     1.038431     1.027201     1.054719     1.023094     0.958464     1.033432     0.960494     0.524600\n",
       "std       0.547025     1.011927     0.997945                  0.591907            1.003337     0.463677     1.002018     1.014559     1.028920     0.476462     1.007983     1.002177     1.045206     0.471681     1.007824     0.999656     1.200416     0.497681     1.007999     1.008904     1.400846     0.619460     0.353984     0.173243     0.427141     0.495720     0.352966     0.306057     0.499444\n",
       "min       0.275000    -2.410000    -1.740000                  0.010000           -1.740000     0.170000    -2.920000    -1.740000     0.000000     0.198000    -2.910000    -1.740000     0.000000     0.265000    -2.720000    -1.740000     0.000000     0.366000    -2.500000    -1.740000     0.000000     0.151000     0.443000     0.339000     0.371000     0.079500     0.413000     0.452000     0.000000\n",
       "25%       0.587000    -0.764250    -0.877500                  0.581000           -0.870000     0.676000    -0.659250    -0.885000     0.000000     0.666000    -0.699000    -0.859500     0.000000     0.664750    -0.679250    -0.858000     0.000000     0.619000    -0.707250    -0.869250     0.000000     0.798750     0.850000     0.986000     0.768000     0.672000     0.826000     0.772750     0.000000\n",
       "50%       0.846000    -0.009305    -0.016050                  0.903500            0.001300     0.891000     0.049500    -0.023500     1.090000     0.891000    -0.004800    -0.030700     1.110000     0.899500     0.045700     0.018800     0.000000     0.877000     0.012900    -0.004700     0.000000     0.898000     0.957000     0.990000     0.922000     0.868000     0.952000     0.877500     1.000000\n",
       "75%       1.220000     0.725500     0.837000                  1.300000            0.866000     1.160000     0.716000     0.894000     2.170000     1.192500     0.692250     0.855500     2.210000     1.232500     0.717000     0.855000     2.550000     1.220000     0.719000     0.859000     3.100000     1.030000     1.090000     1.030000     1.160000     1.120000     1.140000     1.060000     1.000000\n",
       "max       5.330000     2.430000     1.740000                  6.260000            1.740000     4.190000     2.960000     1.740000     2.170000     4.800000     2.910000     1.740000     2.210000     4.630000     2.730000     1.740000     2.550000     5.770000     2.490000     1.740000     3.100000    10.600000     5.740000     3.940000     6.220000     5.080000     4.320000     3.500000     1.000000"
      ]
     },
     "metadata": {},
     "output_type": "display_data"
    }
   ],
   "source": [
    "display(data_train.head())\n",
    "display(data_train.describe())"
   ]
  },
  {
   "cell_type": "code",
   "execution_count": 6,
   "metadata": {},
   "outputs": [],
   "source": [
    "# Split into NumPy arrays\n",
    "X_train = data_train.iloc[:, data_train.columns != 'class'].values\n",
    "y_train = data_train['class'].values\n",
    "X_test = data_test.iloc[:, data_test.columns != 'class'].values\n",
    "y_test = data_test['class'].values"
   ]
  },
  {
   "cell_type": "markdown",
   "metadata": {},
   "source": [
    "<div class=\"exercise\"> <b> Question 1: A Single Model [20 pts]</b> </div>\n",
    "\n",
    "We start by fitting a basic model we can compare the other models to. We'll pick a decision tree as the base model, because we'll later include random forests and want a fair comparison. We'll tune the decision tree using cross-validation. As usual, we'll be tuning the maximum tree depth; we refer to this parameter as \"depth\" for simplicity.\n",
    "\n",
    "Since we will only be using tree-based methods in this homework, we do not need to standardize or normalize the predictors."
   ]
  },
  {
   "cell_type": "markdown",
   "metadata": {},
   "source": [
    "**1.1**: Fit a decision tree model to the training set. Choose a range of tree depths to evaluate. Plot the estimated performance +/- 2 standard deviations for each depth using 5-fold cross validation. Also include the training set performance in your plot, but set the y-axis to focus on the cross-validation performance."
   ]
  },
  {
   "cell_type": "code",
   "execution_count": 26,
   "metadata": {},
   "outputs": [
    {
     "name": "stdout",
     "output_type": "stream",
     "text": [
      "best tree depth = 5\n"
     ]
    },
    {
     "data": {
      "image/png": "[encoded data removed]",
      "text/plain": [
       "<Figure size 432x288 with 1 Axes>"
      ]
     },
     "metadata": {},
     "output_type": "display_data"
    }
   ],
   "source": [
    "# define depths to test\n",
    "depths = np.arange(1,20,1)\n",
    "avg_score = np.empty(depths.shape, dtype=float)\n",
    "std_score = avg_score.copy()\n",
    "train_score = avg_score.copy()\n",
    "\n",
    "# fit decision tree at each depth and record accuracy\n",
    "for i, depth in enumerate(depths):\n",
    "    \n",
    "    # initialize tree at current depth\n",
    "    clf = DecisionTreeClassifier(criterion=\"gini\", max_depth=depth).fit(X_train,y_train)\n",
    "    \n",
    "    # record accuracies\n",
    "    cv_score = cross_val_score(clf, X_train, y_train, cv=5)\n",
    "    avg_score[i] = cv_score.mean()\n",
    "    std_score[i] = cv_score.std()\n",
    "    train_score[i] = clf.score(X_train, y_train)\n",
    "\n",
    "# plot the training score, cv score, and std. deviation \n",
    "plt.plot(depths, train_score, color='k', lw=2, ls='--', label=\"train accuracy\")\n",
    "plt.plot(depths, avg_score, color='k', lw=2, label=\"CV accuracy\")\n",
    "plt.fill_between(depths, avg_score+std_score, avg_score-std_score,\\\n",
    "                 color=(.7,.7,.7), lw=2, alpha=0.5, label=\"CV accuracy $\\pm2$ std\")\n",
    "\n",
    "# configure axes labels/legends\n",
    "ax = plt.gca()\n",
    "ax.set_ylim([avg_score.min()-.1,avg_score.max()+.1])\n",
    "ax.legend()\n",
    "ax.set_xlabel(\"tree depth\")\n",
    "ax.set_ylabel(\"mean CV score\")\n",
    "ax.set_xticks(np.arange(1,depths.max(),2))\n",
    "ax.set_title(\"decision tree performance by depth\")\n",
    "\n",
    "# print best tree depth\n",
    "print(\"best tree depth = {}\".format(depths[np.argmax(avg_score)]))"
   ]
  },
  {
   "cell_type": "markdown",
   "metadata": {},
   "source": [
    "**1.2** Select an appropriate depth and justify your choice. Using your cross-validation estimates, report the mean +/- 2 stdev. Then report the classification accuracy on the test set. (Store the training and test accuracies in variables to refer to in a later question.)"
   ]
  },
  {
   "cell_type": "markdown",
   "metadata": {},
   "source": [
    "From the previous question, we receive the highest cross-validation accuracy at a depth of 5. So I will use a depth of 5 moving forward."
   ]
  },
  {
   "cell_type": "code",
   "execution_count": 36,
   "metadata": {},
   "outputs": [
    {
     "name": "stdout",
     "output_type": "stream",
     "text": [
      "The CV accuracy at depth=5 is 0.64 +-0.01\n"
     ]
    }
   ],
   "source": [
    "# get index of max score and print score and std dev\n",
    "d_idx = np.argmax(avg_score)\n",
    "print(\"The CV accuracy at depth={0} is {1:.2f} +-{2:.2f}\"\\\n",
    "      .format(depths[d_idx],avg_score[d_idx],std_score[d_idx]))"
   ]
  },
  {
   "cell_type": "code",
   "execution_count": 144,
   "metadata": {},
   "outputs": [
    {
     "name": "stdout",
     "output_type": "stream",
     "text": [
      "Test accuracy = 0.65\n"
     ]
    }
   ],
   "source": [
    "# compute and store test accuracy\n",
    "best_clf = DecisionTreeClassifier(criterion=\"gini\", max_depth=5).fit(X_train,y_train)\n",
    "\n",
    "# record accuracies\n",
    "test_acc = best_clf.score(X_test,y_test)\n",
    "train_acc = best_clf.score(X_train,y_train)\n",
    "print(\"Test accuracy = {0:.2f}\".format(test_acc))"
   ]
  },
  {
   "cell_type": "markdown",
   "metadata": {},
   "source": [
    "**1.3** What is the mechanism by which limiting the depth of the tree avoids over-fitting? What is one downside of limiting the tree depth? Your answer should refer to the bias-variance trade-off."
   ]
  },
  {
   "cell_type": "markdown",
   "metadata": {},
   "source": [
    "In a mechanistic sense, limiting the tree depth limits the number of times we can sub-divide the data based on our predictors. If we think about this process in terms of our feature space, it limits the number of little \"chunks\" we can separate the data into. If we allow the tree to go deep enough, we will eventually reach a point where every data point from the training set is in it's own leaf node with the correct classification. The problem of course is that these tiny little sub-divisions will most likely not reflect the structure of our test data, and therefore the test accuracy will decrease. In terms of bias and variance, a very deep tree will have low bias with respect to the training set but will have high variance  in the structure of the tree across different training sets (ie. low bias, high variance). The downside of limiting the tree depth is that we will most likely have high bias (meaning it will not perform as acurrately on the training data) and lower variance (meaning the model will be more stable across different training data sets)."
   ]
  },
  {
   "cell_type": "markdown",
   "metadata": {},
   "source": [
    "<div class=\"exercise\"> <b> Question 2: Bagging [25 pts]</b> </div>\n",
    "\n",
    "Bagging is the technique of building the same model on multiple bootstraps from the data and combining each model's prediction to get an overall classification. In this question we build an example by hand and study how the number of bootstrapped datasets impacts the accuracy of the resulting classification."
   ]
  },
  {
   "cell_type": "markdown",
   "metadata": {},
   "source": [
    "**Answers**:"
   ]
  },
  {
   "cell_type": "markdown",
   "metadata": {},
   "source": [
    "**2.1** Choose a tree depth that will overfit the training set. What evidence leads you to believe that this depth will overfit? Assign your choice to a variable here. (You may want to explore different settings for this value in the problems below.)"
   ]
  },
  {
   "cell_type": "markdown",
   "metadata": {},
   "source": [
    "To find a model that it overfit, we could look for any model where the CV accuracy score is lower than the training accuracy. If we really want to be sure it's way overfit, we can just choose the minimal depth where the training accuracy is perfect."
   ]
  },
  {
   "cell_type": "code",
   "execution_count": 93,
   "metadata": {},
   "outputs": [
    {
     "name": "stdout",
     "output_type": "stream",
     "text": [
      "depth = 1,\t train_acc = 0.604,\t cv_acc = 0.599\n",
      "depth = 2,\t train_acc = 0.638,\t cv_acc = 0.621\n",
      "depth = 3,\t train_acc = 0.642,\t cv_acc = 0.621\n",
      "depth = 4,\t train_acc = 0.661,\t cv_acc = 0.640\n",
      "depth = 5,\t train_acc = 0.681,\t cv_acc = 0.643\n",
      "depth = 6,\t train_acc = 0.712,\t cv_acc = 0.635\n",
      "depth = 7,\t train_acc = 0.743,\t cv_acc = 0.636\n",
      "depth = 8,\t train_acc = 0.780,\t cv_acc = 0.625\n",
      "depth = 9,\t train_acc = 0.819,\t cv_acc = 0.619\n",
      "depth = 10,\t train_acc = 0.857,\t cv_acc = 0.614\n",
      "depth = 11,\t train_acc = 0.893,\t cv_acc = 0.614\n",
      "depth = 12,\t train_acc = 0.927,\t cv_acc = 0.605\n",
      "depth = 13,\t train_acc = 0.950,\t cv_acc = 0.599\n",
      "depth = 14,\t train_acc = 0.968,\t cv_acc = 0.587\n",
      "depth = 15,\t train_acc = 0.981,\t cv_acc = 0.585\n",
      "depth = 16,\t train_acc = 0.990,\t cv_acc = 0.595\n",
      "depth = 17,\t train_acc = 0.997,\t cv_acc = 0.586\n",
      "depth = 18,\t train_acc = 0.998,\t cv_acc = 0.587\n",
      "depth = 19,\t train_acc = 1.000,\t cv_acc = 0.587\n"
     ]
    }
   ],
   "source": [
    "# look at the train accuracies from Q1.1 to find overfit model depth\n",
    "[print(\"depth = {0},\\t train_acc = {1:.3f},\\t cv_acc = {2:.3f}\".format(d,a,s)) \\\n",
    " for d,a,s in zip(depths,train_score,avg_score)];"
   ]
  },
  {
   "cell_type": "code",
   "execution_count": 133,
   "metadata": {},
   "outputs": [],
   "source": [
    "# define overfit depth\n",
    "overfit_depth = 16\n",
    "overfit_tree = DecisionTreeClassifier(criterion=\"gini\", max_depth=overfit_depth).fit(X_train,y_train)\n",
    "overfit__train_acc = overfit_tree.score(X_train,y_train)\n",
    "overfit__test_acc = overfit_tree.score(X_test,y_test)"
   ]
  },
  {
   "cell_type": "markdown",
   "metadata": {},
   "source": [
    "From the accuracies above, I'll tentatively choose a depth of 16 since that's where it first reaches 99% accuracy. Realistically, any depth significantly over 5 is likely to be overfit. As noted in the prompt above, we may want to change this depth value later."
   ]
  },
  {
   "cell_type": "markdown",
   "metadata": {},
   "source": [
    "**2.2** Create 45 bootstrapped replications of the original training data, and fit a decision tree to each. Use the tree depth you just chose in 2.1. Record each tree's prediction. In particular, produce a dataset like those below, where each row is a training (or test) example, each column is one of the trees, and each entry is that tree's prediction for that example. (Labeling the rows and columns is optional.)\n",
    "\n",
    "Store these results as `bagging_train` and `bagging_test`. Don't worry about visualizing these results yet."
   ]
  },
  {
   "cell_type": "markdown",
   "metadata": {},
   "source": [
    "**Hints**\n",
    "- Use `resample` from sklearn to easily bootstrap the x and y data.\n",
    "- use `np.mean` to easily test for majority. If a majority of models vote 1, what does that imply about the mean?"
   ]
  },
  {
   "cell_type": "markdown",
   "metadata": {},
   "source": [
    "**Structure of `bagging_train` and `bagging_test`:**\n",
    "\n",
    "`bagging_train`:\n",
    "\n",
    "|     |bootstrap model 1's prediction|bootstrap model 2's prediction|...|bootstrap model 45's prediction|\n",
    "| --- | --- | --- | --- |\n",
    "|training row 1| binary value | binary value|... |binary value|\n",
    "|training row 2| binary value| binary value|... |binary value|\n",
    "|...| ...| ...|... |... |\n",
    "\n",
    "`bagging_test`:\n",
    "\n",
    "|     |bootstrap model 1's prediction|bootstrap model 2's prediction|...|bootstrap model 45's prediction|\n",
    "| --- | --- | --- | --- |\n",
    "|test row 1| binary value | binary value|... |binary value|\n",
    "|test row 2| binary value| binary value|... |binary value|\n",
    "|...| ...| ...|... |... |\n"
   ]
  },
  {
   "cell_type": "markdown",
   "metadata": {},
   "source": [
    "Let's start by defining a function that will resample the data, fit a model to the bootstrapped data, and output the model."
   ]
  },
  {
   "cell_type": "code",
   "execution_count": 49,
   "metadata": {},
   "outputs": [],
   "source": [
    "def bootstrap_tree(x, y, tree_depth):\n",
    "    \n",
    "    # bootstrap resample the training data (with replacement)\n",
    "    x_bs, y_bs = resample(x,y)\n",
    "    \n",
    "    # fit decision tree to bootstrapped data\n",
    "    bs_clf = DecisionTreeClassifier(criterion=\"gini\", max_depth=tree_depth).fit(x_bs,y_bs)\n",
    "    return(bs_clf)"
   ]
  },
  {
   "cell_type": "code",
   "execution_count": 50,
   "metadata": {},
   "outputs": [],
   "source": [
    "# define num replicates and iterate over replicates to generate bootstrapped models\n",
    "n_reps = 45\n",
    "bs_trees = [bootstrap_tree(X_train, y_train, overfit_depth) for i in range(n_reps)]"
   ]
  },
  {
   "cell_type": "code",
   "execution_count": 76,
   "metadata": {},
   "outputs": [],
   "source": [
    "# initialize placeholders for prediction results\n",
    "train_pred = np.empty((X_train.shape[0],n_reps), dtype=bool)\n",
    "test_pred = np.empty((X_train.shape[0],n_reps), dtype=bool)\n",
    "\n",
    "# iterate over models and record predictions\n",
    "for i, tree in enumerate(bs_trees):\n",
    "    train_pred[:,i]=tree.predict(X_train)\n",
    "    test_pred[:,i]=tree.predict(X_test)\n",
    "    \n",
    "# initialize new dataframes to hold bagging train/test predictions\n",
    "col_names = ['tree_%i_pred' % (i+1) for i in range(n_reps)]\n",
    "row_idx = ['train_row_%i' % (i+1) for i in range(X_train.shape[0])]\n",
    "bagging_train = pd.DataFrame(columns=col_names, index=row_idx, data=train_pred)\n",
    "bagging_test = pd.DataFrame(columns=col_names, index=row_idx, data=test_pred)"
   ]
  },
  {
   "cell_type": "code",
   "execution_count": 77,
   "metadata": {},
   "outputs": [
    {
     "data": {
      "text/html": [
       "<div>\n",
       "<style scoped>\n",
       "    .dataframe tbody tr th:only-of-type {\n",
       "        vertical-align: middle;\n",
       "    }\n",
       "\n",
       "    .dataframe tbody tr th {\n",
       "        vertical-align: top;\n",
       "    }\n",
       "\n",
       "    .dataframe thead th {\n",
       "        text-align: right;\n",
       "    }\n",
       "</style>\n",
       "<table border=\"1\" class=\"dataframe\">\n",
       "  <thead>\n",
       "    <tr style=\"text-align: right;\">\n",
       "      <th></th>\n",
       "      <th>tree_1_pred</th>\n",
       "      <th>tree_2_pred</th>\n",
       "      <th>tree_3_pred</th>\n",
       "      <th>tree_4_pred</th>\n",
       "      <th>tree_5_pred</th>\n",
       "      <th>tree_6_pred</th>\n",
       "      <th>tree_7_pred</th>\n",
       "      <th>tree_8_pred</th>\n",
       "      <th>tree_9_pred</th>\n",
       "      <th>tree_10_pred</th>\n",
       "      <th>tree_11_pred</th>\n",
       "      <th>tree_12_pred</th>\n",
       "      <th>tree_13_pred</th>\n",
       "      <th>tree_14_pred</th>\n",
       "      <th>tree_15_pred</th>\n",
       "      <th>tree_16_pred</th>\n",
       "      <th>tree_17_pred</th>\n",
       "      <th>tree_18_pred</th>\n",
       "      <th>tree_19_pred</th>\n",
       "      <th>tree_20_pred</th>\n",
       "      <th>tree_21_pred</th>\n",
       "      <th>tree_22_pred</th>\n",
       "      <th>tree_23_pred</th>\n",
       "      <th>tree_24_pred</th>\n",
       "      <th>tree_25_pred</th>\n",
       "      <th>tree_26_pred</th>\n",
       "      <th>tree_27_pred</th>\n",
       "      <th>tree_28_pred</th>\n",
       "      <th>tree_29_pred</th>\n",
       "      <th>tree_30_pred</th>\n",
       "      <th>tree_31_pred</th>\n",
       "      <th>tree_32_pred</th>\n",
       "      <th>tree_33_pred</th>\n",
       "      <th>tree_34_pred</th>\n",
       "      <th>tree_35_pred</th>\n",
       "      <th>tree_36_pred</th>\n",
       "      <th>tree_37_pred</th>\n",
       "      <th>tree_38_pred</th>\n",
       "      <th>tree_39_pred</th>\n",
       "      <th>tree_40_pred</th>\n",
       "      <th>tree_41_pred</th>\n",
       "      <th>tree_42_pred</th>\n",
       "      <th>tree_43_pred</th>\n",
       "      <th>tree_44_pred</th>\n",
       "      <th>tree_45_pred</th>\n",
       "      <th>mean_pred</th>\n",
       "    </tr>\n",
       "  </thead>\n",
       "  <tbody>\n",
       "    <tr>\n",
       "      <th>train_row_1</th>\n",
       "      <td>True</td>\n",
       "      <td>True</td>\n",
       "      <td>False</td>\n",
       "      <td>True</td>\n",
       "      <td>True</td>\n",
       "      <td>True</td>\n",
       "      <td>True</td>\n",
       "      <td>True</td>\n",
       "      <td>True</td>\n",
       "      <td>False</td>\n",
       "      <td>False</td>\n",
       "      <td>False</td>\n",
       "      <td>False</td>\n",
       "      <td>True</td>\n",
       "      <td>True</td>\n",
       "      <td>False</td>\n",
       "      <td>False</td>\n",
       "      <td>False</td>\n",
       "      <td>False</td>\n",
       "      <td>False</td>\n",
       "      <td>True</td>\n",
       "      <td>True</td>\n",
       "      <td>True</td>\n",
       "      <td>False</td>\n",
       "      <td>True</td>\n",
       "      <td>True</td>\n",
       "      <td>True</td>\n",
       "      <td>False</td>\n",
       "      <td>False</td>\n",
       "      <td>False</td>\n",
       "      <td>True</td>\n",
       "      <td>True</td>\n",
       "      <td>False</td>\n",
       "      <td>False</td>\n",
       "      <td>True</td>\n",
       "      <td>True</td>\n",
       "      <td>True</td>\n",
       "      <td>True</td>\n",
       "      <td>True</td>\n",
       "      <td>False</td>\n",
       "      <td>True</td>\n",
       "      <td>True</td>\n",
       "      <td>False</td>\n",
       "      <td>False</td>\n",
       "      <td>False</td>\n",
       "      <td>True</td>\n",
       "    </tr>\n",
       "    <tr>\n",
       "      <th>train_row_2</th>\n",
       "      <td>True</td>\n",
       "      <td>True</td>\n",
       "      <td>True</td>\n",
       "      <td>False</td>\n",
       "      <td>True</td>\n",
       "      <td>True</td>\n",
       "      <td>True</td>\n",
       "      <td>False</td>\n",
       "      <td>True</td>\n",
       "      <td>True</td>\n",
       "      <td>False</td>\n",
       "      <td>True</td>\n",
       "      <td>True</td>\n",
       "      <td>False</td>\n",
       "      <td>True</td>\n",
       "      <td>False</td>\n",
       "      <td>False</td>\n",
       "      <td>False</td>\n",
       "      <td>True</td>\n",
       "      <td>True</td>\n",
       "      <td>False</td>\n",
       "      <td>False</td>\n",
       "      <td>False</td>\n",
       "      <td>False</td>\n",
       "      <td>True</td>\n",
       "      <td>True</td>\n",
       "      <td>False</td>\n",
       "      <td>True</td>\n",
       "      <td>False</td>\n",
       "      <td>True</td>\n",
       "      <td>False</td>\n",
       "      <td>False</td>\n",
       "      <td>True</td>\n",
       "      <td>False</td>\n",
       "      <td>False</td>\n",
       "      <td>True</td>\n",
       "      <td>True</td>\n",
       "      <td>True</td>\n",
       "      <td>True</td>\n",
       "      <td>False</td>\n",
       "      <td>True</td>\n",
       "      <td>True</td>\n",
       "      <td>True</td>\n",
       "      <td>True</td>\n",
       "      <td>False</td>\n",
       "      <td>True</td>\n",
       "    </tr>\n",
       "    <tr>\n",
       "      <th>train_row_3</th>\n",
       "      <td>False</td>\n",
       "      <td>False</td>\n",
       "      <td>False</td>\n",
       "      <td>True</td>\n",
       "      <td>False</td>\n",
       "      <td>True</td>\n",
       "      <td>True</td>\n",
       "      <td>True</td>\n",
       "      <td>False</td>\n",
       "      <td>True</td>\n",
       "      <td>False</td>\n",
       "      <td>False</td>\n",
       "      <td>False</td>\n",
       "      <td>True</td>\n",
       "      <td>True</td>\n",
       "      <td>False</td>\n",
       "      <td>False</td>\n",
       "      <td>False</td>\n",
       "      <td>False</td>\n",
       "      <td>False</td>\n",
       "      <td>True</td>\n",
       "      <td>False</td>\n",
       "      <td>True</td>\n",
       "      <td>False</td>\n",
       "      <td>False</td>\n",
       "      <td>False</td>\n",
       "      <td>False</td>\n",
       "      <td>True</td>\n",
       "      <td>True</td>\n",
       "      <td>False</td>\n",
       "      <td>False</td>\n",
       "      <td>False</td>\n",
       "      <td>False</td>\n",
       "      <td>False</td>\n",
       "      <td>True</td>\n",
       "      <td>False</td>\n",
       "      <td>False</td>\n",
       "      <td>False</td>\n",
       "      <td>False</td>\n",
       "      <td>False</td>\n",
       "      <td>False</td>\n",
       "      <td>False</td>\n",
       "      <td>False</td>\n",
       "      <td>True</td>\n",
       "      <td>True</td>\n",
       "      <td>False</td>\n",
       "    </tr>\n",
       "  </tbody>\n",
       "</table>\n",
       "</div>"
      ],
      "text/plain": [
       "             tree_1_pred  tree_2_pred  tree_3_pred  tree_4_pred  tree_5_pred  tree_6_pred  tree_7_pred  tree_8_pred  tree_9_pred  tree_10_pred  tree_11_pred  tree_12_pred  tree_13_pred  tree_14_pred  tree_15_pred  tree_16_pred  tree_17_pred  tree_18_pred  tree_19_pred  tree_20_pred  tree_21_pred  tree_22_pred  tree_23_pred  tree_24_pred  tree_25_pred  tree_26_pred  tree_27_pred  tree_28_pred  tree_29_pred  tree_30_pred  tree_31_pred  tree_32_pred  tree_33_pred  tree_34_pred  tree_35_pred  tree_36_pred  tree_37_pred  tree_38_pred  tree_39_pred  tree_40_pred  tree_41_pred  tree_42_pred  tree_43_pred  tree_44_pred  tree_45_pred  mean_pred\n",
       "train_row_1         True         True        False         True         True         True         True         True         True         False         False         False         False          True          True         False         False         False         False         False          True          True          True         False          True          True          True         False         False         False          True          True         False         False          True          True          True          True          True         False          True          True         False         False         False       True\n",
       "train_row_2         True         True         True        False         True         True         True        False         True          True         False          True          True         False          True         False         False         False          True          True         False         False         False         False          True          True         False          True         False          True         False         False          True         False         False          True          True          True          True         False          True          True          True          True         False       True\n",
       "train_row_3        False        False        False         True        False         True         True         True        False          True         False         False         False          True          True         False         False         False         False         False          True         False          True         False         False         False         False          True          True         False         False         False         False         False          True         False         False         False         False         False         False         False         False          True          True      False"
      ]
     },
     "execution_count": 77,
     "metadata": {},
     "output_type": "execute_result"
    }
   ],
   "source": [
    "# preview the dataframe contents\n",
    "bagging_train.head(3)"
   ]
  },
  {
   "cell_type": "markdown",
   "metadata": {},
   "source": [
    "**2.3** _Aggregate_ all 45 _bootstrapped_ models to get a combined prediction for each training and test point: predict a 1 if and only if a majority of the models predict that example to be from class 1. What accuracy does this *bagging* model achieve on the test set? Write an assertion that verifies that this test-set accuracy is at least as good as the accuracy for the model you fit in Question 1."
   ]
  },
  {
   "cell_type": "code",
   "execution_count": 12,
   "metadata": {},
   "outputs": [],
   "source": [
    "# add a new column to each dataframe recording the avg prediction\n",
    "# apply mean across the columns to get the avg in each row, convert to binary\n",
    "# by thresholding at 0.5\n",
    "bagging_train[\"mean_pred\"] = bagging_train.apply(lambda x: x.mean(), axis=1)>0.5\n",
    "bagging_test[\"mean_pred\"] = bagging_test.apply(lambda x: x.mean(), axis=1)>0.5"
   ]
  },
  {
   "cell_type": "code",
   "execution_count": 131,
   "metadata": {},
   "outputs": [
    {
     "name": "stdout",
     "output_type": "stream",
     "text": [
      "Bagging test acc = 0.681\n",
      "Q1 test acc = 0.648\n"
     ]
    }
   ],
   "source": [
    "# compute bagging test accuracy and assert against test accuracy from Q1\n",
    "bag_train_acc = np.sum(bagging_train.mean_pred.values == y_train)/y_train.shape[0]\n",
    "bag_test_acc = np.sum(bagging_test.mean_pred.values == y_test)/y_test.shape[0]\n",
    "assert bag_test_acc >= test_acc, \"Accuracy too low\"\n",
    "print(\"Bagging test acc = {0:.3f}\".format(bag_test_acc))\n",
    "print(\"Q1 test acc = {0:.3f}\".format(test_acc))"
   ]
  },
  {
   "cell_type": "markdown",
   "metadata": {},
   "source": [
    "**2.4** We want to know how the number of bootstraps affects our bagging ensemble's performance. Use the `running_predictions` function (given below) to get the model's accuracy score when using only 1,2,3,4,... of the bootstrapped models. Make a plot of training and test set accuracies as a function of number of bootstraps.\n",
    "\n",
    "On your plot, also include horizontal lines for two baselines:\n",
    "- the test accuracy of the best model from question 1\n",
    "- the test accuracy of a single tree with the tree depth you chose in 2.1, trained on the full training set."
   ]
  },
  {
   "cell_type": "code",
   "execution_count": 87,
   "metadata": {},
   "outputs": [],
   "source": [
    "def running_predictions(prediction_dataset, targets):\n",
    "    \"\"\"A function to predict examples' class via the majority among trees (ties are predicted as 0)\n",
    "    \n",
    "    Inputs:\n",
    "      prediction_dataset - a (n_examples by n_sub_models) dataset, where each entry [i,j] is sub-model j's prediction\n",
    "          for example i\n",
    "      targets - the true class labels\n",
    "    \n",
    "    Returns:\n",
    "      a vector where vec[i] is the model's accuracy when using just the first i+1 sub-models\n",
    "    \"\"\"\n",
    "    \n",
    "    n_trees = prediction_dataset.shape[1]\n",
    "    \n",
    "    # find the running percentage of models voting 1 as more models are considered\n",
    "    running_percent_1s = np.cumsum(prediction_dataset, axis=1)/np.arange(1,n_trees+1)\n",
    "    \n",
    "    # predict 1 when the running average is above 0.5\n",
    "    running_conclusions = running_percent_1s > 0.5\n",
    "    \n",
    "    # check whether the running predictions match the targets\n",
    "    running_correctnesss = running_conclusions == targets.reshape(-1,1)\n",
    "    \n",
    "    return np.mean(running_correctnesss, axis=0)\n",
    "    # returns a 1-d series of the accuracy of using the first n trees to predict the targets"
   ]
  },
  {
   "cell_type": "code",
   "execution_count": 88,
   "metadata": {
    "scrolled": false
   },
   "outputs": [],
   "source": [
    "# \n",
    "train_running_correct = running_predictions(train_pred, y_train)\n",
    "test_running_correct = running_predictions(test_pred, y_test)"
   ]
  },
  {
   "cell_type": "code",
   "execution_count": 135,
   "metadata": {},
   "outputs": [
    {
     "data": {
      "image/png": "[encoded data removed]",
      "text/plain": [
       "<Figure size 432x288 with 1 Axes>"
      ]
     },
     "metadata": {},
     "output_type": "display_data"
    }
   ],
   "source": [
    "# plot results\n",
    "reps = np.arange(1,n_reps+1,1)\n",
    "plt.plot(reps,train_running_correct, c=(1,.5,0), lw=3, label=\"train (bagging)\")\n",
    "plt.plot(reps,test_running_correct, c='b', lw=3, label=\"test (bagging)\")\n",
    "plt.hlines(overfit__test_acc,0,n_reps, color=(1,.5,0), linestyle='--', label=\"test (overfit)\")\n",
    "plt.hlines(test_acc,0,n_reps, color='b', linestyle='--', label=\"test (best depth Q1)\")\n",
    "plt.xlabel(\"total bootstrap repetitions\")\n",
    "plt.ylabel(\"accuracy\")\n",
    "plt.title(\"Running accuracy by number of boostrap repetitions\")\n",
    "plt.legend();"
   ]
  },
  {
   "cell_type": "markdown",
   "metadata": {},
   "source": [
    "**2.5** Referring to your graph from 2.4, compare the performance of bagging against the baseline of a single depth-10 tree. Explain the differences you see."
   ]
  },
  {
   "cell_type": "code",
   "execution_count": 107,
   "metadata": {},
   "outputs": [
    {
     "name": "stdout",
     "output_type": "stream",
     "text": [
      "tree depth 10 accuracy = 0.622\n"
     ]
    }
   ],
   "source": [
    "# calculate tree depth 10 accuracy\n",
    "tree_10 = DecisionTreeClassifier(criterion=\"gini\", max_depth=10).fit(X_train,y_train)\n",
    "tree_10_test_acc = tree_10.score(X_test, y_test)\n",
    "print(\"tree depth 10 accuracy = {0:.3f}\".format(tree_10_test_acc))"
   ]
  },
  {
   "cell_type": "markdown",
   "metadata": {},
   "source": [
    "We can see from the graph above that at a depth of 16, the test accuracy starts below 0.6 after the first repetition, which is below the test accuracy of a depth 10 tree. From Q1, we know that both depths should overfit to the training data. So it makes sense that our starting test accuracy would be lower at depth 16 since it's going to be even more overfit than a depth of 10. However, after only a few iterations, the bagging model starts to perform more accurately than the single depth 10 model. This is because we starting to average out the overfitness from the bagging model. The model has seen many more presentations of different subsets of the training data and is less likely to be fit to the structure in the data that is caused by random sampling."
   ]
  },
  {
   "cell_type": "markdown",
   "metadata": {},
   "source": [
    "**2.6** Bagging and limiting tree depth both affect how much the model overfits. Compare and contrast these two approaches. Your answer should refer to your graph in 2.4 and may duplicate something you said in your answer to 1.5."
   ]
  },
  {
   "cell_type": "markdown",
   "metadata": {},
   "source": [
    "As we said in Q1.5, limiting the tree depth will generally produce higher bias and lower variance by restricting the complexity of the model (ie. how many times we are allowed to split the data). Lower complexity means the model is less \"expressive\" and is less able to fit the small-scale structure of the data (possibly generated by sampling error).\n",
    "\n",
    "Bagging produces a lower variance model by averaging over many different models. If the noise in some signal is randomly generated, we can try to estimate the true signal by sampling it a bunch and averaging over the samples. Assuming that the high model variance we observe when fitting trees of high depth to different subsets of the training data is generated by random sampling error, we can reduce the aggregate model variance by averaging. As we start to average over more samples, the model should become more stable. We can observe this process in the plot above as the bagging lines becoming progressively smoother at high bootstrap repetitions. Therefore, bagging is similar to limiting tree depth in the sense that it produces lower variance models. However, bagging is different in that it does not accomplish this at the expense of model complexity.\n"
   ]
  },
  {
   "cell_type": "markdown",
   "metadata": {},
   "source": [
    "**2.7**: In what ways might our bagging classifier be overfitting the data? In what ways might it be underfitting?"
   ]
  },
  {
   "cell_type": "markdown",
   "metadata": {},
   "source": [
    "One way in which our bagging classifier could be overfit is that the model is still just fit to the training data. Because our training data is a finite sample, there will still be some structure to the data that is generated by noise. We've reduced this effect by resampling the data set many times, but it's still an approximation. Another way in which it could be overfit is the ordering of the features among the nodes. For example, it may be choosing the same predictor for the top node in most/all trees.\n",
    "\n",
    "One way in which the classifier could be underfit is that the depth of the underlying models may not be enough to capture the real structure of the data. We could try to address this by fitting bagging models at many depths and exploring accuracy as a function of depth."
   ]
  },
  {
   "cell_type": "markdown",
   "metadata": {},
   "source": [
    "<div class=\"exercise\"> <b> Question 3: Random Forests [15 pts]</b> </div>\n",
    "\n",
    "Random Forests are closely related to the bagging model we built by hand in question 2. In this question we compare our by-hand results with the results of using `RandomForestClassifier` directly."
   ]
  },
  {
   "cell_type": "markdown",
   "metadata": {},
   "source": [
    "**3.1** Fit a `RandomForestClassifier` to the original `X_train` data using the same tree depth and number of trees that you used in Question 2.2. Evaluate its accuracy on the test set."
   ]
  },
  {
   "cell_type": "code",
   "execution_count": 129,
   "metadata": {},
   "outputs": [
    {
     "name": "stdout",
     "output_type": "stream",
     "text": [
      "Random Forest test acc = 0.694\n"
     ]
    }
   ],
   "source": [
    "# initialize classifier with the settings above and report test accuracy\n",
    "rf_clf = RandomForestClassifier(n_estimators=45, max_depth=overfit_depth).fit(X_train,y_train)\n",
    "rf_train_acc = rf_clf.score(X_train,y_train)\n",
    "rf_test_acc = rf_clf.score(X_test,y_test)\n",
    "print(\"Random Forest test acc = {0:.3f}\".format(rf_test_acc))"
   ]
  },
  {
   "cell_type": "markdown",
   "metadata": {},
   "source": [
    "The accuracy is comparable but slightly better for the random forest model."
   ]
  },
  {
   "cell_type": "markdown",
   "metadata": {},
   "source": [
    "**3.2** For each of the decision trees you fit in the bagging process, how many times is each feature used at the top node? How about for each tree in the random forest you just fit? What about the process of training the Random Forest causes this difference? What implication does this observation have on the accuracy of bagging vs Random Forest?\n",
    "\n",
    "**Hint**: A decision tree's top feature is stored in `model.tree_.feature[0]`. A random forest object stores its decision trees in its `.estimators_` attribute."
   ]
  },
  {
   "cell_type": "code",
   "execution_count": 124,
   "metadata": {},
   "outputs": [
    {
     "data": {
      "image/png": "[encoded data removed]",
      "text/plain": [
       "<Figure size 432x288 with 1 Axes>"
      ]
     },
     "metadata": {},
     "output_type": "display_data"
    }
   ],
   "source": [
    "# get top predictors\n",
    "bs_top_predictors = [tree.tree_.feature[0] for tree in bs_trees]\n",
    "rf_top_predictors = [tree.tree_.feature[0] for tree in rf_clf.estimators_]\n",
    "\n",
    "# create histogram\n",
    "bins = np.arange(1,X_train.shape[1]+2,1)\n",
    "plt.hist(bs_top_predictors, bins=bins, color='b', alpha=0.5, label=\"bootstrap bagging\")\n",
    "plt.hist(rf_top_predictors, bins=bins, color=(1,.5,0), alpha=0.5, label=\"random forest\")\n",
    "plt.xlabel(\"predictor\")\n",
    "plt.ylabel(\"count\")\n",
    "plt.title(\"Top Predictor histogram\")\n",
    "plt.legend();"
   ]
  },
  {
   "cell_type": "markdown",
   "metadata": {},
   "source": [
    "As we can see from the plot above, the bagging approach uses the 25th predictor for the top node in every single model. Random forest shows considerably more variation, although some predictors are clearly selected more frequently than others (eg. predictor 25). The training process of random forest selects a random subset of the features to use to train each estimator. The plot above shows that predictor 25 was likely only selected as a training feature in roughly 8 of the estimators. This mechanism makes the random forest less likely to be overfit, which is likely to improve the accuracy on the test set. "
   ]
  },
  {
   "cell_type": "markdown",
   "metadata": {},
   "source": [
    "**3.3**: Make a table of the training and test accuracy for the following models:\n",
    "\n",
    "- Single tree with best depth chosen by cross-validation (from Question 1)\n",
    "- A single overfit tree trained on all data (from Question 2, using the depth you chose there)\n",
    "- Bagging 45 such trees (from Question 2)\n",
    "- A Random Forest of 45 such trees (from Question 3.1)\n",
    "\n",
    "(This problem should not require fitting any new models, though you may need to go back and store the accuracies from models you fit previously.)\n",
    "\n",
    "What is the relative performance of each model on the training set? On the test set? Comment on how these relationships make sense (or don't make sense) in light of how each model treats the bias-variance trade-off."
   ]
  },
  {
   "cell_type": "code",
   "execution_count": 143,
   "metadata": {},
   "outputs": [
    {
     "data": {
      "text/html": [
       "<div>\n",
       "<style scoped>\n",
       "    .dataframe tbody tr th:only-of-type {\n",
       "        vertical-align: middle;\n",
       "    }\n",
       "\n",
       "    .dataframe tbody tr th {\n",
       "        vertical-align: top;\n",
       "    }\n",
       "\n",
       "    .dataframe thead th {\n",
       "        text-align: right;\n",
       "    }\n",
       "</style>\n",
       "<table border=\"1\" class=\"dataframe\">\n",
       "  <thead>\n",
       "    <tr style=\"text-align: right;\">\n",
       "      <th></th>\n",
       "      <th>train_acc</th>\n",
       "      <th>test_acc</th>\n",
       "    </tr>\n",
       "  </thead>\n",
       "  <tbody>\n",
       "    <tr>\n",
       "      <th>singe_best_tree</th>\n",
       "      <td>0.6812</td>\n",
       "      <td>0.6482</td>\n",
       "    </tr>\n",
       "    <tr>\n",
       "      <th>overfit_tree</th>\n",
       "      <td>0.9900</td>\n",
       "      <td>0.6080</td>\n",
       "    </tr>\n",
       "    <tr>\n",
       "      <th>bagging_45_tree</th>\n",
       "      <td>0.9908</td>\n",
       "      <td>0.6810</td>\n",
       "    </tr>\n",
       "    <tr>\n",
       "      <th>random_forest_45_tree</th>\n",
       "      <td>0.9990</td>\n",
       "      <td>0.6936</td>\n",
       "    </tr>\n",
       "  </tbody>\n",
       "</table>\n",
       "</div>"
      ],
      "text/plain": [
       "                       train_acc  test_acc\n",
       "singe_best_tree           0.6812    0.6482\n",
       "overfit_tree              0.9900    0.6080\n",
       "bagging_45_tree           0.9908    0.6810\n",
       "random_forest_45_tree     0.9990    0.6936"
      ]
     },
     "execution_count": 143,
     "metadata": {},
     "output_type": "execute_result"
    }
   ],
   "source": [
    "# define accuracies\n",
    "all_test_acc = np.array([test_acc, overfit__test_acc, bag_test_acc, rf_test_acc]).reshape(-1,1)\n",
    "all_train_acc = np.array([train_acc, overfit__train_acc, bag_train_acc, rf_train_acc]).reshape(-1,1)\n",
    "clf_name = [\"singe_best_tree\",\"overfit_tree\",\"bagging_45_tree\",\"random_forest_45_tree\"]\n",
    "\n",
    "# intiialize dataframe\n",
    "acc_df = pd.DataFrame(columns=[\"train_acc\",\"test_acc\"], index=clf_name, data=np.hstack((all_train_acc,all_test_acc)))\n",
    "acc_df"
   ]
  },
  {
   "cell_type": "markdown",
   "metadata": {},
   "source": [
    "It makes sense that the single best depth tree has very similar train/test accuracies. At a depth of 5, the tree is not expressive enough to overfit the training data. This model is high bias, low-variance. The high bias part means it's not very accurate (which we see particularly in the training accuracy). The effect of the low variance can be observed in the consistency in the accuracy. \n",
    "\n",
    "The remaining trees are all fit at a depth of 16, which means they are likely to perform well on the training data due to their high complexity. The overfit tree is a low bias, high variance model. The low bias part we can see in the high training accuracy. The high variance is reflected in the large disparity between training and test accuracy for the model. This model has a very low test accuracy because it only sees one presentation of the training data and therefore much of the complexity of the tree is used to capture the sampling noise in the training data.\n",
    "\n",
    "The bagging and random forest models both employ strategies that attempt to find a good compromise between bias and variance. As discussed in previous questions, bootstrap resampling allows us to achieve lower variance even though we are fitting very complex models to the data. The complexity of these models is reflected in the high training accuracy (ie. low bias). The lower variance can be observed in the relatively smaller disparity between train and test accuracies (as compared to the overfit tree). As mentioned in the previous question, the random feature subset selection in random forest should produce a lower variance model than just through bagging alone. This is reflected in the slightly higher test accuracy of the random forest model."
   ]
  },
  {
   "cell_type": "markdown",
   "metadata": {},
   "source": [
    "<div class=\"exercise\"> <b> Question 4: Boosting [15 pts]</b> </div>\n",
    "\n",
    "In this question we explore a different kind of ensemble method, boosting, where each new model is trained on a dataset weighted towards observations that the current set of models predicts incorrectly. \n",
    "\n",
    "We'll focus on the AdaBoost flavor of boosting and examine what happens to the ensemble model's accuracy as the algorithm adds more predictors to the ensemble."
   ]
  },
  {
   "cell_type": "markdown",
   "metadata": {},
   "source": [
    "**Answers**"
   ]
  },
  {
   "cell_type": "markdown",
   "metadata": {},
   "source": [
    "**4.1** We'll motivate AdaBoost by noticing patterns in the errors that a single classifier makes. Fit `tree1`, a decision tree with depth 3, to the training data. For each predictor, make a plot that compares two distributions: the values of that predictor for examples that `tree1` classifies correctly, and the values of that predictor for examples that `tree1` classifies incorrectly. Do you notice any predictors for which the distributions are clearly different?"
   ]
  },
  {
   "cell_type": "markdown",
   "metadata": {},
   "source": [
    "*Hints*:\n",
    "- If you have `fig, axs = plt.subplots(...)`, then `axs.ravel()` gives a list of each plot in reading order.\n",
    "- [`sns.kdeplot`](https://seaborn.pydata.org/generated/seaborn.kdeplot.html) takes `ax` and `label` parameters."
   ]
  },
  {
   "cell_type": "code",
   "execution_count": 209,
   "metadata": {},
   "outputs": [
    {
     "name": "stderr",
     "output_type": "stream",
     "text": [
      "C:\\Users\\winsl0w\\Anaconda3\\lib\\site-packages\\scipy\\stats\\stats.py:1713: FutureWarning: Using a non-tuple sequence for multidimensional indexing is deprecated; use `arr[tuple(seq)]` instead of `arr[seq]`. In the future this will be interpreted as an array index, `arr[np.array(seq)]`, which will result either in an error or a different result.\n",
      "  return np.add.reduce(sorted[indexer] * weights, axis=axis) / sumval\n"
     ]
    },
    {
     "data": {
      "image/png": "[encoded data removed]",
      "text/plain": [
       "<Figure size 1152x864 with 30 Axes>"
      ]
     },
     "metadata": {},
     "output_type": "display_data"
    }
   ],
   "source": [
    "# fit tree of depth 3\n",
    "tree_3 = DecisionTreeClassifier(criterion=\"gini\", max_depth=3).fit(X_train,y_train)\n",
    "tree_3_pred = tree_3.predict(X_train)\n",
    "is_correct = tree_3_pred == y_train\n",
    "pred_labels = data_train.columns\n",
    "\n",
    "# calculate subplot dimensions\n",
    "n_pred = X_train.shape[1]\n",
    "n_rows = np.ceil(np.sqrt(n_pred)).astype(int)\n",
    "n_cols = np.ceil(n_pred/nr).astype(int)\n",
    "\n",
    "# initialize subplots\n",
    "fig, axs = plt.subplots(nrows=nr,ncols=nc, figsize=(16,12));\n",
    "plt.subplots_adjust(hspace=.5, wspace=.5)\n",
    "all_ax = axs.ravel()\n",
    "\n",
    "# iterate over predictors\n",
    "for i in range(n_pred):\n",
    "    \n",
    "    # get subset of the data with correct/incorrect predictions\n",
    "    x_correct = X_train[is_correct,i]\n",
    "    x_incorrect = X_train[~is_correct,i]\n",
    "    \n",
    "    # plot distributions\n",
    "    ax = all_ax[i]\n",
    "    sns.kdeplot(x_correct, ax=ax, color='b', shade=True, label=\"correct\")\n",
    "    sns.kdeplot(x_incorrect, ax=ax, color=(1,.5,0), shade=True, label=\"incorrect\")\n",
    "    ax.set_title(pred_labels[i])\n",
    "    ax.legend()"
   ]
  },
  {
   "cell_type": "markdown",
   "metadata": {},
   "source": [
    "Some of the distributions have peaks at slightly different locations (eg. `missing energy phi` and `jet 4 phi`), but none of the distributions are so clearly different that they have drastically different means."
   ]
  },
  {
   "cell_type": "markdown",
   "metadata": {},
   "source": [
    "**4.2** The following code attempts to implement a simplified version of boosting using just two classifiers (described below). However, it has both stylistic and functionality flaws. First, imagine that you are a grader for a Data Science class; write a comment for the student who submitted this code. Then, imagine that you're the TF writing the solutions; make an excellent example implementation. Finally, use your corrected code to compare the performance of `tree1` and the boosted algorithm on both the training and test set."
   ]
  },
  {
   "cell_type": "markdown",
   "metadata": {},
   "source": [
    "The intended functionality is the following:\n",
    "1. Fit `tree1`, a decision tree with max depth 3.\n",
    "2. Construct an array of sample weights. Give a weight of 1 to samples that `tree1` classified correctly, and 2 to samples that `tree1` misclassified.\n",
    "3. Fit `tree2`, another depth-3 decision tree, using those sample weights.\n",
    "4. To predict, compute the probabilities that `tree1` and `tree2` each assign to the positive class. Take the average of those two probabilities as the prediction probability."
   ]
  },
  {
   "cell_type": "code",
   "execution_count": 279,
   "metadata": {},
   "outputs": [
    {
     "name": "stdout",
     "output_type": "stream",
     "text": [
      "tree1 accuracy: 0.3582\n",
      "Boosted accuracy: 0.0008\n",
      "Boosted accuracy: 0.002\n"
     ]
    }
   ],
   "source": [
    "def boostmeup():\n",
    "    tree = DecisionTreeClassifier(max_depth=3)\n",
    "    tree1 = tree.fit(X_train, y_train)\n",
    "    sample_weight = np.ones(len(X_train))\n",
    "    q = 0\n",
    "    for idx in range(len(X_train)):\n",
    "        if tree1.predict([X_train[idx]]) != y_train[idx]:\n",
    "            sample_weight[idx] = sample_weight[idx] * 2\n",
    "            q = q + 1\n",
    "    print(\"tree1 accuracy:\", q / len(X_train))\n",
    "    tree2 = tree.fit(X_train, y_train, sample_weight=sample_weight)\n",
    "    \n",
    "# Train\n",
    "    q = 0\n",
    "    for idx in range(len(X_train)):\n",
    "        t1p = tree1.predict_proba([X_train[idx]])[0][1]\n",
    "        t2p = tree2.predict_proba([X_train[idx]])[0][1]\n",
    "        m = (t1p + t2p) / 2\n",
    "        if m > .5:\n",
    "            if y_train[idx] == True:\n",
    "                q = q + 0\n",
    "            else:\n",
    "                q = q + 1\n",
    "        else:\n",
    "            if y_train[idx] == True:\n",
    "                q = q + 1\n",
    "            else:\n",
    "                q = 0\n",
    "    print(\"Boosted accuracy:\", q / len(X_train))\n",
    "\n",
    "# Test\n",
    "    q = 0\n",
    "    for idx in range(len(X_test)):\n",
    "        t1p = tree1.predict_proba([X_test[idx]])[0][1]\n",
    "        t2p = tree2.predict_proba([X_test[idx]])[0][1]\n",
    "        m = (t1p + t2p) / 2\n",
    "        if m > .5:\n",
    "            if y_train[idx] == True:\n",
    "                q = q + 0\n",
    "            else:\n",
    "                q = q + 1\n",
    "        else:\n",
    "            if y_train[idx] == True:\n",
    "                q = q + 1\n",
    "            else:\n",
    "                q = 0\n",
    "    print(\"Boosted accuracy:\", q / len(X_test))\n",
    "\n",
    "boostmeup()"
   ]
  },
  {
   "cell_type": "markdown",
   "metadata": {},
   "source": [
    "The `boostmeup` function has several stylistic and functional issues:\n",
    "\n",
    "<u>Stylistic</u>\n",
    "- needs a summary description of the function and its inputs and outputs\n",
    "- needs more descriptive comments throughout\n",
    "- needs more descriptive variable names (eg. q, m)\n",
    "- repetitions of code such as len(X_train) could be assigned to something more readable at the top of the function (eg. n_observations)\n",
    "- variable names such as `tree1` and `tree2` could be combined into a single list (eg. trees)\n",
    "- function name isn't very descriptive\n",
    "- `if x == True:` is the same as `if x:`\n",
    "- increments can be written `q+=1`\n",
    "\n",
    "\n",
    "<u>Functional</u>\n",
    "- Accuracy is generally calculated as the fraction inaccurate rather than fraction accurate\n",
    "- Accuracy calculation inaccurately resets running count of accurate predictions `q` to zero in case statements.\n",
    "- Functions should have clearly defined inputs and outputs, this function has neither. Good inputs for this function would include `X_train`, `y_train`, `max_depth` (or `tree`), `learning_rate` and `sample_weight`.\n",
    "- Function is not defined flexibly enough to allow additional trees to be built iteratively on the error.\n",
    "- The if / else case structure is unnecessarily complicated (eg. the case for q = q + 0 is extraneous) and can generally be replaced with logical operations and numpy functions.\n",
    "- The first if statement is improperly indented\n",
    "- The function definition and function call should be separated into different cells\n",
    "- The code for the boosted accuracy is repeated for train and test. The same code could be used to do the calculation twice."
   ]
  },
  {
   "cell_type": "markdown",
   "metadata": {},
   "source": [
    "My personal preference is to split up the adaboost training and model accuracy reporting into separate functions. So I'm going to do that."
   ]
  },
  {
   "cell_type": "code",
   "execution_count": 231,
   "metadata": {},
   "outputs": [],
   "source": [
    "# perform ada-boosting on data\n",
    "def adaboost(x_train, y_train, max_depth=3, learning_rate=2, sample_weights=None, n_boosts=1):\n",
    "    \"\"\"\n",
    "    Inputs\n",
    "        x_train - (n_samples x n_predictors) array of predictor training data\n",
    "        y_train - (n_samples) array of training response data\n",
    "        max_depth - (scalar) maximum tree depth for decision tree models\n",
    "        learning_rate - (scalar) amount to scale sample weights for incorrect predictions\n",
    "        sample_weights - (n_samples) array of sample importance weights\n",
    "        n_boosts- (scalar) number of trees to fit\n",
    "    Outputs\n",
    "        boosted_trees - (n_boosts+1) list of tree models fit on sample weights \n",
    "    \"\"\"\n",
    "    \n",
    "    # define number of samples and placeholder for accuracies and trees\n",
    "    n_samples = x_train.shape[0]\n",
    "    boosted_trees = []\n",
    "    \n",
    "    # define default sample weights to be one if none provided\n",
    "    if sample_weights is None:\n",
    "        sample_weights = np.ones(n_samples)\n",
    "    \n",
    "    # iterate over boostings\n",
    "    for i in range(n_boosts+1):\n",
    "        \n",
    "        # initialize new tree with sample weights and add to tree list\n",
    "        tree = DecisionTreeClassifier(max_depth=max_depth)\n",
    "        tree = tree.fit(x_train, y_train, sample_weight=sample_weights)\n",
    "        boosted_trees.append(tree)\n",
    "        \n",
    "        # calculate prediction accuracy\n",
    "        pred_incorrect = tree.predict(x_train) != y_train \n",
    "        \n",
    "        # update sample weights to weight inaccurate predictions by the learning rate\n",
    "        sample_weights[pred_incorrect] = sample_weights[pred_incorrect]*learning_rate      \n",
    "    \n",
    "    return(boosted_trees)"
   ]
  },
  {
   "cell_type": "code",
   "execution_count": 357,
   "metadata": {},
   "outputs": [],
   "source": [
    "def boosted_accuracy(boosted_trees, X, y):\n",
    "    \"\"\"\n",
    "    Inputs\n",
    "        boosted_trees - (n_boosts+1) list of tree models fit on sample weights\n",
    "        X - (n_samples x n_predictors) array of predictor data\n",
    "        y - (n_samples) array of response data\n",
    "    Outputs\n",
    "        accuracy - (scalar) accuracy of average prediction across all trees\n",
    "    \"\"\"\n",
    "    # get probability of class 1 (True) from all trees in the model\n",
    "    all_predictions = np.array([tree.predict_proba(X)[:,1] for tree in boosted_trees])\n",
    "    \n",
    "    # compute and threshold the mean probability for each observation and overall accuracy\n",
    "    avg_prediction = all_predictions.mean(0) > 0.5\n",
    "    accuracy = (avg_prediction == y).sum()/y.shape[0]\n",
    "    return(accuracy)"
   ]
  },
  {
   "cell_type": "markdown",
   "metadata": {},
   "source": [
    "Now let's test the functions out."
   ]
  },
  {
   "cell_type": "code",
   "execution_count": 359,
   "metadata": {},
   "outputs": [
    {
     "name": "stdout",
     "output_type": "stream",
     "text": [
      "baseline tree: train_acc = 0.642, test_acc=0.644\n",
      "boosted model: train_acc = 0.697, test_acc=0.670\n"
     ]
    }
   ],
   "source": [
    "# initialize ada-boosted trees\n",
    "boosted_trees = adaboost(X_train, y_train, n_boosts=10)\n",
    "\n",
    "# caluclate accuracy\n",
    "baseline_train_acc = (boosted_trees[0].predict(X_train)==y_train).sum()/y_train.shape[0]\n",
    "baseline_test_acc = (boosted_trees[0].predict(X_test)==y_test).sum()/y_test.shape[0]\n",
    "boosted_train_acc = boosted_accuracy(boosted_trees, X_train, y_train)\n",
    "boosted_test_acc = boosted_accuracy(boosted_trees, X_test, y_test)\n",
    "\n",
    "print(\"baseline tree: train_acc = {0:.3f}, test_acc={1:.3f}\".format(baseline_train_acc,baseline_test_acc))\n",
    "print(\"boosted model: train_acc = {0:.3f}, test_acc={1:.3f}\".format(boosted_train_acc,boosted_test_acc))"
   ]
  },
  {
   "cell_type": "markdown",
   "metadata": {},
   "source": [
    "**4.3** Now let's use the sklearn implementation of AdaBoost: Use `AdaBoostClassifier` to fit another ensemble to `X_train`. Use a decision tree of depth 3 as the base learner and a learning rate 0.05, and run the boosting for 800 iterations. Make a plot of the effect of the number of estimators/iterations on the model's train and test accuracy.\n",
    "\n",
    "*Hint*: The `staged_score` method provides the accuracy numbers you'll need. You'll need to use `list()` to convert the \"generator\" it returns into an ordinary list."
   ]
  },
  {
   "cell_type": "code",
   "execution_count": 371,
   "metadata": {},
   "outputs": [],
   "source": [
    "# initialize base decision tree and AdaBoost classifier with the above parameters\n",
    "n_est = 800\n",
    "base_tree = DecisionTreeClassifier(max_depth=3)\n",
    "ada_tree = AdaBoostClassifier(base_estimator=base_tree, n_estimators=n_est, learning_rate=0.05)\n",
    "\n",
    "# fit tree and record accuracies\n",
    "ada_tree = ada_tree.fit(X_train, y_train)\n",
    "ada_train_acc = list(ada_tree.staged_score(X_train, y_train))\n",
    "ada_test_acc = list(ada_tree.staged_score(X_test, y_test))"
   ]
  },
  {
   "cell_type": "code",
   "execution_count": 373,
   "metadata": {},
   "outputs": [
    {
     "data": {
      "image/png": "[encoded data removed]",
      "text/plain": [
       "<Figure size 432x288 with 1 Axes>"
      ]
     },
     "metadata": {},
     "output_type": "display_data"
    }
   ],
   "source": [
    "# plot accuracies\n",
    "all_est = np.arange(1,n_est+1,1)\n",
    "plt.plot(all_est, ada_train_acc, c=(1,.5,0), lw=3, label=\"train\")\n",
    "plt.plot(all_est, ada_test_acc, c='b', lw=3, label=\"test\")\n",
    "plt.xlabel(\"number estimators\")\n",
    "plt.ylabel(\"accuracy\")\n",
    "plt.title(\"effect of estimator number on accuracy\")\n",
    "plt.legend();"
   ]
  },
  {
   "cell_type": "markdown",
   "metadata": {},
   "source": [
    "**4.4** Repeat the plot above for a base learner with depth of (1, 2, 3, 4). What trends do you see in the training and test accuracy?\n",
    "\n",
    "(It's okay if your code re-fits the depth-3 classifier instead of reusing the results from the previous problem.)"
   ]
  },
  {
   "cell_type": "code",
   "execution_count": 377,
   "metadata": {},
   "outputs": [
    {
     "data": {
      "image/png": "[encoded data removed]",
      "text/plain": [
       "<Figure size 1008x576 with 4 Axes>"
      ]
     },
     "metadata": {},
     "output_type": "display_data"
    }
   ],
   "source": [
    "# initialize base decision tree and AdaBoost classifier with the above parameters\n",
    "n_est = 800\n",
    "depths = [1,2,3,4]\n",
    "ada_train_accuracies = np.empty((n_est,len(depths)), dtype=float)\n",
    "ada_test_accuracies = np.empty((n_est,len(depths)), dtype=float)\n",
    "\n",
    "# initialize fig\n",
    "plt.figure(figsize=(14,8))\n",
    "\n",
    "# iterate over depths\n",
    "for i, depth in enumerate(depths):\n",
    "    # fit tree at current depth\n",
    "    base_tree = DecisionTreeClassifier(max_depth=depth)\n",
    "    ada_tree = AdaBoostClassifier(base_estimator=base_tree, n_estimators=n_est, learning_rate=0.05)\n",
    "\n",
    "    # fit tree and record accuracies\n",
    "    ada_tree = ada_tree.fit(X_train, y_train)\n",
    "    ada_train_accuracies[:,i] = np.array(list(ada_tree.staged_score(X_train, y_train)))\n",
    "    ada_test_accuracies[:,i] = np.array(list(ada_tree.staged_score(X_test, y_test)))\n",
    "    \n",
    "    # plot results\n",
    "    plt.subplot(2,2,i+1)\n",
    "    plt.plot(all_est, ada_train_accuracies[:,i], c=(1,.5,0), lw=3, label=\"train\")\n",
    "    plt.plot(all_est, ada_test_accuracies[:,i], c='b', lw=3, label=\"test\")\n",
    "    plt.xlabel(\"number estimators\")\n",
    "    plt.ylabel(\"accuracy\")\n",
    "    plt.title(\"tree depth = {}\".format(depth))\n",
    "    plt.legend();\n",
    "    \n",
    "plt.subplots_adjust(hspace=0.5)"
   ]
  },
  {
   "cell_type": "markdown",
   "metadata": {},
   "source": [
    "The training accuracy at each depth tends to increase with increasing number of estimators, but the test accuracy seems to peak at some point. The train accuracies seem to increase faster and the test accuracy seems to peak faster at higher tree depths."
   ]
  },
  {
   "cell_type": "markdown",
   "metadata": {},
   "source": [
    "**4.5** Based on the plot you just made, what combination of base learner depth and number of iterations seems optimal? Why? How does the performance of this model compare with the performance of the ensembles you considered above?"
   ]
  },
  {
   "cell_type": "code",
   "execution_count": 400,
   "metadata": {},
   "outputs": [
    {
     "name": "stdout",
     "output_type": "stream",
     "text": [
      "best test accuracy: tree depth = 3, iteration = 98, acccuracy = 0.704\n"
     ]
    }
   ],
   "source": [
    "# report max accuracies\n",
    "max_acc = ada_test_accuracies.max()\n",
    "r,c = np.where(ada_test_accuracies==max_acc)\n",
    "print(\"best test accuracy: tree depth = {0}, iteration = {1}, acccuracy = {2:.3f}\"\\\n",
    "      .format(depths[c[0]],r[0]+1,max_acc))"
   ]
  },
  {
   "cell_type": "markdown",
   "metadata": {},
   "source": [
    "The best model seems to have base depth of 3 and $\\approx$100 estimators, using test accuracy as the criteria. All the models approach the maximum accuracy of about 0.7. This accuracy is comparable to the ensemble accuracy observed above but is slightly higher."
   ]
  },
  {
   "cell_type": "markdown",
   "metadata": {},
   "source": [
    "<div class=\"exercise\"> <b> Question 5: Understanding [15 pts]</b> </div>\n",
    "\n",
    "This question is an overall test of your knowledge of this homework's material. You may need to refer to lecture notes and other material outside this homework to answer these questions."
   ]
  },
  {
   "cell_type": "markdown",
   "metadata": {},
   "source": [
    "**5.1** How do boosting and bagging relate: what is common to both, and what is unique to each?"
   ]
  },
  {
   "cell_type": "markdown",
   "metadata": {},
   "source": [
    "Boosting and bagging are have in common is that they are methods to build an ensemble of models using the same base model and underlying data set.\n",
    "\n",
    "They differ in their underlying methodology and in the way in which they typically improve the model. Boosting fits sequential models on the data with progressive weights applied to the samples that the aggregate model classifies incorrectly. This is somewhat analagous to gradient descent in the sense that we iteratively provide the model with feedback on how it can improve. Bagging (Bootstrap Aggregating) fits models on bootstrapped samples of the training data. Both models tend to reduce model variance by building an ensemble of models. Boosting tends to reduce the bias on the training data but (as we can see from the plot above) can be prone to overfitting. Bagging does not tend to reduce the bias but is less prone to overfitting."
   ]
  },
  {
   "cell_type": "markdown",
   "metadata": {},
   "source": [
    "**5.2** Reflect on the overall performance of all of the different classifiers you have seen throughout this assignment. Which performed best? Why do you think that may have happened?"
   ]
  },
  {
   "cell_type": "markdown",
   "metadata": {},
   "source": [
    "The AdaBoost model of depth 3 had the highest test accuracy (though very narrowly), but only for a particular range of estimators. In general, it's bad practice to estimate parameters on the test data. Without reporting the accuracies on a validation set rather than test set, it a bit hard to say. Assuming that that AdaBoost model is the most accurate, it's possible that this is accuracy reflects the fact that the algorithm progressively trains the model to pick up on smaller features of the data that it gets wrong."
   ]
  },
  {
   "cell_type": "markdown",
   "metadata": {},
   "source": [
    "**5.3** What is the impact of having too many trees in boosting and in bagging? In which instance is it worse to have too many trees?"
   ]
  },
  {
   "cell_type": "markdown",
   "metadata": {},
   "source": [
    "In boosting, having too many trees means that specific models will start heavily weighting very small subsets of the data (even single points). Given enough estimators, the model will perform perfectly on the training data but will likely be very overfit. The only real concern of additional trees in bagging is computational time. Adding additional trees just means we resample the data more and the model variance gets smaller."
   ]
  },
  {
   "cell_type": "markdown",
   "metadata": {},
   "source": [
    "**5.4** Which technique, boosting or bagging, is better suited to parallelization, where you could have multiple computers working on a problem at the same time?"
   ]
  },
  {
   "cell_type": "markdown",
   "metadata": {},
   "source": [
    "Bagging is embarassing parallel, because each model is fit on an independent bootstrap sample of the data. Boosting requires the models to be fit sequentially because we have to fit a model, identify which weights to update, and train a new model on the updated weights."
   ]
  },
  {
   "cell_type": "markdown",
   "metadata": {},
   "source": [
    "**5.5** Which of these techniques can be extended to regression tasks? How?"
   ]
  },
  {
   "cell_type": "markdown",
   "metadata": {},
   "source": [
    "Bagging can be applied to regression trees exactly the same way we apply it to classification trees. We resample data, fit a regression tree to sample and report the ensemble output as the mean of all the individual trees. AdaBoosting cannot be applied to regression trees due to the underlying reliance of updating weights on inaccurate classification. However, a similar method (Boosting) can be applied to regression trees, which iteratively fits decision trees to the residuals of the running ensemble."
   ]
  },
  {
   "cell_type": "markdown",
   "metadata": {},
   "source": [
    "<div class=\"exercise\"> <b> Question 6: Explaining Complex Concepts Clearly [10 pts]</b> </div>"
   ]
  },
  {
   "cell_type": "markdown",
   "metadata": {},
   "source": [
    "One of the core skills of a data scientist is to be able to explain complex concepts clearly. To practice this skill, you'll make a short presentation of one of the approaches we have recently studied.\n",
    "\n",
    "**Choose one of the following topics:**\n",
    "\n",
    "- Decision Trees\n",
    "- Random Forests\n",
    "- Bagging\n",
    "- Boosting\n",
    "- Simple Neural Nets (like the MLP we saw in Homework 6)\n",
    "- (other topics are possible, but get staff approval first)\n",
    "\n",
    "**Make 3 slides explaining the concept.**\n",
    "\n",
    "- Focus on **clear explanations**, NOT aesthetic beauty. Photos of pen-and-paper sketches are fine if they're legible.\n",
    "- For your audience, choose **future CS109A students**.\n",
    "- You may take inspiration from anywhere, but explain in **your own words** and **make your own illustrations**.\n",
    "\n",
    "\n",
    "Submit your slides as a PDF and the source format (`.pptx`, Google Slides, etc.)\n",
    "\n",
    "NOTE: If you would be okay with us using your slides for future classes (with attribution, of course), please include a note to that effect. This will not affect your grade either way."
   ]
  }
 ],
 "metadata": {
  "anaconda-cloud": {},
  "kernelspec": {
   "display_name": "Python 3",
   "language": "python",
   "name": "python3"
  },
  "language_info": {
   "codemirror_mode": {
    "name": "ipython",
    "version": 3
   },
   "file_extension": ".py",
   "mimetype": "text/x-python",
   "name": "python",
   "nbconvert_exporter": "python",
   "pygments_lexer": "ipython3",
   "version": "3.6.5"
  },
  "latex_envs": {
   "bibliofile": "biblio.bib",
   "cite_by": "apalike",
   "current_citInitial": 1,
   "eqLabelWithNumbers": true,
   "eqNumInitial": 0
  },
  "toc": {
   "base_numbering": 1,
   "nav_menu": {},
   "number_sections": true,
   "sideBar": true,
   "skip_h1_title": false,
   "title_cell": "Table of Contents",
   "title_sidebar": "Contents",
   "toc_cell": false,
   "toc_position": {},
   "toc_section_display": true,
   "toc_window_display": false
  }
 },
 "nbformat": 4,
 "nbformat_minor": 1
}
