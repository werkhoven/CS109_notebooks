{
 "cells": [
  {
   "cell_type": "code",
   "execution_count": 1,
   "metadata": {},
   "outputs": [
    {
     "name": "stderr",
     "output_type": "stream",
     "text": [
      "C:\\Users\\winsl0w\\Anaconda3\\lib\\site-packages\\ipykernel_launcher.py:26: FutureWarning: The pandas.core.datetools module is deprecated and will be removed in a future version. Please use the pandas.tseries module instead.\n"
     ]
    }
   ],
   "source": [
    "import warnings\n",
    "#warnings.filterwarnings('ignore')\n",
    "import numpy as np\n",
    "import pandas as pd\n",
    "import matplotlib\n",
    "import matplotlib.pyplot as plt\n",
    "import seaborn as sns\n",
    "from sklearn.metrics import r2_score\n",
    "from sklearn.preprocessing import PolynomialFeatures\n",
    "from sklearn.linear_model import Ridge\n",
    "from sklearn.linear_model import Lasso\n",
    "from sklearn.linear_model import RidgeCV\n",
    "from sklearn.linear_model import LassoCV\n",
    "from sklearn.linear_model import LinearRegression\n",
    "from sklearn.preprocessing import StandardScaler\n",
    "from sklearn.metrics import mean_squared_error\n",
    "from sklearn.model_selection import train_test_split\n",
    "\n",
    "from sklearn.model_selection import cross_val_score\n",
    "from sklearn.model_selection import LeaveOneOut\n",
    "from sklearn.model_selection import KFold\n",
    "\n",
    "import statsmodels.api as sm\n",
    "from statsmodels.regression.linear_model import OLS\n",
    "\n",
    "from pandas.core import datetools\n",
    "%matplotlib inline"
   ]
  },
  {
   "cell_type": "code",
   "execution_count": 2,
   "metadata": {},
   "outputs": [],
   "source": [
    "adni_dict_df = pd.read_csv(\"study info/DATADIC.csv\")"
   ]
  },
  {
   "cell_type": "code",
   "execution_count": 18,
   "metadata": {},
   "outputs": [
    {
     "name": "stdout",
     "output_type": "stream",
     "text": [
      "RID\n",
      "PTID\n",
      "VISCODE\n",
      "SITE\n",
      "COLPROT\n",
      "ORIGPROT\n",
      "EXAMDATE\n",
      "DX_bl\n",
      "AGE\n",
      "PTGENDER\n",
      "PTEDUCAT\n",
      "PTETHCAT\n",
      "PTRACCAT\n",
      "PTMARRY\n",
      "APOE4\n",
      "FDG\n",
      "PIB\n",
      "AV45\n",
      "ABETA\n",
      "TAU\n",
      "PTAU\n",
      "CDRSB\n",
      "ADAS11\n",
      "ADAS13\n",
      "ADASQ4\n",
      "MMSE\n",
      "RAVLT_immediate\n",
      "RAVLT_learning\n",
      "RAVLT_forgetting\n",
      "RAVLT_perc_forgetting\n",
      "LDELTOTAL\n",
      "DIGITSCOR\n",
      "TRABSCOR\n",
      "FAQ\n",
      "MOCA\n",
      "EcogPtMem\n",
      "EcogPtLang\n",
      "EcogPtVisspat\n",
      "EcogPtPlan\n",
      "EcogPtOrgan\n",
      "EcogPtDivatt\n",
      "EcogPtTotal\n",
      "EcogSPMem\n",
      "EcogSPLang\n",
      "EcogSPVisspat\n",
      "EcogSPPlan\n",
      "EcogSPOrgan\n",
      "EcogSPDivatt\n",
      "EcogSPTotal\n",
      "FLDSTRENG\n",
      "FSVERSION\n",
      "IMAGEUID\n",
      "Ventricles\n",
      "Hippocampus\n",
      "WholeBrain\n",
      "Entorhinal\n",
      "Fusiform\n",
      "MidTemp\n",
      "ICV\n",
      "DX\n",
      "mPACCdigit\n",
      "mPACCtrailsB\n",
      "EXAMDATE_bl\n",
      "CDRSB_bl\n",
      "ADAS11_bl\n",
      "ADAS13_bl\n",
      "ADASQ4_bl\n",
      "MMSE_bl\n",
      "RAVLT_immediate_bl\n",
      "RAVLT_learning_bl\n",
      "RAVLT_forgetting_bl\n",
      "RAVLT_perc_forgetting_bl\n",
      "LDELTOTAL_BL\n",
      "DIGITSCOR_bl\n",
      "TRABSCOR_bl\n",
      "FAQ_bl\n",
      "mPACCdigit_bl\n",
      "mPACCtrailsB_bl\n",
      "FLDSTRENG_bl\n",
      "FSVERSION_bl\n",
      "Ventricles_bl\n",
      "Hippocampus_bl\n",
      "WholeBrain_bl\n",
      "Entorhinal_bl\n",
      "Fusiform_bl\n",
      "MidTemp_bl\n",
      "ICV_bl\n",
      "MOCA_bl\n",
      "EcogPtMem_bl\n",
      "EcogPtLang_bl\n",
      "EcogPtVisspat_bl\n",
      "EcogPtPlan_bl\n",
      "EcogPtOrgan_bl\n",
      "EcogPtDivatt_bl\n",
      "EcogPtTotal_bl\n",
      "EcogSPMem_bl\n",
      "EcogSPLang_bl\n",
      "EcogSPVisspat_bl\n",
      "EcogSPPlan_bl\n",
      "EcogSPOrgan_bl\n",
      "EcogSPDivatt_bl\n",
      "EcogSPTotal_bl\n",
      "ABETA_bl\n",
      "TAU_bl\n",
      "PTAU_bl\n",
      "FDG_bl\n",
      "PIB_bl\n",
      "AV45_bl\n",
      "Years_bl\n",
      "Month_bl\n",
      "Month\n",
      "M\n",
      "update_stamp\n"
     ]
    }
   ],
   "source": [
    "adni_merge = pd.read_csv(\"study info/ADNIMERGE.csv\", low_memory=False)\n",
    "[print(col) for col in adni_merge.columns];"
   ]
  },
  {
   "cell_type": "code",
   "execution_count": 16,
   "metadata": {},
   "outputs": [
    {
     "data": {
      "text/plain": [
       "array([], dtype=object)"
      ]
     },
     "execution_count": 16,
     "metadata": {},
     "output_type": "execute_result"
    }
   ],
   "source": [
    "adni_dict_df[\"TEXT\"].loc[adni_dict_df[\"FLDNAME\"]==\"PTEEDUCAT\"].values"
   ]
  },
  {
   "cell_type": "code",
   "execution_count": null,
   "metadata": {},
   "outputs": [],
   "source": []
  }
 ],
 "metadata": {
  "kernelspec": {
   "display_name": "Python 3",
   "language": "python",
   "name": "python3"
  },
  "language_info": {
   "codemirror_mode": {
    "name": "ipython",
    "version": 3
   },
   "file_extension": ".py",
   "mimetype": "text/x-python",
   "name": "python",
   "nbconvert_exporter": "python",
   "pygments_lexer": "ipython3",
   "version": "3.6.5"
  }
 },
 "nbformat": 4,
 "nbformat_minor": 2
}
