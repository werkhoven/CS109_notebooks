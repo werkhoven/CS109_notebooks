{
 "cells": [
  {
   "cell_type": "markdown",
   "metadata": {},
   "source": [
    "Import libraries"
   ]
  },
  {
   "cell_type": "code",
   "execution_count": 541,
   "metadata": {},
   "outputs": [],
   "source": [
    "%matplotlib inline\n",
    "import numpy as np\n",
    "import pandas as pd\n",
    "import matplotlib\n",
    "import matplotlib.pyplot as plt\n",
    "import seaborn as sns\n",
    "sns.set()\n",
    "from sklearn.preprocessing import MinMaxScaler\n",
    "from sklearn.decomposition import PCA\n",
    "from sklearn.linear_model import LogisticRegression\n",
    "from sklearn.linear_model import LogisticRegressionCV\n",
    "from sklearn.discriminant_analysis import LinearDiscriminantAnalysis\n",
    "from sklearn.discriminant_analysis import QuadraticDiscriminantAnalysis\n",
    "from sklearn.preprocessing import PolynomialFeatures\n",
    "from sklearn.neighbors import KNeighborsClassifier\n",
    "from sklearn.model_selection import train_test_split\n",
    "from sklearn.model_selection import cross_val_score\n",
    "from sklearn.model_selection import KFold\n",
    "from sklearn.metrics import accuracy_score\n",
    "from sklearn.tree import DecisionTreeClassifier\n",
    "from sklearn.tree import export_graphviz\n",
    "from sklearn.pipeline import make_pipeline\n",
    "from sklearn.datasets import make_blobs\n",
    "\n",
    "from sklearn.model_selection import cross_val_score\n",
    "from sklearn.model_selection import LeaveOneOut\n",
    "from sklearn.model_selection import KFold\n",
    "\n",
    "import statsmodels.api as sm\n",
    "from statsmodels.regression.linear_model import OLS\n",
    "\n",
    "from pandas.core import datetools\n",
    "%matplotlib inline"
   ]
  },
  {
   "cell_type": "markdown",
   "metadata": {},
   "source": [
    "Initialize data structures"
   ]
  },
  {
   "cell_type": "code",
   "execution_count": 3,
   "metadata": {},
   "outputs": [],
   "source": [
    "# define adni dictionaries\n",
    "apo_dict = pd.read_csv(\"Biomarker Data/APOERES_DICT.csv\")\n",
    "csf_dict = pd.read_csv(\"Biomarker Data/UPENNBIOMK_MASTER_DICT.csv\")\n",
    "lab_dict = pd.read_csv(\"Biomarker Data/LABDATA_DICT.csv\")\n",
    "adni_dict_df = pd.read_csv(\"study info/DATADIC.csv\")"
   ]
  },
  {
   "cell_type": "code",
   "execution_count": 4,
   "metadata": {
    "scrolled": false
   },
   "outputs": [],
   "source": [
    "# define dataframes\n",
    "apo_df = pd.read_csv(\"Biomarker Data/APOERES.csv\")\n",
    "csf_df = pd.read_csv(\"Biomarker Data/UPENNBIOMK_MASTER.csv\")\n",
    "lab_df =  pd.read_csv(\"Biomarker Data/LABDATA.csv\")"
   ]
  },
  {
   "cell_type": "code",
   "execution_count": 173,
   "metadata": {},
   "outputs": [],
   "source": [
    "# print term definitions and codes, and \n",
    "def define_terms(data_df, dict_df, table_name=None, columns=None):\n",
    "    \n",
    "    if columns is None:\n",
    "        columns = data_df.columns\n",
    "    if table_name is None:\n",
    "        keys = [\"FLDNAME\",\"TYPE\",\"TEXT\",\"CODE\"]\n",
    "    else:\n",
    "        keys = [\"FLDNAME\",\"TYPE\",\"TBLNAME\",\"TEXT\",\"CODE\"]\n",
    "        \n",
    "    term_dicts = []\n",
    "    for col in columns:\n",
    "\n",
    "        term_dict = dict.fromkeys(keys)\n",
    "        if table_name is None:\n",
    "            loc = (dict_df.FLDNAME == col)\n",
    "        else:\n",
    "            loc = (dict_df.FLDNAME == col) & (dict_df.TBLNAME == table_name)\n",
    "        tmp = dict_df.loc[loc][keys]\n",
    "        \n",
    "        for key in keys:\n",
    "            if tmp[key].unique().shape[0]:\n",
    "                term_dict[key] = tmp[key].unique()[0]\n",
    "            else:\n",
    "                term_dict[key] = float('nan')\n",
    "        \n",
    "        term_dicts.append(term_dict)\n",
    "        #print(\"Name: {FLDNAME},\\nType: {TYPE},\\nTable: {TBLNAME},\\nDesc: {TEXT},\\nCode:{CODE}\\n\".format(**term_dict))\n",
    "    \n",
    "    data_dict = pd.DataFrame.from_dict(term_dicts).reindex(columns=keys)\n",
    "    return(data_dict)\n",
    "        "
   ]
  },
  {
   "cell_type": "code",
   "execution_count": 6,
   "metadata": {},
   "outputs": [],
   "source": [
    "def paths_with_ext(directory=None, extension=\".csv\"):\n",
    "\n",
    "    if directory is None:\n",
    "        directory = os.getcwd()\n",
    "\n",
    "    matches=[]\n",
    "    for root, dirnames, filenames in os.walk(directory):\n",
    "        for filename in filenames:\n",
    "            if filename.endswith(extension):\n",
    "                matches.append(os.path.join(root, filename))\n",
    "                \n",
    "    return(matches)"
   ]
  },
  {
   "cell_type": "code",
   "execution_count": 7,
   "metadata": {},
   "outputs": [],
   "source": [
    "# report num entries, columns, patients, and range of num records and phases covered\n",
    "def describe_meta_data(df):\n",
    "\n",
    "    by_patient = df.groupby(\"RID\")\n",
    "    nRecords = by_patient.apply(len)\n",
    "    #starting_phase = by_patient.apply(lambda x: x.Phase.unique()[0])\n",
    "    nPatients = nRecords.shape[0]\n",
    "    if \"Phase\" in df.columns:\n",
    "        nPhases = by_patient.apply(lambda x: len(x.Phase.unique()))\n",
    "    else:\n",
    "        nPhases = 0\n",
    "    duplicate_in_phase  = np.sum(nRecords != nPhases)    \n",
    "    \n",
    "    print(\"Num Entries:\\t %i\\nNum Columns: %i\" % (df.shape[0],df.shape[1]))\n",
    "    print(\"Num Patients:\\t %i\\nRecords per Patient:\\t %i-%i\\nPhases Spanned:\\t %i-%i\\nPatients w/ Duplicates:\\t %i\\n\" \\\n",
    "         % (nPatients,np.min(nRecords),np.max(nRecords),np.min(nPhases),np.max(nPhases),duplicate_in_phase))"
   ]
  },
  {
   "cell_type": "code",
   "execution_count": 8,
   "metadata": {},
   "outputs": [],
   "source": [
    "# add new patient_data from  by-patient dataframe\n",
    "def combine_patient_data(pat_df, new_df):\n",
    "    \n",
    "    # intialize empty placeholder columns in patient data\n",
    "    new_cols = new_df.columns\n",
    "    \n",
    "    # remove duplicate columns\n",
    "    new_cols = list(set(new_cols)-set(pat_df.columns))\n",
    "    pat_df = pat_df.reindex(columns=pat_df.columns.tolist() + new_cols)\n",
    "    \n",
    "    # compare list of patient IDs\n",
    "    old_RIDs = pat_df.index\n",
    "    new_RIDs = new_df.index\n",
    "    is_old= np.in1d(new_RIDs,old_RIDs)\n",
    "    \n",
    "    # grab data from existing patient list to insert into pat_df\n",
    "    insert_mat = new_df.loc[is_old, new_cols].values\n",
    "    \n",
    "    #import pdb;pdb.set_trace()\n",
    "    pat_df.loc[new_RIDs[is_old],new_cols] = insert_mat\n",
    "    \n",
    "    # append new patient data from RIDs non-existent in pat_df\n",
    "    pat_df = pat_df.append(new_df.loc[~is_old], sort=True)\n",
    "    \n",
    "    return(pat_df)"
   ]
  },
  {
   "cell_type": "markdown",
   "metadata": {},
   "source": [
    "**ApoE MEASUREMENTS**"
   ]
  },
  {
   "cell_type": "code",
   "execution_count": 9,
   "metadata": {},
   "outputs": [
    {
     "name": "stdout",
     "output_type": "stream",
     "text": [
      "Num Entries:\t 2067\n",
      "Num Columns: 16\n",
      "Num Patients:\t 2067\n",
      "Records per Patient:\t 1-1\n",
      "Phases Spanned:\t 1-1\n",
      "Patients w/ Duplicates:\t 0\n",
      "\n"
     ]
    }
   ],
   "source": [
    "describe_meta_data(apo_df)"
   ]
  },
  {
   "cell_type": "markdown",
   "metadata": {},
   "source": [
    "The APOERES table contains information about patient alleles for the ApoE gene which has been linked to alzheimers."
   ]
  },
  {
   "cell_type": "code",
   "execution_count": 10,
   "metadata": {},
   "outputs": [
    {
     "data": {
      "text/html": [
       "<div>\n",
       "<style scoped>\n",
       "    .dataframe tbody tr th:only-of-type {\n",
       "        vertical-align: middle;\n",
       "    }\n",
       "\n",
       "    .dataframe tbody tr th {\n",
       "        vertical-align: top;\n",
       "    }\n",
       "\n",
       "    .dataframe thead th {\n",
       "        text-align: right;\n",
       "    }\n",
       "</style>\n",
       "<table border=\"1\" class=\"dataframe\">\n",
       "  <thead>\n",
       "    <tr style=\"text-align: right;\">\n",
       "      <th></th>\n",
       "      <th>FLDNAME</th>\n",
       "      <th>TYPE</th>\n",
       "      <th>TBLNAME</th>\n",
       "      <th>TEXT</th>\n",
       "      <th>CODE</th>\n",
       "    </tr>\n",
       "  </thead>\n",
       "  <tbody>\n",
       "    <tr>\n",
       "      <th>0</th>\n",
       "      <td>NaN</td>\n",
       "      <td>NaN</td>\n",
       "      <td>NaN</td>\n",
       "      <td>NaN</td>\n",
       "      <td>NaN</td>\n",
       "    </tr>\n",
       "    <tr>\n",
       "      <th>1</th>\n",
       "      <td>ID</td>\n",
       "      <td>N</td>\n",
       "      <td>APOERES</td>\n",
       "      <td>Record ID</td>\n",
       "      <td>\"crfname\",\"ApoE Genotyping - Results\",\"indexes...</td>\n",
       "    </tr>\n",
       "    <tr>\n",
       "      <th>2</th>\n",
       "      <td>RID</td>\n",
       "      <td>N</td>\n",
       "      <td>APOERES</td>\n",
       "      <td>Participant roster ID</td>\n",
       "      <td>NaN</td>\n",
       "    </tr>\n",
       "    <tr>\n",
       "      <th>3</th>\n",
       "      <td>SITEID</td>\n",
       "      <td>N</td>\n",
       "      <td>APOERES</td>\n",
       "      <td>Site ID</td>\n",
       "      <td>NaN</td>\n",
       "    </tr>\n",
       "    <tr>\n",
       "      <th>4</th>\n",
       "      <td>VISCODE</td>\n",
       "      <td>T</td>\n",
       "      <td>APOERES</td>\n",
       "      <td>Visit code</td>\n",
       "      <td>NaN</td>\n",
       "    </tr>\n",
       "    <tr>\n",
       "      <th>5</th>\n",
       "      <td>USERDATE</td>\n",
       "      <td>S</td>\n",
       "      <td>APOERES</td>\n",
       "      <td>Date record created</td>\n",
       "      <td>NaN</td>\n",
       "    </tr>\n",
       "    <tr>\n",
       "      <th>6</th>\n",
       "      <td>USERDATE2</td>\n",
       "      <td>S</td>\n",
       "      <td>APOERES</td>\n",
       "      <td>Date record last updated</td>\n",
       "      <td>NaN</td>\n",
       "    </tr>\n",
       "    <tr>\n",
       "      <th>7</th>\n",
       "      <td>APTESTDT</td>\n",
       "      <td>D</td>\n",
       "      <td>APOERES</td>\n",
       "      <td>Date Test Performed</td>\n",
       "      <td>NaN</td>\n",
       "    </tr>\n",
       "    <tr>\n",
       "      <th>8</th>\n",
       "      <td>APGEN1</td>\n",
       "      <td>N</td>\n",
       "      <td>APOERES</td>\n",
       "      <td>Genotype - Allele 1</td>\n",
       "      <td>2..4</td>\n",
       "    </tr>\n",
       "    <tr>\n",
       "      <th>9</th>\n",
       "      <td>APGEN2</td>\n",
       "      <td>N</td>\n",
       "      <td>APOERES</td>\n",
       "      <td>Genotype - Allele 2</td>\n",
       "      <td>2..4</td>\n",
       "    </tr>\n",
       "    <tr>\n",
       "      <th>10</th>\n",
       "      <td>APVOLUME</td>\n",
       "      <td>N</td>\n",
       "      <td>APOERES</td>\n",
       "      <td>Volume of Blood Shipped in Lavendar Top Tube</td>\n",
       "      <td>1..10</td>\n",
       "    </tr>\n",
       "    <tr>\n",
       "      <th>11</th>\n",
       "      <td>APRECEIVE</td>\n",
       "      <td>N</td>\n",
       "      <td>APOERES</td>\n",
       "      <td>Sample recieved within 24 hours of blood draw?</td>\n",
       "      <td>1=Yes;0=No</td>\n",
       "    </tr>\n",
       "    <tr>\n",
       "      <th>12</th>\n",
       "      <td>APAMBTEMP</td>\n",
       "      <td>N</td>\n",
       "      <td>APOERES</td>\n",
       "      <td>Sample shipped at ambient temperature?</td>\n",
       "      <td>1=Yes;0=No</td>\n",
       "    </tr>\n",
       "    <tr>\n",
       "      <th>13</th>\n",
       "      <td>APRESAMP</td>\n",
       "      <td>N</td>\n",
       "      <td>APOERES</td>\n",
       "      <td>Request Resample?</td>\n",
       "      <td>1=Yes;0=No</td>\n",
       "    </tr>\n",
       "    <tr>\n",
       "      <th>14</th>\n",
       "      <td>APUSABLE</td>\n",
       "      <td>N</td>\n",
       "      <td>APOERES</td>\n",
       "      <td>Sample Useable?</td>\n",
       "      <td>1=Yes;0=No</td>\n",
       "    </tr>\n",
       "    <tr>\n",
       "      <th>15</th>\n",
       "      <td>NaN</td>\n",
       "      <td>NaN</td>\n",
       "      <td>NaN</td>\n",
       "      <td>NaN</td>\n",
       "      <td>NaN</td>\n",
       "    </tr>\n",
       "  </tbody>\n",
       "</table>\n",
       "</div>"
      ],
      "text/plain": [
       "      FLDNAME TYPE  TBLNAME                                            TEXT  \\\n",
       "0         NaN  NaN      NaN                                             NaN   \n",
       "1          ID    N  APOERES                                       Record ID   \n",
       "2         RID    N  APOERES                           Participant roster ID   \n",
       "3      SITEID    N  APOERES                                         Site ID   \n",
       "4     VISCODE    T  APOERES                                      Visit code   \n",
       "5    USERDATE    S  APOERES                             Date record created   \n",
       "6   USERDATE2    S  APOERES                        Date record last updated   \n",
       "7    APTESTDT    D  APOERES                             Date Test Performed   \n",
       "8      APGEN1    N  APOERES                             Genotype - Allele 1   \n",
       "9      APGEN2    N  APOERES                             Genotype - Allele 2   \n",
       "10   APVOLUME    N  APOERES    Volume of Blood Shipped in Lavendar Top Tube   \n",
       "11  APRECEIVE    N  APOERES  Sample recieved within 24 hours of blood draw?   \n",
       "12  APAMBTEMP    N  APOERES          Sample shipped at ambient temperature?   \n",
       "13   APRESAMP    N  APOERES                               Request Resample?   \n",
       "14   APUSABLE    N  APOERES                                 Sample Useable?   \n",
       "15        NaN  NaN      NaN                                             NaN   \n",
       "\n",
       "                                                 CODE  \n",
       "0                                                 NaN  \n",
       "1   \"crfname\",\"ApoE Genotyping - Results\",\"indexes...  \n",
       "2                                                 NaN  \n",
       "3                                                 NaN  \n",
       "4                                                 NaN  \n",
       "5                                                 NaN  \n",
       "6                                                 NaN  \n",
       "7                                                 NaN  \n",
       "8                                                2..4  \n",
       "9                                                2..4  \n",
       "10                                              1..10  \n",
       "11                                         1=Yes;0=No  \n",
       "12                                         1=Yes;0=No  \n",
       "13                                         1=Yes;0=No  \n",
       "14                                         1=Yes;0=No  \n",
       "15                                                NaN  "
      ]
     },
     "execution_count": 10,
     "metadata": {},
     "output_type": "execute_result"
    }
   ],
   "source": [
    "# define and print terms from apo table\n",
    "term_defs = define_terms(apo_df, adni_dict_df, \"APOERES\")\n",
    "term_defs"
   ]
  },
  {
   "cell_type": "code",
   "execution_count": 11,
   "metadata": {},
   "outputs": [],
   "source": [
    "apo_cols = [\"APGEN1\",\"APGEN2\"]"
   ]
  },
  {
   "cell_type": "markdown",
   "metadata": {},
   "source": [
    "**BIOMARKER MASTER**"
   ]
  },
  {
   "cell_type": "markdown",
   "metadata": {},
   "source": [
    "UPENN Biomarker master table contains abeta, tau, and ptau measurements."
   ]
  },
  {
   "cell_type": "code",
   "execution_count": 12,
   "metadata": {},
   "outputs": [
    {
     "data": {
      "text/html": [
       "<div>\n",
       "<style scoped>\n",
       "    .dataframe tbody tr th:only-of-type {\n",
       "        vertical-align: middle;\n",
       "    }\n",
       "\n",
       "    .dataframe tbody tr th {\n",
       "        vertical-align: top;\n",
       "    }\n",
       "\n",
       "    .dataframe thead th {\n",
       "        text-align: right;\n",
       "    }\n",
       "</style>\n",
       "<table border=\"1\" class=\"dataframe\">\n",
       "  <thead>\n",
       "    <tr style=\"text-align: right;\">\n",
       "      <th></th>\n",
       "      <th>FLDNAME</th>\n",
       "      <th>TYPE</th>\n",
       "      <th>TBLNAME</th>\n",
       "      <th>TEXT</th>\n",
       "      <th>CODE</th>\n",
       "    </tr>\n",
       "  </thead>\n",
       "  <tbody>\n",
       "    <tr>\n",
       "      <th>0</th>\n",
       "      <td>RID</td>\n",
       "      <td>-4.0</td>\n",
       "      <td>UPENNBIOMK_MASTER</td>\n",
       "      <td>Participant roster ID</td>\n",
       "      <td>NaN</td>\n",
       "    </tr>\n",
       "    <tr>\n",
       "      <th>1</th>\n",
       "      <td>VISCODE</td>\n",
       "      <td>-4.0</td>\n",
       "      <td>UPENNBIOMK_MASTER</td>\n",
       "      <td>Visit code</td>\n",
       "      <td>NaN</td>\n",
       "    </tr>\n",
       "    <tr>\n",
       "      <th>2</th>\n",
       "      <td>BATCH</td>\n",
       "      <td>-4.0</td>\n",
       "      <td>UPENNBIOMK_MASTER</td>\n",
       "      <td>Name of LONI table, corresponding to analytica...</td>\n",
       "      <td>NaN</td>\n",
       "    </tr>\n",
       "    <tr>\n",
       "      <th>3</th>\n",
       "      <td>KIT</td>\n",
       "      <td>-4.0</td>\n",
       "      <td>UPENNBIOMK_MASTER</td>\n",
       "      <td>Reagents lot number</td>\n",
       "      <td>NaN</td>\n",
       "    </tr>\n",
       "    <tr>\n",
       "      <th>4</th>\n",
       "      <td>STDS</td>\n",
       "      <td>-4.0</td>\n",
       "      <td>UPENNBIOMK_MASTER</td>\n",
       "      <td>Calibrators and Quality Controls lot number</td>\n",
       "      <td>NaN</td>\n",
       "    </tr>\n",
       "    <tr>\n",
       "      <th>5</th>\n",
       "      <td>NaN</td>\n",
       "      <td>NaN</td>\n",
       "      <td>NaN</td>\n",
       "      <td>NaN</td>\n",
       "      <td>NaN</td>\n",
       "    </tr>\n",
       "    <tr>\n",
       "      <th>6</th>\n",
       "      <td>RUNDATE</td>\n",
       "      <td>-4.0</td>\n",
       "      <td>UPENNBIOMK_MASTER</td>\n",
       "      <td>Date of analytical run</td>\n",
       "      <td>NaN</td>\n",
       "    </tr>\n",
       "    <tr>\n",
       "      <th>7</th>\n",
       "      <td>ABETA</td>\n",
       "      <td>-4.0</td>\n",
       "      <td>UPENNBIOMK_MASTER</td>\n",
       "      <td>Result rescaled to UPENNBIOMK</td>\n",
       "      <td>NaN</td>\n",
       "    </tr>\n",
       "    <tr>\n",
       "      <th>8</th>\n",
       "      <td>TAU</td>\n",
       "      <td>-4.0</td>\n",
       "      <td>UPENNBIOMK_MASTER</td>\n",
       "      <td>Result rescaled to UPENNBIOMK</td>\n",
       "      <td>NaN</td>\n",
       "    </tr>\n",
       "    <tr>\n",
       "      <th>9</th>\n",
       "      <td>PTAU</td>\n",
       "      <td>-4.0</td>\n",
       "      <td>UPENNBIOMK_MASTER</td>\n",
       "      <td>Result rescaled to UPENNBIOMK</td>\n",
       "      <td>NaN</td>\n",
       "    </tr>\n",
       "    <tr>\n",
       "      <th>10</th>\n",
       "      <td>ABETA_RAW</td>\n",
       "      <td>-4.0</td>\n",
       "      <td>UPENNBIOMK_MASTER</td>\n",
       "      <td>Original (raw) result, before rescaling</td>\n",
       "      <td>NaN</td>\n",
       "    </tr>\n",
       "    <tr>\n",
       "      <th>11</th>\n",
       "      <td>TAU_RAW</td>\n",
       "      <td>-4.0</td>\n",
       "      <td>UPENNBIOMK_MASTER</td>\n",
       "      <td>Original (raw) result, before rescaling</td>\n",
       "      <td>NaN</td>\n",
       "    </tr>\n",
       "    <tr>\n",
       "      <th>12</th>\n",
       "      <td>PTAU_RAW</td>\n",
       "      <td>-4.0</td>\n",
       "      <td>UPENNBIOMK_MASTER</td>\n",
       "      <td>Original (raw) result, before rescaling</td>\n",
       "      <td>NaN</td>\n",
       "    </tr>\n",
       "    <tr>\n",
       "      <th>13</th>\n",
       "      <td>NaN</td>\n",
       "      <td>NaN</td>\n",
       "      <td>NaN</td>\n",
       "      <td>NaN</td>\n",
       "      <td>NaN</td>\n",
       "    </tr>\n",
       "  </tbody>\n",
       "</table>\n",
       "</div>"
      ],
      "text/plain": [
       "      FLDNAME  TYPE            TBLNAME  \\\n",
       "0         RID  -4.0  UPENNBIOMK_MASTER   \n",
       "1     VISCODE  -4.0  UPENNBIOMK_MASTER   \n",
       "2       BATCH  -4.0  UPENNBIOMK_MASTER   \n",
       "3         KIT  -4.0  UPENNBIOMK_MASTER   \n",
       "4        STDS  -4.0  UPENNBIOMK_MASTER   \n",
       "5         NaN   NaN                NaN   \n",
       "6     RUNDATE  -4.0  UPENNBIOMK_MASTER   \n",
       "7       ABETA  -4.0  UPENNBIOMK_MASTER   \n",
       "8         TAU  -4.0  UPENNBIOMK_MASTER   \n",
       "9        PTAU  -4.0  UPENNBIOMK_MASTER   \n",
       "10  ABETA_RAW  -4.0  UPENNBIOMK_MASTER   \n",
       "11    TAU_RAW  -4.0  UPENNBIOMK_MASTER   \n",
       "12   PTAU_RAW  -4.0  UPENNBIOMK_MASTER   \n",
       "13        NaN   NaN                NaN   \n",
       "\n",
       "                                                 TEXT  CODE  \n",
       "0                               Participant roster ID   NaN  \n",
       "1                                          Visit code   NaN  \n",
       "2   Name of LONI table, corresponding to analytica...   NaN  \n",
       "3                                 Reagents lot number   NaN  \n",
       "4         Calibrators and Quality Controls lot number   NaN  \n",
       "5                                                 NaN   NaN  \n",
       "6                              Date of analytical run   NaN  \n",
       "7                       Result rescaled to UPENNBIOMK   NaN  \n",
       "8                       Result rescaled to UPENNBIOMK   NaN  \n",
       "9                       Result rescaled to UPENNBIOMK   NaN  \n",
       "10            Original (raw) result, before rescaling   NaN  \n",
       "11            Original (raw) result, before rescaling   NaN  \n",
       "12            Original (raw) result, before rescaling   NaN  \n",
       "13                                                NaN   NaN  "
      ]
     },
     "execution_count": 12,
     "metadata": {},
     "output_type": "execute_result"
    }
   ],
   "source": [
    "# define and print terms from CSF biomarker master table\n",
    "term_defs = define_terms(csf_df, csf_dict, \"UPENNBIOMK_MASTER\")\n",
    "term_defs"
   ]
  },
  {
   "cell_type": "code",
   "execution_count": 13,
   "metadata": {},
   "outputs": [],
   "source": [
    "csf_cols = [\"ABETA\",\"TAU\",\"PTAU\"]"
   ]
  },
  {
   "cell_type": "code",
   "execution_count": 14,
   "metadata": {},
   "outputs": [
    {
     "name": "stdout",
     "output_type": "stream",
     "text": [
      "Num Entries:\t 5876\n",
      "Num Columns: 14\n",
      "Num Patients:\t 1249\n",
      "Records per Patient:\t 2-26\n",
      "Phases Spanned:\t 0-0\n",
      "Patients w/ Duplicates:\t 1249\n",
      "\n"
     ]
    }
   ],
   "source": [
    "describe_meta_data(csf_df)"
   ]
  },
  {
   "cell_type": "markdown",
   "metadata": {},
   "source": [
    "**LAB DATA**"
   ]
  },
  {
   "cell_type": "code",
   "execution_count": 15,
   "metadata": {},
   "outputs": [
    {
     "name": "stdout",
     "output_type": "stream",
     "text": [
      "Num Entries:\t 2463\n",
      "Num Columns: 131\n",
      "Num Patients:\t 2285\n",
      "Records per Patient:\t 1-3\n",
      "Phases Spanned:\t 1-1\n",
      "Patients w/ Duplicates:\t 171\n",
      "\n"
     ]
    }
   ],
   "source": [
    "# define and print terms from CSF biomarker master table\n",
    "describe_meta_data(lab_df)"
   ]
  },
  {
   "cell_type": "code",
   "execution_count": 16,
   "metadata": {},
   "outputs": [],
   "source": [
    "# create a function to extract lab codes from the lab dict (has a different structure from other dictionaries)\n",
    "def define_labcodes(df, dict_df):\n",
    "    \n",
    "    keys=[\"Test Code\",\"Test Description\"]\n",
    "    term_dicts = []\n",
    "    for col in df.columns:\n",
    "\n",
    "        term_dict = dict.fromkeys(keys)\n",
    "        loc = (dict_df[\"Test Code\"] == col)\n",
    "        \n",
    "        if any(loc):\n",
    "            tmp = dict_df.loc[loc][keys]\n",
    "\n",
    "            for key in keys:\n",
    "                if tmp[key].unique().shape[0]:\n",
    "                    term_dict[key] = tmp[key].unique()[0]\n",
    "                else:\n",
    "                    term_dict[key] = float('nan')\n",
    "\n",
    "            term_dicts.append(term_dict)\n",
    "            #print(\"Name: {FLDNAME},\\nType: {TYPE},\\nTable: {TBLNAME},\\nDesc: {TEXT},\\nCode:{CODE}\\n\".format(**term_dict))\n",
    "    \n",
    "    data_dict = pd.DataFrame.from_dict(term_dicts).reindex(columns=keys)\n",
    "    return(data_dict)"
   ]
  },
  {
   "cell_type": "code",
   "execution_count": 17,
   "metadata": {},
   "outputs": [
    {
     "data": {
      "text/html": [
       "<div>\n",
       "<style scoped>\n",
       "    .dataframe tbody tr th:only-of-type {\n",
       "        vertical-align: middle;\n",
       "    }\n",
       "\n",
       "    .dataframe tbody tr th {\n",
       "        vertical-align: top;\n",
       "    }\n",
       "\n",
       "    .dataframe thead th {\n",
       "        text-align: right;\n",
       "    }\n",
       "</style>\n",
       "<table border=\"1\" class=\"dataframe\">\n",
       "  <thead>\n",
       "    <tr style=\"text-align: right;\">\n",
       "      <th></th>\n",
       "      <th>Test Code</th>\n",
       "      <th>Test Description</th>\n",
       "    </tr>\n",
       "  </thead>\n",
       "  <tbody>\n",
       "    <tr>\n",
       "      <th>0</th>\n",
       "      <td>AXT117</td>\n",
       "      <td>Thyroid Stim. Hormone-QT</td>\n",
       "    </tr>\n",
       "    <tr>\n",
       "      <th>1</th>\n",
       "      <td>BAT126</td>\n",
       "      <td>Vitamin B12</td>\n",
       "    </tr>\n",
       "    <tr>\n",
       "      <th>2</th>\n",
       "      <td>CMT1</td>\n",
       "      <td>Color-QT</td>\n",
       "    </tr>\n",
       "    <tr>\n",
       "      <th>3</th>\n",
       "      <td>CMT10</td>\n",
       "      <td>Urine Nitrite-QT</td>\n",
       "    </tr>\n",
       "    <tr>\n",
       "      <th>4</th>\n",
       "      <td>CMT11</td>\n",
       "      <td>Leukocyte Esterase-QT</td>\n",
       "    </tr>\n",
       "    <tr>\n",
       "      <th>5</th>\n",
       "      <td>CMT2</td>\n",
       "      <td>Specific Gravity-QT</td>\n",
       "    </tr>\n",
       "    <tr>\n",
       "      <th>6</th>\n",
       "      <td>CMT3</td>\n",
       "      <td>pH-QT</td>\n",
       "    </tr>\n",
       "    <tr>\n",
       "      <th>7</th>\n",
       "      <td>CMT43</td>\n",
       "      <td>Blood (+)-QT</td>\n",
       "    </tr>\n",
       "    <tr>\n",
       "      <th>8</th>\n",
       "      <td>CMT49</td>\n",
       "      <td>Urine Protein (3+)-QT</td>\n",
       "    </tr>\n",
       "    <tr>\n",
       "      <th>9</th>\n",
       "      <td>CMT5</td>\n",
       "      <td>Urine Glucose-QT</td>\n",
       "    </tr>\n",
       "  </tbody>\n",
       "</table>\n",
       "</div>"
      ],
      "text/plain": [
       "  Test Code          Test Description\n",
       "0    AXT117  Thyroid Stim. Hormone-QT\n",
       "1    BAT126               Vitamin B12\n",
       "2      CMT1                  Color-QT\n",
       "3     CMT10          Urine Nitrite-QT\n",
       "4     CMT11     Leukocyte Esterase-QT\n",
       "5      CMT2       Specific Gravity-QT\n",
       "6      CMT3                     pH-QT\n",
       "7     CMT43              Blood (+)-QT\n",
       "8     CMT49     Urine Protein (3+)-QT\n",
       "9      CMT5          Urine Glucose-QT"
      ]
     },
     "execution_count": 17,
     "metadata": {},
     "output_type": "execute_result"
    }
   ],
   "source": [
    "# extract lab codes and descriptions of each test\n",
    "lab_codes = define_labcodes(lab_df, lab_dict)\n",
    "lab_codes.head(10)\n"
   ]
  },
  {
   "cell_type": "code",
   "execution_count": 365,
   "metadata": {
    "scrolled": true
   },
   "outputs": [],
   "source": [
    "# record all lab codes and use them to extract lab code data from \n",
    "lab_cols = lab_codes[\"Test Code\"]"
   ]
  },
  {
   "cell_type": "markdown",
   "metadata": {},
   "source": [
    "Let's move on to missing data for this data set.\n",
    "\n",
    "From the ADNI website:\n",
    "\n",
    ">**Laboratory Data**: Screening clinical lab results (i.e. urine, chemistry panel).\n",
    "Data contains some character coding (i.e. SCC09: No specimen received ), and\n",
    "they can be treated as missing data. (LABDATA.csv)\n"
   ]
  },
  {
   "cell_type": "code",
   "execution_count": 352,
   "metadata": {},
   "outputs": [],
   "source": [
    "# determine if a string contains any non numeric characters\n",
    "def is_number(string: str):\n",
    "    \n",
    "    # define valid numeric characters \n",
    "    # (including decimal and negative sign)\n",
    "    valid_chars = set(str(np.arange(0,10,1))[1:-1] + '.-')\n",
    "    is_num = not bool(set(string)-valid_chars)\n",
    "    return(is_num)"
   ]
  },
  {
   "cell_type": "code",
   "execution_count": 368,
   "metadata": {},
   "outputs": [],
   "source": [
    "# find columns of lab df with strings\n",
    "str_cols = lab_df[lab_cols].dtypes == object\n",
    "str_cols = lab_cols[str_cols.values]"
   ]
  },
  {
   "cell_type": "code",
   "execution_count": 376,
   "metadata": {},
   "outputs": [],
   "source": [
    "# define function to replace missing data with NaN\n",
    "str_isnumber = lab_df[str_cols].apply(lambda x: x.apply(str_isnum))"
   ]
  },
  {
   "cell_type": "code",
   "execution_count": 394,
   "metadata": {},
   "outputs": [],
   "source": [
    "# convert values with strings to missing val (-1)\n",
    "str_vals = lab_df[str_cols].values\n",
    "str_vals[~str_isnumber] = '-1'\n",
    "num_vals = str_vals.astype(float)\n",
    "\n",
    "# store new numeric values in dataframe\n",
    "lab_df[str_cols] = num_vals\n",
    "\n",
    "# look for columns where all values are missing\n",
    "# and remove them from the list of columns\n",
    "all_missing_cols = str_cols[(num_vals==-1).all(0)]\n",
    "lab_cols = list(set(lab_cols) - set(all_missing_cols))"
   ]
  },
  {
   "cell_type": "code",
   "execution_count": 397,
   "metadata": {},
   "outputs": [
    {
     "data": {
      "text/plain": [
       "array([dtype('float64'), dtype('int64')], dtype=object)"
      ]
     },
     "execution_count": 397,
     "metadata": {},
     "output_type": "execute_result"
    }
   ],
   "source": [
    "# check to make sure all of our data is numeric\n",
    "lab_df[lab_cols].dtypes.unique()"
   ]
  },
  {
   "cell_type": "code",
   "execution_count": 37,
   "metadata": {},
   "outputs": [],
   "source": [
    "def patient_num_records(df):\n",
    "    \n",
    "    # get indices grouped by patient\n",
    "    n_measurements = df.groupby(\"RID\").apply(lambda x: x.shape[0])\n",
    "    \n",
    "    return(n_measurements)"
   ]
  },
  {
   "cell_type": "code",
   "execution_count": 181,
   "metadata": {},
   "outputs": [
    {
     "data": {
      "image/png": "[encoded data removed]",
      "text/plain": [
       "<Figure size 1152x288 with 3 Axes>"
      ]
     },
     "metadata": {},
     "output_type": "display_data"
    }
   ],
   "source": [
    "# lets look at the break-down of duplicate RIDs\n",
    "all_dfs = [apo_df, csf_df, lab_df]\n",
    "df_names = [\"ApoE\",\"CSF\",\"Lab Data\"]\n",
    "plt.figure(figsize=(16,4))\n",
    "for i,df in enumerate(all_dfs):\n",
    "    _, _, n = patient_first_last_idx(df)\n",
    "    plt.subplot(1,len(all_dfs),i+1)\n",
    "    plt.hist(n)\n",
    "    plt.xlabel(\"records per patient\")\n",
    "    plt.ylabel(\"count\")\n",
    "    plt.title(df_names[i])"
   ]
  },
  {
   "cell_type": "code",
   "execution_count": 23,
   "metadata": {},
   "outputs": [],
   "source": [
    "# build a dataframe with the first entry for each patient\n",
    "def patient_first_entry_data(df):\n",
    "    by_RID = df.groupby(\"RID\")\n",
    "    first_entry_dat = by_RID.apply(lambda x: x.apply(lambda y: y.iloc[0]))\n",
    "    return(first_entry_dat)"
   ]
  },
  {
   "cell_type": "code",
   "execution_count": 24,
   "metadata": {},
   "outputs": [],
   "source": [
    "# get first entry for each df\n",
    "all_df_cols = [apo_cols, csf_cols, lab_cols]\n",
    "\n",
    "# iterate over dataframes\n",
    "for i,df in enumerate(all_dfs):\n",
    "    \n",
    "    # restrict to column subset of df\n",
    "    # ensure RID is in column list\n",
    "    cols = all_df_cols[i]\n",
    "    if \"RID\" not in cols:\n",
    "        cols.append(\"RID\")\n",
    "    \n",
    "    # if not first iteration\n",
    "    if i:\n",
    "        # get first entry for each patient\n",
    "        tmp_df = patient_first_entry_data(df[cols])\n",
    "        \n",
    "        # append to per patient df\n",
    "        pat_df = combine_patient_data(pat_df, df[cols])\n",
    "    else:\n",
    "        # initialize per patient df\n",
    "        pat_df = patient_first_entry_data(df[cols])\n"
   ]
  },
  {
   "cell_type": "code",
   "execution_count": 25,
   "metadata": {},
   "outputs": [
    {
     "data": {
      "text/plain": [
       "(5876, 150)"
      ]
     },
     "execution_count": 25,
     "metadata": {},
     "output_type": "execute_result"
    }
   ],
   "source": [
    "pat_df.shape"
   ]
  },
  {
   "cell_type": "markdown",
   "metadata": {},
   "source": [
    "**Breakdown by VISCODE**\n",
    "\n",
    "Let's take a look at the number of records/unique entries for each patient as a function of `VISCODE` to see if we can find a reasonable way to split of the data. One option is to apply the `patient_first_last_idx` function defined above to the data grouped by `VISCODE`."
   ]
  },
  {
   "cell_type": "code",
   "execution_count": 186,
   "metadata": {},
   "outputs": [
    {
     "data": {
      "image/png": "[encoded data removed]",
      "text/plain": [
       "<Figure size 1152x288 with 3 Axes>"
      ]
     },
     "metadata": {},
     "output_type": "display_data"
    }
   ],
   "source": [
    "grp = \"VISCODE2\"\n",
    "bins = np.arange(1,7,1)\n",
    "nbins = bins.shape[0]-1\n",
    "plt.figure(figsize=(16,4))\n",
    "for i,df in enumerate(all_dfs):\n",
    "    \n",
    "    # create subplot for histogram of each df\n",
    "    if \"VISCODE2\" in df.columns:\n",
    "        grp=\"VISCODE2\"\n",
    "    else:\n",
    "        grp = \"VISCODE\"\n",
    "    by_viscode = df.groupby(grp)\n",
    "    records_per_viscode = by_viscode.apply(patient_num_records)\n",
    "    \n",
    "    # get viscodes from df\n",
    "    viscodes = df[grp].dropna().unique()\n",
    "    nv = viscodes.shape[0]\n",
    "    vc = np.tile(viscodes,nbins)\n",
    "    tmp_counts = np.zeros(viscodes.shape[0]*nbins)\n",
    "    tmp_n = np.tile(np.arange(1,nbins+1,1).reshape(-1,1),nv).reshape(-1,nv).flatten()\n",
    "    tmp_df = pd.DataFrame(data=np.vstack((vc,tmp_n,tmp_counts)).T, columns=[grp,\"records\",\"count\"])\n",
    "    \n",
    "    plt.subplot(1,len(all_dfs),i+1)\n",
    "    for j,code in enumerate(viscodes):\n",
    "        \n",
    "        # count num in each category\n",
    "        tmp_df.loc[tmp_df[grp]==code,'count'] = np.histogram(records_per_viscode[code].values, bins)[0]\n",
    "        \n",
    "    sns.barplot(x=\"records\", y=\"count\", hue=grp, data=tmp_df)    \n",
    "\n",
    "    plt.xlabel(\"records per patient\")\n",
    "    plt.ylabel(\"count\")\n",
    "    plt.title(\"patient record number by visit code ({})\".format(df_names[i]))\n",
    "    plt.legend()\n",
    "    "
   ]
  },
  {
   "cell_type": "markdown",
   "metadata": {},
   "source": [
    "**Diagnostic Summary Analysis**"
   ]
  },
  {
   "cell_type": "code",
   "execution_count": 193,
   "metadata": {},
   "outputs": [
    {
     "data": {
      "text/html": [
       "<div>\n",
       "<style scoped>\n",
       "    .dataframe tbody tr th:only-of-type {\n",
       "        vertical-align: middle;\n",
       "    }\n",
       "\n",
       "    .dataframe tbody tr th {\n",
       "        vertical-align: top;\n",
       "    }\n",
       "\n",
       "    .dataframe thead th {\n",
       "        text-align: right;\n",
       "    }\n",
       "</style>\n",
       "<table border=\"1\" class=\"dataframe\">\n",
       "  <thead>\n",
       "    <tr style=\"text-align: right;\">\n",
       "      <th></th>\n",
       "      <th>FLDNAME</th>\n",
       "      <th>TYPE</th>\n",
       "      <th>TEXT</th>\n",
       "      <th>CODE</th>\n",
       "    </tr>\n",
       "  </thead>\n",
       "  <tbody>\n",
       "    <tr>\n",
       "      <th>0</th>\n",
       "      <td>NaN</td>\n",
       "      <td>NaN</td>\n",
       "      <td>NaN</td>\n",
       "      <td>NaN</td>\n",
       "    </tr>\n",
       "    <tr>\n",
       "      <th>1</th>\n",
       "      <td>ID</td>\n",
       "      <td>N</td>\n",
       "      <td>Record ID</td>\n",
       "      <td>\"crfname\",\"\",\"indexes\",\"adni_aal_idx=TBLID,FLD...</td>\n",
       "    </tr>\n",
       "    <tr>\n",
       "      <th>2</th>\n",
       "      <td>RID</td>\n",
       "      <td>N</td>\n",
       "      <td>Participant roster ID</td>\n",
       "      <td>NaN</td>\n",
       "    </tr>\n",
       "    <tr>\n",
       "      <th>3</th>\n",
       "      <td>SITEID</td>\n",
       "      <td>N</td>\n",
       "      <td>Site ID</td>\n",
       "      <td>NaN</td>\n",
       "    </tr>\n",
       "    <tr>\n",
       "      <th>4</th>\n",
       "      <td>VISCODE</td>\n",
       "      <td>T</td>\n",
       "      <td>Visit code</td>\n",
       "      <td>NaN</td>\n",
       "    </tr>\n",
       "    <tr>\n",
       "      <th>5</th>\n",
       "      <td>VISCODE2</td>\n",
       "      <td>-4</td>\n",
       "      <td>Translated visit code</td>\n",
       "      <td>-4</td>\n",
       "    </tr>\n",
       "    <tr>\n",
       "      <th>6</th>\n",
       "      <td>USERDATE</td>\n",
       "      <td>S</td>\n",
       "      <td>Date record created</td>\n",
       "      <td>NaN</td>\n",
       "    </tr>\n",
       "    <tr>\n",
       "      <th>7</th>\n",
       "      <td>USERDATE2</td>\n",
       "      <td>S</td>\n",
       "      <td>Date record last updated</td>\n",
       "      <td>NaN</td>\n",
       "    </tr>\n",
       "    <tr>\n",
       "      <th>8</th>\n",
       "      <td>EXAMDATE</td>\n",
       "      <td>D</td>\n",
       "      <td>Examination Date</td>\n",
       "      <td>NaN</td>\n",
       "    </tr>\n",
       "    <tr>\n",
       "      <th>9</th>\n",
       "      <td>DXCHANGE</td>\n",
       "      <td>N</td>\n",
       "      <td>1.  Which best describes the participant's cha...</td>\n",
       "      <td>1=Stable: NL to NL; 2=Stable: MCI to MCI; 3=St...</td>\n",
       "    </tr>\n",
       "    <tr>\n",
       "      <th>10</th>\n",
       "      <td>DXCURREN</td>\n",
       "      <td>N</td>\n",
       "      <td>1. Current Diagnosis</td>\n",
       "      <td>1=NL;2=MCI;3=AD</td>\n",
       "    </tr>\n",
       "    <tr>\n",
       "      <th>11</th>\n",
       "      <td>DXCONV</td>\n",
       "      <td>N</td>\n",
       "      <td>2. Has there been a conversion or reversion to...</td>\n",
       "      <td>1=Yes - Conversion;2=Yes - Reversion; 0=No</td>\n",
       "    </tr>\n",
       "    <tr>\n",
       "      <th>12</th>\n",
       "      <td>DXCONTYP</td>\n",
       "      <td>N</td>\n",
       "      <td>If YES - CONVERSION, choose type</td>\n",
       "      <td>1=Normal Control to MCI; 2=Normal Control to A...</td>\n",
       "    </tr>\n",
       "    <tr>\n",
       "      <th>13</th>\n",
       "      <td>DXREV</td>\n",
       "      <td>N</td>\n",
       "      <td>If YES - REVERSION, choose type</td>\n",
       "      <td>1=MCI to Normal Control; 2=AD to MCI; 3=AD to ...</td>\n",
       "    </tr>\n",
       "    <tr>\n",
       "      <th>14</th>\n",
       "      <td>DXNORM</td>\n",
       "      <td>T</td>\n",
       "      <td>Normal</td>\n",
       "      <td>1=Yes</td>\n",
       "    </tr>\n",
       "    <tr>\n",
       "      <th>15</th>\n",
       "      <td>DXNODEP</td>\n",
       "      <td>T</td>\n",
       "      <td>Mild Depression</td>\n",
       "      <td>1=Yes</td>\n",
       "    </tr>\n",
       "    <tr>\n",
       "      <th>16</th>\n",
       "      <td>DXMCI</td>\n",
       "      <td>T</td>\n",
       "      <td>Mild Cognitive Impairment</td>\n",
       "      <td>1=Yes</td>\n",
       "    </tr>\n",
       "    <tr>\n",
       "      <th>17</th>\n",
       "      <td>DXMDES</td>\n",
       "      <td>T</td>\n",
       "      <td>If Mild Cognitive Impairment, select any that ...</td>\n",
       "      <td>1=MCI (Memory features); 2=MCI (Non-memory fea...</td>\n",
       "    </tr>\n",
       "    <tr>\n",
       "      <th>18</th>\n",
       "      <td>DXMPTR1</td>\n",
       "      <td>N</td>\n",
       "      <td>1. Subjective memory complaint</td>\n",
       "      <td>1=Yes; 0=No</td>\n",
       "    </tr>\n",
       "    <tr>\n",
       "      <th>19</th>\n",
       "      <td>DXMPTR2</td>\n",
       "      <td>N</td>\n",
       "      <td>2. Informant memory complaint</td>\n",
       "      <td>1=Yes; 0=No</td>\n",
       "    </tr>\n",
       "    <tr>\n",
       "      <th>20</th>\n",
       "      <td>DXMPTR3</td>\n",
       "      <td>N</td>\n",
       "      <td>3. Normal general cognitive function</td>\n",
       "      <td>1=Yes; 0=No; 2=Marginal</td>\n",
       "    </tr>\n",
       "    <tr>\n",
       "      <th>21</th>\n",
       "      <td>DXMPTR4</td>\n",
       "      <td>N</td>\n",
       "      <td>4. Normal activities of daily living</td>\n",
       "      <td>1=Yes; 0=No; 2=Marginal</td>\n",
       "    </tr>\n",
       "    <tr>\n",
       "      <th>22</th>\n",
       "      <td>DXMPTR5</td>\n",
       "      <td>N</td>\n",
       "      <td>5. Objective memory impairment for age and edu...</td>\n",
       "      <td>1=Yes; 0=No</td>\n",
       "    </tr>\n",
       "    <tr>\n",
       "      <th>23</th>\n",
       "      <td>DXMPTR6</td>\n",
       "      <td>N</td>\n",
       "      <td>6. Not demented by diagnostic criteria</td>\n",
       "      <td>1=Yes;0=No</td>\n",
       "    </tr>\n",
       "    <tr>\n",
       "      <th>24</th>\n",
       "      <td>DXMDUE</td>\n",
       "      <td>N</td>\n",
       "      <td>If MCI</td>\n",
       "      <td>1=MCI due to Alzheimer's Disease; 2=MCI due to...</td>\n",
       "    </tr>\n",
       "    <tr>\n",
       "      <th>25</th>\n",
       "      <td>DXMOTHET</td>\n",
       "      <td>T</td>\n",
       "      <td>If MCI due to other etiology, select box(es) t...</td>\n",
       "      <td>1=Frontal Lobe Dementia; 2=Parkinson's Disease...</td>\n",
       "    </tr>\n",
       "    <tr>\n",
       "      <th>26</th>\n",
       "      <td>DXMOTHSP</td>\n",
       "      <td>T</td>\n",
       "      <td>Other (specify)</td>\n",
       "      <td>NaN</td>\n",
       "    </tr>\n",
       "    <tr>\n",
       "      <th>27</th>\n",
       "      <td>DXDSEV</td>\n",
       "      <td>N</td>\n",
       "      <td>3a.  Dementia Severity - Clinician's Impression</td>\n",
       "      <td>1=Mild; 2=Moderate; 3=Severe</td>\n",
       "    </tr>\n",
       "    <tr>\n",
       "      <th>28</th>\n",
       "      <td>DXDDUE</td>\n",
       "      <td>N</td>\n",
       "      <td>3b.  Suspected cause of dementia</td>\n",
       "      <td>1=Dementia due to Alzheimer's Disease; 2=Demen...</td>\n",
       "    </tr>\n",
       "    <tr>\n",
       "      <th>29</th>\n",
       "      <td>DXAD</td>\n",
       "      <td>T</td>\n",
       "      <td>Alzheimer's Disease</td>\n",
       "      <td>1=Yes</td>\n",
       "    </tr>\n",
       "    <tr>\n",
       "      <th>30</th>\n",
       "      <td>DXADES</td>\n",
       "      <td>N</td>\n",
       "      <td>If Alzheimer's Disease, select box that indica...</td>\n",
       "      <td>1=Mild; 2=Moderate; 3=Severe</td>\n",
       "    </tr>\n",
       "    <tr>\n",
       "      <th>31</th>\n",
       "      <td>DXAPP</td>\n",
       "      <td>N</td>\n",
       "      <td>If Alzheimer's Disease</td>\n",
       "      <td>1=Probable; 2=Possible</td>\n",
       "    </tr>\n",
       "    <tr>\n",
       "      <th>32</th>\n",
       "      <td>DXAPROB</td>\n",
       "      <td>T</td>\n",
       "      <td>If Probable AD, select box(es) for other sympt...</td>\n",
       "      <td>1=None;2=Stroke(s);3=Depression;4=Delirium;5=P...</td>\n",
       "    </tr>\n",
       "    <tr>\n",
       "      <th>33</th>\n",
       "      <td>DXAMETASP</td>\n",
       "      <td>T</td>\n",
       "      <td>Metabolic/Toxic Disorder (specify)</td>\n",
       "      <td>NaN</td>\n",
       "    </tr>\n",
       "    <tr>\n",
       "      <th>34</th>\n",
       "      <td>DXAOTHRSP</td>\n",
       "      <td>T</td>\n",
       "      <td>Other (specify)</td>\n",
       "      <td>NaN</td>\n",
       "    </tr>\n",
       "    <tr>\n",
       "      <th>35</th>\n",
       "      <td>DXAPOSS</td>\n",
       "      <td>T</td>\n",
       "      <td>If Possible AD, select box(es) to indicate rea...</td>\n",
       "      <td>1=Atypical clinical course or features (specif...</td>\n",
       "    </tr>\n",
       "    <tr>\n",
       "      <th>36</th>\n",
       "      <td>DXAATYSP</td>\n",
       "      <td>T</td>\n",
       "      <td>Atypical clinical course or features (specify)</td>\n",
       "      <td>NaN</td>\n",
       "    </tr>\n",
       "    <tr>\n",
       "      <th>37</th>\n",
       "      <td>DXAMETSP</td>\n",
       "      <td>T</td>\n",
       "      <td>Metabolic / Toxic Disorder (specify)</td>\n",
       "      <td>NaN</td>\n",
       "    </tr>\n",
       "    <tr>\n",
       "      <th>38</th>\n",
       "      <td>DXAOTHSP</td>\n",
       "      <td>T</td>\n",
       "      <td>Other (specify)</td>\n",
       "      <td>NaN</td>\n",
       "    </tr>\n",
       "    <tr>\n",
       "      <th>39</th>\n",
       "      <td>DXPARK</td>\n",
       "      <td>T</td>\n",
       "      <td>Parkinsonism</td>\n",
       "      <td>1=Yes</td>\n",
       "    </tr>\n",
       "    <tr>\n",
       "      <th>40</th>\n",
       "      <td>DXPARKSP</td>\n",
       "      <td>T</td>\n",
       "      <td>If yes, please describe</td>\n",
       "      <td>NaN</td>\n",
       "    </tr>\n",
       "    <tr>\n",
       "      <th>41</th>\n",
       "      <td>DXPDES</td>\n",
       "      <td>N</td>\n",
       "      <td>If Parkinsonism, select box which indicates be...</td>\n",
       "      <td>1=Parkinsonism without cognitive impairment; 2...</td>\n",
       "    </tr>\n",
       "    <tr>\n",
       "      <th>42</th>\n",
       "      <td>DXPCOG</td>\n",
       "      <td>N</td>\n",
       "      <td>If Parkinsonism with cognitive impairment, dem...</td>\n",
       "      <td>1=PD;2=PDD;3=DLB;4=PDAD</td>\n",
       "    </tr>\n",
       "    <tr>\n",
       "      <th>43</th>\n",
       "      <td>DXPATYP</td>\n",
       "      <td>N</td>\n",
       "      <td>If Atypical Parkinsonism</td>\n",
       "      <td>1=PSP;2=CBGD;3=OPCA;4=SND;5=Shy Drager;6=Vascu...</td>\n",
       "    </tr>\n",
       "    <tr>\n",
       "      <th>44</th>\n",
       "      <td>DXPOTHSP</td>\n",
       "      <td>T</td>\n",
       "      <td>Other (specify)</td>\n",
       "      <td>NaN</td>\n",
       "    </tr>\n",
       "    <tr>\n",
       "      <th>45</th>\n",
       "      <td>DXDEP</td>\n",
       "      <td>N</td>\n",
       "      <td>4a. Depressive symptoms present?</td>\n",
       "      <td>1=Yes; 0=No</td>\n",
       "    </tr>\n",
       "    <tr>\n",
       "      <th>46</th>\n",
       "      <td>DXDEPSP</td>\n",
       "      <td>T</td>\n",
       "      <td>If yes, please describe</td>\n",
       "      <td>NaN</td>\n",
       "    </tr>\n",
       "    <tr>\n",
       "      <th>47</th>\n",
       "      <td>DXOTHDEM</td>\n",
       "      <td>T</td>\n",
       "      <td>Other Dementia (not Alzheimer's Disease)</td>\n",
       "      <td>1=Yes</td>\n",
       "    </tr>\n",
       "    <tr>\n",
       "      <th>48</th>\n",
       "      <td>DXODES</td>\n",
       "      <td>N</td>\n",
       "      <td>If Other Dementia, select box which indicates ...</td>\n",
       "      <td>1=Frontal; 2=Huntington; 3=Alcohol; 4=NPH; 5=M...</td>\n",
       "    </tr>\n",
       "    <tr>\n",
       "      <th>49</th>\n",
       "      <td>DXOOTHSP</td>\n",
       "      <td>T</td>\n",
       "      <td>Other (specify)</td>\n",
       "      <td>NaN</td>\n",
       "    </tr>\n",
       "    <tr>\n",
       "      <th>50</th>\n",
       "      <td>DXCONFID</td>\n",
       "      <td>N</td>\n",
       "      <td>Physician Confidence in Diagnosis:</td>\n",
       "      <td>1=Uncertain; 2=Mildly Confident; 3=Moderately ...</td>\n",
       "    </tr>\n",
       "    <tr>\n",
       "      <th>51</th>\n",
       "      <td>DIAGNOSIS</td>\n",
       "      <td>N</td>\n",
       "      <td>Specify diagnostic category:</td>\n",
       "      <td>1=Cognitively Normal; 5=Significant Memory Con...</td>\n",
       "    </tr>\n",
       "    <tr>\n",
       "      <th>52</th>\n",
       "      <td>NaN</td>\n",
       "      <td>NaN</td>\n",
       "      <td>NaN</td>\n",
       "      <td>NaN</td>\n",
       "    </tr>\n",
       "  </tbody>\n",
       "</table>\n",
       "</div>"
      ],
      "text/plain": [
       "      FLDNAME TYPE                                               TEXT  \\\n",
       "0         NaN  NaN                                                NaN   \n",
       "1          ID    N                                          Record ID   \n",
       "2         RID    N                              Participant roster ID   \n",
       "3      SITEID    N                                            Site ID   \n",
       "4     VISCODE    T                                         Visit code   \n",
       "5    VISCODE2   -4                              Translated visit code   \n",
       "6    USERDATE    S                                Date record created   \n",
       "7   USERDATE2    S                           Date record last updated   \n",
       "8    EXAMDATE    D                                   Examination Date   \n",
       "9    DXCHANGE    N  1.  Which best describes the participant's cha...   \n",
       "10   DXCURREN    N                               1. Current Diagnosis   \n",
       "11     DXCONV    N  2. Has there been a conversion or reversion to...   \n",
       "12   DXCONTYP    N                   If YES - CONVERSION, choose type   \n",
       "13      DXREV    N                    If YES - REVERSION, choose type   \n",
       "14     DXNORM    T                                             Normal   \n",
       "15    DXNODEP    T                                    Mild Depression   \n",
       "16      DXMCI    T                          Mild Cognitive Impairment   \n",
       "17     DXMDES    T  If Mild Cognitive Impairment, select any that ...   \n",
       "18    DXMPTR1    N                     1. Subjective memory complaint   \n",
       "19    DXMPTR2    N                      2. Informant memory complaint   \n",
       "20    DXMPTR3    N               3. Normal general cognitive function   \n",
       "21    DXMPTR4    N               4. Normal activities of daily living   \n",
       "22    DXMPTR5    N  5. Objective memory impairment for age and edu...   \n",
       "23    DXMPTR6    N             6. Not demented by diagnostic criteria   \n",
       "24     DXMDUE    N                                             If MCI   \n",
       "25   DXMOTHET    T  If MCI due to other etiology, select box(es) t...   \n",
       "26   DXMOTHSP    T                                    Other (specify)   \n",
       "27     DXDSEV    N    3a.  Dementia Severity - Clinician's Impression   \n",
       "28     DXDDUE    N                   3b.  Suspected cause of dementia   \n",
       "29       DXAD    T                                Alzheimer's Disease   \n",
       "30     DXADES    N  If Alzheimer's Disease, select box that indica...   \n",
       "31      DXAPP    N                             If Alzheimer's Disease   \n",
       "32    DXAPROB    T  If Probable AD, select box(es) for other sympt...   \n",
       "33  DXAMETASP    T                 Metabolic/Toxic Disorder (specify)   \n",
       "34  DXAOTHRSP    T                                    Other (specify)   \n",
       "35    DXAPOSS    T  If Possible AD, select box(es) to indicate rea...   \n",
       "36   DXAATYSP    T     Atypical clinical course or features (specify)   \n",
       "37   DXAMETSP    T               Metabolic / Toxic Disorder (specify)   \n",
       "38   DXAOTHSP    T                                    Other (specify)   \n",
       "39     DXPARK    T                                       Parkinsonism   \n",
       "40   DXPARKSP    T                            If yes, please describe   \n",
       "41     DXPDES    N  If Parkinsonism, select box which indicates be...   \n",
       "42     DXPCOG    N  If Parkinsonism with cognitive impairment, dem...   \n",
       "43    DXPATYP    N                           If Atypical Parkinsonism   \n",
       "44   DXPOTHSP    T                                    Other (specify)   \n",
       "45      DXDEP    N                   4a. Depressive symptoms present?   \n",
       "46    DXDEPSP    T                            If yes, please describe   \n",
       "47   DXOTHDEM    T           Other Dementia (not Alzheimer's Disease)   \n",
       "48     DXODES    N  If Other Dementia, select box which indicates ...   \n",
       "49   DXOOTHSP    T                                    Other (specify)   \n",
       "50   DXCONFID    N                 Physician Confidence in Diagnosis:   \n",
       "51  DIAGNOSIS    N                       Specify diagnostic category:   \n",
       "52        NaN  NaN                                                NaN   \n",
       "\n",
       "                                                 CODE  \n",
       "0                                                 NaN  \n",
       "1   \"crfname\",\"\",\"indexes\",\"adni_aal_idx=TBLID,FLD...  \n",
       "2                                                 NaN  \n",
       "3                                                 NaN  \n",
       "4                                                 NaN  \n",
       "5                                                  -4  \n",
       "6                                                 NaN  \n",
       "7                                                 NaN  \n",
       "8                                                 NaN  \n",
       "9   1=Stable: NL to NL; 2=Stable: MCI to MCI; 3=St...  \n",
       "10                                    1=NL;2=MCI;3=AD  \n",
       "11         1=Yes - Conversion;2=Yes - Reversion; 0=No  \n",
       "12  1=Normal Control to MCI; 2=Normal Control to A...  \n",
       "13  1=MCI to Normal Control; 2=AD to MCI; 3=AD to ...  \n",
       "14                                              1=Yes  \n",
       "15                                              1=Yes  \n",
       "16                                              1=Yes  \n",
       "17  1=MCI (Memory features); 2=MCI (Non-memory fea...  \n",
       "18                                        1=Yes; 0=No  \n",
       "19                                        1=Yes; 0=No  \n",
       "20                            1=Yes; 0=No; 2=Marginal  \n",
       "21                            1=Yes; 0=No; 2=Marginal  \n",
       "22                                        1=Yes; 0=No  \n",
       "23                                         1=Yes;0=No  \n",
       "24  1=MCI due to Alzheimer's Disease; 2=MCI due to...  \n",
       "25  1=Frontal Lobe Dementia; 2=Parkinson's Disease...  \n",
       "26                                                NaN  \n",
       "27                       1=Mild; 2=Moderate; 3=Severe  \n",
       "28  1=Dementia due to Alzheimer's Disease; 2=Demen...  \n",
       "29                                              1=Yes  \n",
       "30                       1=Mild; 2=Moderate; 3=Severe  \n",
       "31                             1=Probable; 2=Possible  \n",
       "32  1=None;2=Stroke(s);3=Depression;4=Delirium;5=P...  \n",
       "33                                                NaN  \n",
       "34                                                NaN  \n",
       "35  1=Atypical clinical course or features (specif...  \n",
       "36                                                NaN  \n",
       "37                                                NaN  \n",
       "38                                                NaN  \n",
       "39                                              1=Yes  \n",
       "40                                                NaN  \n",
       "41  1=Parkinsonism without cognitive impairment; 2...  \n",
       "42                            1=PD;2=PDD;3=DLB;4=PDAD  \n",
       "43  1=PSP;2=CBGD;3=OPCA;4=SND;5=Shy Drager;6=Vascu...  \n",
       "44                                                NaN  \n",
       "45                                        1=Yes; 0=No  \n",
       "46                                                NaN  \n",
       "47                                              1=Yes  \n",
       "48  1=Frontal; 2=Huntington; 3=Alcohol; 4=NPH; 5=M...  \n",
       "49                                                NaN  \n",
       "50  1=Uncertain; 2=Mildly Confident; 3=Moderately ...  \n",
       "51  1=Cognitively Normal; 5=Significant Memory Con...  \n",
       "52                                                NaN  "
      ]
     },
     "execution_count": 193,
     "metadata": {},
     "output_type": "execute_result"
    }
   ],
   "source": [
    "# read in data and print summary of terms\n",
    "dx_df = pd.read_csv(\"Diagnosis/DXSUM_PDXCONV_ADNIALL.csv\")\n",
    "dx_terms = define_terms(dx_df, adni_dict_df)"
   ]
  },
  {
   "cell_type": "code",
   "execution_count": 291,
   "metadata": {},
   "outputs": [],
   "source": [
    "# specify columns of interest from diagnostic data\n",
    "dx_cols = [\"DXNORM\",\"DXNODEP\",\"DXMPTR1\",\"DXMPTR2\",\"DXMPTR3\",\"DXMPTR4\",\"DXMPTR5\",\"DXPARK\",\"DXDEP\",\"DXOTHDEM\"]"
   ]
  },
  {
   "cell_type": "markdown",
   "metadata": {},
   "source": [
    "We can see from the summary above that there are many diagnostic summaries which take the form of comments on previous categories. These will have to be removed. Also, many of the categories are dependent on previous categories, those should probably be removed as well."
   ]
  },
  {
   "cell_type": "code",
   "execution_count": 284,
   "metadata": {},
   "outputs": [
    {
     "name": "stdout",
     "output_type": "stream",
     "text": [
      "['1=Stable: NL to NL; 2=Stable: MCI to MCI; 3=Stable: Dementia to Dementia; 4=Conversion: NL to MCI; 5=Conversion: MCI to Dementia; 6=Conversion: NL to Dementia; 7=Reversion: MCI to NL; 8=Reversion: Dementia to MCI; 9=Reversion: Dementia to NL']\n",
      "[\"1=Cognitively Normal; 5=Significant Memory Concern;2=Early MCI; 3=Late MCI; 4=Alzheimer's Disease\"]\n"
     ]
    }
   ],
   "source": [
    "# print the values for DXCHANGE\n",
    "print(dx_terms.loc[dx_terms.FLDNAME==\"DXCHANGE\"].CODE.values)\n",
    "print(dx_terms.loc[dx_terms.FLDNAME==\"DIAGNOSIS\"].CODE.values)"
   ]
  },
  {
   "cell_type": "code",
   "execution_count": 209,
   "metadata": {},
   "outputs": [
    {
     "name": "stdout",
     "output_type": "stream",
     "text": [
      "Num Entries:\t 11264\n",
      "Num Columns: 53\n",
      "Num Patients:\t 2516\n",
      "Records per Patient:\t 1-15\n",
      "Phases Spanned:\t 1-4\n",
      "Patients w/ Duplicates:\t 2024\n",
      "\n"
     ]
    }
   ],
   "source": [
    "# response var\n",
    "describe_meta_data(dx_df)"
   ]
  },
  {
   "cell_type": "code",
   "execution_count": 278,
   "metadata": {},
   "outputs": [
    {
     "data": {
      "text/html": [
       "<div>\n",
       "<style scoped>\n",
       "    .dataframe tbody tr th:only-of-type {\n",
       "        vertical-align: middle;\n",
       "    }\n",
       "\n",
       "    .dataframe tbody tr th {\n",
       "        vertical-align: top;\n",
       "    }\n",
       "\n",
       "    .dataframe thead th {\n",
       "        text-align: right;\n",
       "    }\n",
       "</style>\n",
       "<table border=\"1\" class=\"dataframe\">\n",
       "  <thead>\n",
       "    <tr style=\"text-align: right;\">\n",
       "      <th></th>\n",
       "      <th>DXCURREN</th>\n",
       "      <th>DXCHANGE</th>\n",
       "      <th>DIAGNOSIS</th>\n",
       "    </tr>\n",
       "    <tr>\n",
       "      <th>Phase</th>\n",
       "      <th></th>\n",
       "      <th></th>\n",
       "      <th></th>\n",
       "    </tr>\n",
       "  </thead>\n",
       "  <tbody>\n",
       "    <tr>\n",
       "      <th>ADNI1</th>\n",
       "      <td>3868</td>\n",
       "      <td>0</td>\n",
       "      <td>0</td>\n",
       "    </tr>\n",
       "    <tr>\n",
       "      <th>ADNI2</th>\n",
       "      <td>0</td>\n",
       "      <td>5638</td>\n",
       "      <td>0</td>\n",
       "    </tr>\n",
       "    <tr>\n",
       "      <th>ADNI3</th>\n",
       "      <td>0</td>\n",
       "      <td>0</td>\n",
       "      <td>1281</td>\n",
       "    </tr>\n",
       "    <tr>\n",
       "      <th>ADNIGO</th>\n",
       "      <td>0</td>\n",
       "      <td>475</td>\n",
       "      <td>0</td>\n",
       "    </tr>\n",
       "  </tbody>\n",
       "</table>\n",
       "</div>"
      ],
      "text/plain": [
       "        DXCURREN  DXCHANGE  DIAGNOSIS\n",
       "Phase                                \n",
       "ADNI1       3868         0          0\n",
       "ADNI2          0      5638          0\n",
       "ADNI3          0         0       1281\n",
       "ADNIGO         0       475          0"
      ]
     },
     "execution_count": 278,
     "metadata": {},
     "output_type": "execute_result"
    }
   ],
   "source": [
    "# look at number of diagnostic values for each phase\n",
    "by_phase = dx_df.groupby(\"Phase\")\n",
    "n_missing_per_phase = by_phase[[\"DXCURREN\",\"DXCHANGE\",\"DIAGNOSIS\"]].apply(lambda x: x.shape[0]-x.isna().sum())\n",
    "n_missing_per_phase"
   ]
  },
  {
   "cell_type": "code",
   "execution_count": 408,
   "metadata": {},
   "outputs": [
    {
     "data": {
      "text/plain": [
       "11262"
      ]
     },
     "execution_count": 408,
     "metadata": {},
     "output_type": "execute_result"
    }
   ],
   "source": [
    "n_missing_per_phase.values.sum()"
   ]
  },
  {
   "cell_type": "markdown",
   "metadata": {},
   "source": [
    "We can tell from the table above that we have different diagnostic summary categories for different phases of ADNI. We can make a more or less complete list of diagnoses by combining these three categories into one."
   ]
  },
  {
   "cell_type": "code",
   "execution_count": 280,
   "metadata": {},
   "outputs": [],
   "source": [
    "# convert DXCHANGE to DX, NL=(1,7,9), MCI=(2,4,8), AD=(3,5,6)\n",
    "def combine_dx_measures(dxchange, dxcurr, diagnosis):\n",
    "    \n",
    "    # ensure array has proper dimensions\n",
    "    dxchange = dxchange.reshape(-1,1)\n",
    "    NL = np.array([1,7,9]).reshape(1,3)\n",
    "    MCI = np.array([2,4,8]).reshape(1,3)\n",
    "    AD = np.array([3,5,6]).reshape(1,3)\n",
    "    is_normal = (dxchange==NL).any(1)\n",
    "    is_mildcog = (dxchange==MCI).any(1)\n",
    "    is_alzh = (dxchange==AD).any(1)\n",
    "    \n",
    "    # convert to dx summary\n",
    "    dx_sum = np.full(dxchange.shape,np.nan)\n",
    "    dx_sum[is_normal]=1\n",
    "    dx_sum[is_mildcog]=2\n",
    "    dx_sum[is_alzh]=3\n",
    "    \n",
    "    # add in dxcurr and diagnosis\n",
    "    dx_sum[np.isnan(dx_sum)] = dxcurr[np.isnan(dx_sum).flatten()]\n",
    "    dx_sum[np.isnan(dx_sum)] = diagnosis[np.isnan(dx_sum).flatten()]\n",
    "    \n",
    "    return(dx_sum)"
   ]
  },
  {
   "cell_type": "code",
   "execution_count": 293,
   "metadata": {},
   "outputs": [],
   "source": [
    "# combine diagnostic values across ADNI phases and add to df\n",
    "dx_comb = combine_dx_measures(dx_df.DXCHANGE.values, dx_df.DXCURREN.values, dx_df.DIAGNOSIS.values)\n",
    "dx_df[\"DXCOMB\"] = dx_comb\n",
    "\n",
    "# append our new category to dx column list\n",
    "dx_cols.append(\"DXCOMB\")"
   ]
  },
  {
   "cell_type": "markdown",
   "metadata": {},
   "source": [
    "Let's combine all the data so far into a single dataframe."
   ]
  },
  {
   "cell_type": "code",
   "execution_count": 489,
   "metadata": {},
   "outputs": [],
   "source": [
    "# get first entry for each df\n",
    "all_dfs = [apo_df, csf_df, lab_df, dx_df]\n",
    "all_df_cols = [apo_cols, csf_cols, lab_cols, dx_cols]\n",
    "\n",
    "# iterate over dataframes\n",
    "for i,df in enumerate(all_dfs):\n",
    "    \n",
    "    # ensure standardized missing values\n",
    "    df.replace(to_replace=-1, value=np.nan, inplace=True)\n",
    "    df.replace(to_replace=-4, value=np.nan, inplace=True)\n",
    "    \n",
    "    # restrict to column subset of df\n",
    "    # ensure RID is in column list\n",
    "    cols = all_df_cols[i]\n",
    "    if \"RID\" not in cols:\n",
    "        cols.append(\"RID\")\n",
    "    \n",
    "    # if not first iteration\n",
    "    if i:\n",
    "        # get first entry for each patient\n",
    "        tmp_df = patient_first_entry_data(df[cols])\n",
    "        \n",
    "        # append to per patient df\n",
    "        pat_df = combine_patient_data(pat_df, tmp_df[cols])\n",
    "    else:\n",
    "        # initialize per patient df\n",
    "        pat_df = patient_first_entry_data(df[cols])\n"
   ]
  },
  {
   "cell_type": "code",
   "execution_count": 490,
   "metadata": {},
   "outputs": [
    {
     "name": "stdout",
     "output_type": "stream",
     "text": [
      "(3018, 111)\n",
      "(3018,)\n"
     ]
    }
   ],
   "source": [
    "# confirm that there is indeed only one entry for each patient\n",
    "print(pat_df.shape)\n",
    "print(pat_df.RID.unique().shape)"
   ]
  },
  {
   "cell_type": "markdown",
   "metadata": {},
   "source": [
    "**Deal with Missingness**\n",
    "\n"
   ]
  },
  {
   "cell_type": "code",
   "execution_count": 491,
   "metadata": {},
   "outputs": [],
   "source": [
    "# throw away any column with only nans\n",
    "all_missing_cols = pat_df.columns[np.isnan(pat_df.values).all(0)]\n",
    "pat_df = pat_df.drop(columns=all_missing_cols, axis=1)\n",
    "\n",
    "# throw away any row with nan in dx_comb\n",
    "no_dx = pat_df.DXCOMB.isna()\n",
    "\n",
    "# return df with rows dropped\n",
    "pat_df = pat_df.drop(index=pat_df.loc[no_dx].index)"
   ]
  },
  {
   "cell_type": "code",
   "execution_count": 492,
   "metadata": {},
   "outputs": [],
   "source": [
    "# compute mean of each numeric column with missing values\n",
    "replace_cols = pat_df.drop(columns=\"RID\", axis=1).columns\n",
    "col_means = pat_df[replace_cols].apply(np.nanmean)\n",
    "is_missing = pat_df[replace_cols].isna().values\n",
    "\n",
    "#index each column and replace with column mean\n",
    "for i,col in enumerate(replace_cols):\n",
    "    pat_df.loc[is_missing[:,i],col] = col_means[i]"
   ]
  },
  {
   "cell_type": "markdown",
   "metadata": {},
   "source": [
    "**Modeling**\n",
    "\n",
    "Let's try to model the data with a decision tree model. We'll start by splitting the data."
   ]
  },
  {
   "cell_type": "code",
   "execution_count": 496,
   "metadata": {},
   "outputs": [],
   "source": [
    "pat_df[\"DXCOMB\"] = pat_df.DXCOMB.astype(int)"
   ]
  },
  {
   "cell_type": "code",
   "execution_count": 600,
   "metadata": {},
   "outputs": [],
   "source": [
    "train_df, test_df = train_test_split(pat_df, test_size=0.2)\n",
    "x_train = train_df.drop(columns=[\"RID\",\"DXCOMB\"], axis=1)\n",
    "y_train = train_df.DXCOMB\n",
    "x_test = test_df.drop(columns=[\"RID\",\"DXCOMB\"], axis=1)\n",
    "y_test = test_df.DXCOMB"
   ]
  },
  {
   "cell_type": "code",
   "execution_count": 601,
   "metadata": {},
   "outputs": [
    {
     "name": "stdout",
     "output_type": "stream",
     "text": [
      "Max Train Score at depth = 5\n",
      "mean accuracy (test): 0.864\n"
     ]
    },
    {
     "data": {
      "image/png": "[encoded data removed]",
      "text/plain": [
       "<Figure size 432x288 with 1 Axes>"
      ]
     },
     "metadata": {},
     "output_type": "display_data"
    }
   ],
   "source": [
    "#define depths to test\n",
    "depths = np.arange(1,pat_df.shape[1],1)\n",
    "avg_train_score = np.empty(depths.shape, dtype=float)\n",
    "avg_test_score = np.empty(depths.shape, dtype=float)\n",
    "\n",
    "# fit decision tree at each depth and record accuracy\n",
    "for i, depth in enumerate(depths):\n",
    "    clf = DecisionTreeClassifier(criterion=\"gini\", max_depth=depth).fit(x_train,y_train)\n",
    "    avg_train_score[i] = cross_val_score(clf, x_train, y_train, cv=5).mean()\n",
    "    \n",
    "plt.plot(depths, avg_train_score, c='b', lw=2, label=\"train\")\n",
    "ax = plt.gca()\n",
    "ax.set_xlabel(\"tree depth\")\n",
    "ax.set_ylabel(\"mean CV score\")\n",
    "ax.legend()\n",
    "ax.set_title(\"decision tree performance by depth\");\n",
    "\n",
    "# train clf at best depth and report accuracy\n",
    "best_depth = depths[np.argmax(avg_train_score)]\n",
    "best_clf = DecisionTreeClassifier(criterion=\"gini\", max_depth=best_depth).fit(x_train,y_train)\n",
    "print(\"Max Train Score at depth = %i\" % best_depth)\n",
    "print(\"mean accuracy (test): {0:.3f}\".format(cross_val_score(best_clf, x_test, y_test, cv=10).mean()))\n"
   ]
  },
  {
   "cell_type": "code",
   "execution_count": 602,
   "metadata": {},
   "outputs": [
    {
     "name": "stdout",
     "output_type": "stream",
     "text": [
      "mean accuracy (train): 0.858\n",
      "mean accuracy (train): 0.882\n"
     ]
    }
   ],
   "source": [
    "tree = DecisionTreeClassifier(criterion=\"gini\", max_depth=3).fit(x_train,y_train)\n",
    "print(\"mean accuracy (train): {0:.3f}\".format(cross_val_score(tree, x_train, y_train, cv=10).mean()))\n",
    "print(\"mean accuracy (train): {0:.3f}\".format(cross_val_score(tree, x_test, y_test, cv=10).mean()))"
   ]
  },
  {
   "cell_type": "code",
   "execution_count": 603,
   "metadata": {},
   "outputs": [
    {
     "data": {
      "text/plain": [
       "array([0.40015911, 0.4363564 , 0.16348449])"
      ]
     },
     "execution_count": 603,
     "metadata": {},
     "output_type": "execute_result"
    }
   ],
   "source": [
    "# lets compare it to a bad model\n",
    "np.histogram(pat_df.DXCOMB.values, bins=[1,2,3,4])[0]/pat_df.shape[0]"
   ]
  },
  {
   "cell_type": "code",
   "execution_count": 598,
   "metadata": {},
   "outputs": [],
   "source": [
    "# This code is adapted from\n",
    "# http://scikit-learn.org/stable/auto_examples/tree/plot_unveil_tree_structure.html\n",
    "def show_tree_structure(clf):\n",
    "    tree = clf.tree_\n",
    "\n",
    "    n_nodes = tree.node_count\n",
    "    children_left = tree.children_left\n",
    "    children_right = tree.children_right\n",
    "    feature = tree.feature\n",
    "    threshold = tree.threshold\n",
    "\n",
    "    # The tree structure can be traversed to compute various properties such\n",
    "    # as the depth of each node and whether or not it is a leaf.\n",
    "    node_depth = np.zeros(shape=n_nodes, dtype=np.int64)\n",
    "    is_leaves = np.zeros(shape=n_nodes, dtype=bool)\n",
    "    stack = [(0, -1)]  # seed is the root node id and its parent depth\n",
    "    while len(stack) > 0:\n",
    "        node_id, parent_depth = stack.pop()\n",
    "        node_depth[node_id] = parent_depth + 1\n",
    "\n",
    "        # If we have a test node\n",
    "        if (children_left[node_id] != children_right[node_id]):\n",
    "            stack.append((children_left[node_id], parent_depth + 1))\n",
    "            stack.append((children_right[node_id], parent_depth + 1))\n",
    "        else:\n",
    "            is_leaves[node_id] = True\n",
    "\n",
    "    print(f\"The binary tree structure has {n_nodes} nodes:\\n\")\n",
    "    \n",
    "    for i in range(n_nodes):\n",
    "        indent = node_depth[i] * \"  \"\n",
    "        if is_leaves[i]:\n",
    "            prediction = clf.classes_[np.argmax(tree.value[i])]\n",
    "            print(f\"{indent}node {i}: predict class {prediction}\")\n",
    "        else:\n",
    "            print(\"{}node {}: if X[:, {}] <= {:.3f} then go to node {}, else go to node {}\".format(\n",
    "                indent, i, feature[i], threshold[i], children_left[i], children_right[i]))"
   ]
  },
  {
   "cell_type": "code",
   "execution_count": 604,
   "metadata": {},
   "outputs": [
    {
     "name": "stdout",
     "output_type": "stream",
     "text": [
      "The binary tree structure has 31 nodes:\n",
      "\n",
      "node 0: if X[:, 9] <= 0.992 then go to node 1, else go to node 30\n",
      "  node 1: if X[:, 0] <= 157.000 then go to node 2, else go to node 17\n",
      "    node 2: if X[:, 62] <= 74.950 then go to node 3, else go to node 10\n",
      "      node 3: if X[:, 23] <= 65.250 then go to node 4, else go to node 7\n",
      "        node 4: if X[:, 50] <= 158.500 then go to node 5, else go to node 6\n",
      "          node 5: predict class 1\n",
      "          node 6: predict class 1\n",
      "        node 7: if X[:, 48] <= 61.000 then go to node 8, else go to node 9\n",
      "          node 8: predict class 1\n",
      "          node 9: predict class 3\n",
      "      node 10: if X[:, 23] <= 62.150 then go to node 11, else go to node 14\n",
      "        node 11: if X[:, 43] <= 37.500 then go to node 12, else go to node 13\n",
      "          node 12: predict class 3\n",
      "          node 13: predict class 3\n",
      "        node 14: if X[:, 51] <= 10.700 then go to node 15, else go to node 16\n",
      "          node 15: predict class 3\n",
      "          node 16: predict class 1\n",
      "    node 17: if X[:, 16] <= 0.004 then go to node 18, else go to node 23\n",
      "      node 18: if X[:, 12] <= 1.037 then go to node 19, else go to node 20\n",
      "        node 19: predict class 2\n",
      "        node 20: if X[:, 63] <= 1.021 then go to node 21, else go to node 22\n",
      "          node 21: predict class 1\n",
      "          node 22: predict class 1\n",
      "      node 23: if X[:, 2] <= 3.733 then go to node 24, else go to node 27\n",
      "        node 24: if X[:, 48] <= 36.000 then go to node 25, else go to node 26\n",
      "          node 25: predict class 3\n",
      "          node 26: predict class 1\n",
      "        node 27: if X[:, 0] <= 201.500 then go to node 28, else go to node 29\n",
      "          node 28: predict class 3\n",
      "          node 29: predict class 1\n",
      "  node 30: predict class 2\n"
     ]
    }
   ],
   "source": [
    "show_tree_structure(best_clf)"
   ]
  },
  {
   "cell_type": "code",
   "execution_count": 606,
   "metadata": {},
   "outputs": [
    {
     "data": {
      "text/plain": [
       "Index(['DXMPTR1', 'ABETA', 'DXPARK', 'TAU', 'HMT15', 'DXMPTR4', 'RCT14',\n",
       "       'PTAU', 'HMT96'],\n",
       "      dtype='object')"
      ]
     },
     "execution_count": 606,
     "metadata": {},
     "output_type": "execute_result"
    }
   ],
   "source": [
    "# print columns in order of importance\n",
    "splits = [9,0,16,62,23,12,48,43,41]\n",
    "x_train.columns[splits]"
   ]
  },
  {
   "cell_type": "markdown",
   "metadata": {},
   "source": [
    "According to this model, the best predictor is a self-reported memory complaint. "
   ]
  },
  {
   "cell_type": "markdown",
   "metadata": {},
   "source": [
    "**PCA**\n",
    "\n",
    "Let's try some dimensionality reduction with PCA."
   ]
  },
  {
   "cell_type": "code",
   "execution_count": 573,
   "metadata": {},
   "outputs": [],
   "source": [
    "# first scale the data from range 0-1\n",
    "scaler = MinMaxScaler()\n",
    "scaler = scaler.fit(x_train)\n",
    "scaled_train = scaler.transform(x_train)\n",
    "scaled_test = scaler.transform(x_test)"
   ]
  },
  {
   "cell_type": "code",
   "execution_count": 589,
   "metadata": {},
   "outputs": [],
   "source": [
    "# perform PCA on scaled data and store in new df\n",
    "pca = PCA(n_components=x_train.shape[1])\n",
    "pca.fit(scaled_train)\n",
    "\n",
    "# transform data and store in new dataframe\n",
    "columns = ['pc_%i' % i for i in range(x_train.shape[1])]\n",
    "df_pca = pd.DataFrame(pca.transform(scaled_train), columns=columns, index=train_df.index)\n",
    "\n",
    "# get design matrices for train and test\n",
    "pca_x_train = df_pca.values\n",
    "pca_x_test = pca.transform(scaled_test)\n",
    "\n",
    "# store response var\n",
    "df_pca[\"DX\"] = y_train"
   ]
  },
  {
   "cell_type": "code",
   "execution_count": 590,
   "metadata": {},
   "outputs": [
    {
     "data": {
      "image/png": "[encoded data removed]",
      "text/plain": [
       "<Figure size 720x720 with 1 Axes>"
      ]
     },
     "metadata": {},
     "output_type": "display_data"
    }
   ],
   "source": [
    "plt.figure(figsize=(10,10))\n",
    "ax=sns.scatterplot(x=\"pc_0\", y=\"pc_1\", hue=\"DX\", data=df_pca, s=30)"
   ]
  },
  {
   "cell_type": "code",
   "execution_count": 597,
   "metadata": {},
   "outputs": [
    {
     "name": "stdout",
     "output_type": "stream",
     "text": [
      "mean accuracy (test): 0.722\n"
     ]
    }
   ],
   "source": [
    "best_clf = DecisionTreeClassifier(criterion=\"gini\", max_depth=2).fit(pca_x_train,y_train)\n",
    "print(\"mean accuracy (test): {0:.3f}\".format(cross_val_score(best_clf, pca_x_test, y_test, cv=10).mean()))"
   ]
  }
 ],
 "metadata": {
  "kernelspec": {
   "display_name": "Python 3",
   "language": "python",
   "name": "python3"
  },
  "language_info": {
   "codemirror_mode": {
    "name": "ipython",
    "version": 3
   },
   "file_extension": ".py",
   "mimetype": "text/x-python",
   "name": "python",
   "nbconvert_exporter": "python",
   "pygments_lexer": "ipython3",
   "version": "3.6.5"
  }
 },
 "nbformat": 4,
 "nbformat_minor": 2
}
