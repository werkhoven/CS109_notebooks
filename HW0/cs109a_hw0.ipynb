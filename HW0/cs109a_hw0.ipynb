{
 "cells": [
  {
   "cell_type": "markdown",
   "metadata": {
    "button": false,
    "new_sheet": false,
    "run_control": {
     "read_only": false
    }
   },
   "source": [
    "# <img style=\"float: left; padding-right: 10px; width: 45px\" src=\"../../styles/iacs.png\"> CS109A Introduction to Data Science \n",
    "\n",
    "## Homework 0\n",
    "\n",
    "**Harvard University**<br/>\n",
    "**Summer 2018**<br/>\n",
    "**Instructors**: Pavlos Protopapas and Kevin Rader\n",
    "\n",
    "---\n",
    "\n",
    "This is a homework which you must turn in.\n",
    "\n",
    "This homework has the following intentions:\n",
    "\n",
    "1. To get you familiar with the jupyter/python environment.\n",
    "2. You should easily understand these questions and what is being asked. If you struggle, this may not be the right class for you.\n",
    "3. You should be able to understand the intent (if not the exact syntax) of the code and be able to look up on Google and provide code that is asked of you. If you cannot, this may not be the right class for you.\n",
    "\n"
   ]
  },
  {
   "cell_type": "code",
   "execution_count": 1,
   "metadata": {
    "scrolled": true
   },
   "outputs": [
    {
     "data": {
      "text/html": [
       "<style>\n",
       "h1 { \n",
       "    padding-top: 25px;\n",
       "    padding-bottom: 25px;\n",
       "    text-align: left; \n",
       "    padding-left: 10px;\n",
       "    background-color: #DDDDDD; \n",
       "    color: black;\n",
       "}\n",
       "p.q1 { \n",
       "    padding-top: 5px;\n",
       "    padding-bottom: 5px;\n",
       "    text-align: left; \n",
       "    padding-left: 5px;\n",
       "    background-color: #EEEEEE; \n",
       "    color: black;\n",
       "}\n",
       "header {\n",
       "   padding-top: 35px;\n",
       "    padding-bottom: 35px;\n",
       "    text-align: left; \n",
       "    padding-left: 10px;\n",
       "    background-color: #DDDDDD; \n",
       "    color: black;\n",
       "}\n",
       "\n"
      ],
      "text/plain": [
       "<IPython.core.display.HTML object>"
      ]
     },
     "execution_count": 1,
     "metadata": {},
     "output_type": "execute_result"
    }
   ],
   "source": [
    "## RUN THIS CELL TO GET THE RIGHT FORMATTING \n",
    "from IPython.core.display import HTML\n",
    "def css_styling():\n",
    "    styles = open(\"C:/Users/werkh/OneDrive/Documents/CS109_notebooks/HW0/cs109.css\", \"r\").read()\n",
    "    return HTML(styles)\n",
    "css_styling()"
   ]
  },
  {
   "cell_type": "markdown",
   "metadata": {
    "button": false,
    "new_sheet": false,
    "run_control": {
     "read_only": false
    }
   },
   "source": [
    "<hr style='height:1px'>"
   ]
  },
  {
   "cell_type": "markdown",
   "metadata": {
    "button": false,
    "new_sheet": false,
    "run_control": {
     "read_only": false
    }
   },
   "source": [
    "## Basic Math and Probability/Statistics Calculations"
   ]
  },
  {
   "cell_type": "markdown",
   "metadata": {
    "button": false,
    "new_sheet": false,
    "run_control": {
     "read_only": false
    }
   },
   "source": [
    "We'll start you off with some basic math and statistics problems questions to make sure you have the appropriate background to be comfortable with concepts that will come up in CS 109a."
   ]
  },
  {
   "cell_type": "markdown",
   "metadata": {
    "button": false,
    "new_sheet": false,
    "run_control": {
     "read_only": false
    }
   },
   "source": [
    "<div class=\"exercise\"><b> Question 1: Mathiness is What Brings Us Together Today </b></div>\n",
    "\n",
    "#### Matrix Operations\n",
    "\n",
    "*Complete the following matrix operations. **Note: Do not do this numerically and show your work as a markdown/latex** notebook cell*"
   ]
  },
  {
   "cell_type": "markdown",
   "metadata": {
    "button": false,
    "new_sheet": false,
    "run_control": {
     "read_only": false
    }
   },
   "source": [
    "**1.1.** &nbsp;&nbsp;Let &nbsp;&nbsp; $ A =  \\left( \\begin{array}{ccc}\n",
    "3 & 4 & 2 \\\\\n",
    "5 & 6 & 4 \\\\\n",
    "4 & 3 & 4 \\end{array} \\right) \\,\\,$ and  $ \\,\\, B = \\left( \\begin{array}{ccc}\n",
    "1 & 4 & 2 \\\\\n",
    "1 & 9 & 3 \\\\\n",
    "2 & 3 & 3 \\end{array} \\right)\n",
    "$.  \n",
    "\n",
    "Compute &nbsp;$A \\cdot B$.\n",
    "\n",
    "**1.2.** &nbsp;&nbsp;Let &nbsp;&nbsp;\n",
    "$ A =  \\left( \\begin{array}{ccc}\n",
    "0 & 12 & 8 \\\\\n",
    "1 & 15 & 0 \\\\\n",
    "0 & 6 & 3 \\end{array} \\right)$.  \n",
    "\n",
    "Compute &nbsp; $A^{-1}$.  \n",
    "\n"
   ]
  },
  {
   "cell_type": "markdown",
   "metadata": {
    "button": false,
    "new_sheet": false,
    "run_control": {
     "read_only": false
    }
   },
   "source": [
    "**Calculus and Probability**\n",
    "\n",
    "*Complete the following (show your work as a markdown/latex notebook cell)*\n",
    "\n",
    "**1.3**. From Wikipedia:\n",
    "\n",
    "  > In mathematical optimization, statistics, econometrics, decision theory, machine learning and computational neuroscience, a loss function or cost function is a function that maps an event or values of one or more variables onto a real number intuitively representing some \"cost\" associated with the event. An optimization problem seeks to minimize a loss function.\n",
    "  \n",
    "   We've generated a cost function on parameters $x,y \\in \\mathcal{R}$  $L(x,y)= 3x^2y - y^3 - 3x^2 - 3y^2 + 2$.  Find the critical points (optima) of $L(x,y)$.\n",
    "\n",
    "\n",
    "**1.4**. A central aspect of call center operations is the per minute statistics of caller demographics.  Because of the massive call volumes call centers achieve, these per minute statistics can often take on well-known distributions.  In the CS109 Homework Helpdesk, X and Y are discrete random variables with X measuring the number of female callers per minute and Y the total number of callers per minute.  We've determined historically the joint pmf of (X, Y) and found it to be $$p_{X,Y}(x,y) = e^{-4}\\frac{2^y}{x!(y-x)!}$$ where $y \\in \\mathbb{N}, x \\in [0, y]$ (That is to say the total number of callers in a minute is a non-negative integer and the number of female callers naturally assumes a value between 0 and the total number of callers inclusive).  Find the mean and variance of the marginal distribution of $X$. \n",
    "\n",
    "**Hints: **\n",
    "  1. $x \\in \\left[0,y\\right] \\Rightarrow x < y$.\n",
    "  2. You may find the change of variable $z = y-x$ helpful.\n",
    "  3. Recall: $$ \\sum_{z=0}^{\\infty}\\frac{2^{z}}{z!}  =e^{2}$$"
   ]
  },
  {
   "cell_type": "markdown",
   "metadata": {
    "button": false,
    "new_sheet": false,
    "run_control": {
     "read_only": false
    }
   },
   "source": [
    "**Basic Statistics**\n",
    "\n",
    "*Complete the following: you can perform the calculations by hand (show your work) or using software (include the code and output...screenshots are fine if it is from another platform).*\n",
    "\n",
    "**1.5**. 37 of the 76 female CS concentrators have taken Data Science 1 (DS1) while 50 of the 133 male concentrators haven taken DS1.  Perform a statistical test to determine if interest in Data Science (by taking DS1) ios related to sex.  Be sure to state your conclusion."
   ]
  },
  {
   "cell_type": "markdown",
   "metadata": {},
   "source": [
    "#### Answers"
   ]
  },
  {
   "cell_type": "markdown",
   "metadata": {
    "button": false,
    "new_sheet": false,
    "run_control": {
     "read_only": false
    }
   },
   "source": [
    "**1.1**"
   ]
  },
  {
   "cell_type": "markdown",
   "metadata": {
    "button": false,
    "collapsed": true,
    "new_sheet": false,
    "run_control": {
     "read_only": false
    }
   },
   "source": [
    "Let   &nbsp; $C = A \\cdot B$\n",
    "\n",
    "To compute C, we compute the dot product for each row of A with each column of B. For example, the first value of C:\n",
    "\n",
    "$C_{1,1} = x \\cdot y$ &nbsp; where &nbsp; $x = \\begin{bmatrix} \n",
    "a_{1,1} \\\\ a_{1,2} \\\\ a_{1,3} \n",
    "\\end{bmatrix}$ and &nbsp; $y =  \n",
    "\\begin{bmatrix} \n",
    "b_{1,1} & b_{2,1} & b_{3,1}\\end{bmatrix}$\n",
    "\n",
    "$x \\cdot y  =  a_{1,1}b_{1,1} + a_{1,2}b_{2,1} + a_{1,3}b_{3,1}  =  3\\times1 + 4\\times1 + 2\\times2  =  11$\n",
    "\n",
    "Repeating the process of calculating the dot product of each row of A with each column of B yields the resulting 3x3 matrix\n",
    "\n",
    "\n",
    "$C = \\begin{bmatrix}\n",
    "11 & 54 & 24 \\\\\n",
    "19 & 86 & 40\\\\\n",
    "15 & 55 & 29 \\end{bmatrix}$\n",
    "\n",
    "\n",
    "We can also calculate the result programmatically with the following python code\n",
    "\n",
    "```python\n",
    "import numpy as np\n",
    "A = np.array([[3, 4, 2], [5, 6, 4], [4, 3, 4]]);\n",
    "B = np.array([[1, 4,  2],[1, 9, 3],[2, 3, 3]]);\n",
    "C = np.matmul(A,B);\n",
    "```\n"
   ]
  },
  {
   "cell_type": "markdown",
   "metadata": {},
   "source": [
    "**1.2**"
   ]
  },
  {
   "cell_type": "markdown",
   "metadata": {},
   "source": [
    "Let &nbsp; $B = A^{-1}$\n",
    "\n",
    "We can calculate the inverse of A as\n",
    "\n",
    "\n",
    "\n",
    "$B = \\frac{1}{determinant(A)}adjugate(a)$\n",
    "\n",
    "or we can reduce a matrix &nbsp; $[AI]$ &nbsp; to the form &nbsp; $[IB]$ &nbsp; where $I$ is the identity matrix\n",
    "  \n",
    "<br/>  \n",
    "$[A  I] = \\left[ \\begin{array}{ccc|ccc}\n",
    "a_{1,1} & a_{1,2} & a_{1,3} & 1 & 0 & 0 \\\\\n",
    "a_{2,1} & a_{2,2} & a_{2,3} & 0 & 1 & 0 \\\\\n",
    "a_{3,1} & a_{3,2} & a_{3,3} & 0 & 0 & 1 \\\\\n",
    "\\end{array} \\right]\n",
    "$\n",
    "<br/>  <br/>\n",
    "substituting in the values of A, and switching $R_2$ and $R_1$ we get\n",
    "  \n",
    "<br/>  \n",
    "$[A  I] = \\left[ \\begin{array}{ccc|ccc}\n",
    "1 & 15 & 0 & 0 & 1 & 0 \\\\\n",
    "0 & 12 & 8 & 1 & 0 & 0 \\\\\n",
    "0 & 6 & 3 & 0 & 0 & 1 \\\\\n",
    "\\end{array} \\right]\n",
    "$\n",
    "  \n",
    "<br/>  \n",
    "$\\frac{1}{12}R_2$ &rarr; &nbsp;\n",
    "\n",
    "$\\left[ \\begin{array}{ccc|ccc}\n",
    "1 & 15 & 0 & 0 & 1 & 0 \\\\\n",
    "0 & 1 & \\frac{8}{12} & \\frac{1}{12} & 0 & 0 \\\\\n",
    "0 & 6 & 3 & 0 & 0 & 1 \\\\\n",
    "\\end{array} \\right]\n",
    "$\n",
    "\n",
    "<br/>  \n",
    "$-1R_3 - 6R_2$ &rarr; &nbsp;\n",
    "\n",
    "$\\left[ \\begin{array}{ccc|ccc}\n",
    "1 & 15 & 0 & 0 & 1 & 0 \\\\\n",
    "0 & 1 & \\frac{8}{12} & \\frac{1}{12} & 0 & 0 \\\\\n",
    "0 & 0 & 1 & \\frac{1}{2} & 0 & -1 \\\\\n",
    "\\end{array} \\right]\n",
    "$\n",
    "\n",
    "<br/>  \n",
    "$R_2 + \\frac{-8}{12}R_3$ &rarr; &nbsp;\n",
    "\n",
    "$\\left[ \\begin{array}{ccc|ccc}\n",
    "1 & 15 & 0 & 0 & 1 & 0 \\\\\n",
    "0 & 1 & 0 & \\frac{-3}{12} & 0 & \\frac{8}{12} \\\\\n",
    "0 & 0 & 1 & \\frac{1}{2} & 0 & -1 \\\\\n",
    "\\end{array} \\right]\n",
    "$\n",
    "\n",
    "<br/>  \n",
    "$R_1 - 15R_2$ &rarr; &nbsp;\n",
    "\n",
    "$[IB] = \\left[ \\begin{array}{ccc|ccc}\n",
    "1 & 0 & 0 & \\frac{45}{12} & 1 & -10 \\\\\n",
    "0 & 1 & 0 & \\frac{-3}{12} & 0 & \\frac{8}{12} \\\\\n",
    "0 & 0 & 1 & \\frac{1}{2} & 0 & -1 \\\\\n",
    "\\end{array} \\right]\n",
    "$\n",
    "\n",
    "  \n",
    "<br/>  \n",
    "with the left-hand side of the matrix equal to $I$, we can find $A^{-1}$ on the right-hand side\n",
    "  \n",
    "<br/>  \n",
    "\n",
    "$B = \\left[ \\begin{array}{ccc}\n",
    "\\frac{45}{12} & 1 & -10 \\\\\n",
    "\\frac{-3}{12} & 0 & \\frac{8}{12} \\\\\n",
    "\\frac{1}{2} & 0 & -1 \\\\\n",
    "\\end{array} \\right]\n",
    "$\n",
    "\n",
    "We can also check out work with python"
   ]
  },
  {
   "cell_type": "code",
   "execution_count": 2,
   "metadata": {},
   "outputs": [
    {
     "name": "stdout",
     "output_type": "stream",
     "text": [
      "[[  3.75         1.         -10.        ]\n",
      " [ -0.25         0.           0.66666667]\n",
      " [  0.5         -0.          -1.        ]]\n"
     ]
    }
   ],
   "source": [
    "import numpy as np\n",
    "A = np.array([[0, 12, 8], [1, 15, 0], [0, 6, 3]]);\n",
    "print(np.linalg.inv(A))\n"
   ]
  },
  {
   "cell_type": "markdown",
   "metadata": {},
   "source": [
    "**1.3**"
   ]
  },
  {
   "cell_type": "markdown",
   "metadata": {},
   "source": [
    "To find the critical points of $L(x,y)$, we have to find the points of the function where \n",
    "\n",
    "$$ \\frac{\\delta L}{\\delta x} = 0 \\quad \\textrm{and} \\quad \\frac{\\delta L}{\\delta y} = 0$$\n",
    "\n",
    "Let &nbsp; $L(x,y)=3x^2y−y^3−3x^2−3y^2+2$ \n",
    "\n",
    "<br/>\n",
    "$$\\frac{\\delta L}{\\delta x} = 6xy-6x = 6x(y-1)$$<br/><br/>\n",
    "$$\\frac{\\delta L}{\\delta x}=0 \\quad when \\quad x=0 \\quad or \\quad y=1$$\n",
    "<br/><br/>\n",
    "\n",
    "Since we know that $\\frac{\\delta L}{\\delta x}=0$ &nbsp; when &nbsp;\n",
    "$x=0$ &nbsp; or &nbsp; $y=1$, we can evaluate $\\frac{\\delta L}{\\delta y}$ at those values to simplify.\n",
    "Solving for $\\frac{\\delta L}{\\delta y}$ we find\n",
    "<br/><br/>\n",
    "$$\\frac{\\delta L}{\\delta y} = 3x^2-3y^2-6y$$\n",
    "\n",
    "Evaluating &nbsp;$\\frac{\\delta L}{\\delta y}$ &nbsp; at &nbsp; $x=0$\n",
    "\n",
    "<br/><br/>\n",
    "$$\\frac{\\delta L}{\\delta y} = 3(0)^2-3y^2-6y$$\n",
    "<br/><br/>\n",
    "$$\\frac{\\delta L}{\\delta y} = -3y^2-6y$$\n",
    "<br/><br/>\n",
    "$$\\frac{\\delta L}{\\delta y} = -3y(y+2)$$\n",
    "<br/><br/>\n",
    "\n",
    "Therefor when &nbsp; $x=0$ \n",
    "<br/><br/>\n",
    "$$\\frac{\\delta L}{\\delta y}=0$$ \n",
    "<br/><br/>\n",
    "$$at \\quad y=0 \\quad and \\quad y=-2$$\n",
    "\n",
    "Evaluating &nbsp;$\\frac{\\delta L}{\\delta y}$ &nbsp; at &nbsp; $y=1$\n",
    "\n",
    "<br/><br/>\n",
    "$$\\frac{\\delta L}{\\delta y} = 3x^2-3(1)^2-6(1)$$\n",
    "<br/><br/>\n",
    "$$\\frac{\\delta L}{\\delta y} = 3x^2-9$$\n",
    "<br/><br/>\n",
    "$$\\frac{\\delta L}{\\delta y} = -3(x^2-3)$$\n",
    "<br/><br/>\n",
    "\n",
    "Therefor when &nbsp; $y=1$ \n",
    "<br/><br/>\n",
    "$$\\frac{\\delta L}{\\delta y}=0$$ \n",
    "<br/><br/>\n",
    "$$at \\quad x=\\pm\\sqrt{3}$$\n",
    "\n",
    "Therefor $L(x,y)$ has critical points at\n",
    "\n",
    "$\\begin{array}{c|c}\n",
    "x & y\\\\ \\hline\n",
    "0 & 0\\\\\n",
    "0 & -2\\\\\n",
    "\\sqrt{3} & 1\\\\\n",
    "-\\sqrt{3} & 1\\\\\n",
    "\\end{array}$\n",
    "\n"
   ]
  },
  {
   "cell_type": "markdown",
   "metadata": {},
   "source": [
    "**1.4** "
   ]
  },
  {
   "cell_type": "markdown",
   "metadata": {},
   "source": [
    "Let &nbsp; $P_{xy}(x,y) = e^{-4}\\frac{2^y}{x!(y-x)!}$\n",
    "\n",
    "<br/>\n",
    "The marginal distribution of $x$ is given by\n",
    "\n",
    "$$P_x(x)=\\sum_{y=0}^{\\infty}P_{xy}(x,y)$$\n",
    "\n",
    "<br/>\n",
    "We can simplify &nbsp; $P_{xy}(x,y)$ &nbsp; to &nbsp; $P_{xz}(x,z)$ &nbsp; substituting in the variable &nbsp; $z=y-x$\n",
    "<br/>\n",
    "$$P_{xz}(x,z) = e^{-4}\\frac{2^x2^z}{x!z!}$$\n",
    "<br/>\n",
    "\n",
    "Therefore\n",
    "<br/>\n",
    "\n",
    "$$P_x(x)=\\sum_{z=0}^{\\infty}P_{xz}(x,y)$$\n",
    "<br/>\n",
    "\n",
    "$$P_x(x)=\\sum_{z=0}^{\\infty}e^{-4}\\frac{2^x2^z}{x!z!}$$\n",
    "<br/>\n",
    "\n",
    "$$P_x(x)=e^{-4}\\frac{2^x}{x!}\\sum_{z=0}^{\\infty}\\frac{2^z}{z!}$$\n",
    "<br/>\n",
    "\n",
    "Recalling that\n",
    "\n",
    "<br/>\n",
    "\n",
    "$$\\sum_{z=0}^{\\infty}\\frac{2^z}{z!}=e^2$$\n",
    "<br/>\n",
    "\n",
    "We can simplify $P_x(x)$\n",
    "<br/>\n",
    "\n",
    "$$P_x(x)=e^{-4}\\frac{2^x}{x!}e^2$$\n",
    "<br/>\n",
    "\n",
    "$$P_x(x)=\\frac{2^xe^{-2}}{x!}$$\n",
    "<br/>\n",
    "\n",
    "Recognizing that looks the form of the poisson distribution\n",
    "<br/>\n",
    "\n",
    "$$\\frac{\\lambda^ke^{-\\lambda}}{k!}$$\n",
    "<br/>\n",
    "\n",
    "and knowing that the mean and variance of the poisson distribution is the rate constant $\\lambda$, the mean and variance of the marginal distribution of $x$ is\n",
    "\n",
    "<br/>\n",
    "$$\\mu=2, \\quad \\sigma^2=2$$\n",
    "\n",
    "\n"
   ]
  },
  {
   "cell_type": "markdown",
   "metadata": {},
   "source": [
    "**1.5**"
   ]
  },
  {
   "cell_type": "markdown",
   "metadata": {},
   "source": [
    "We can use a z-test to compare the null hypothesis $p_f=p_m$, to the alternative, $p_f\\neq p_m$ where $p_f$ is the probability of a female enrolling and $p_m$ is the probability of a male enrolling. \n",
    "<br/>\n",
    "\n",
    "The z test statistic is given by\n",
    "\n",
    "$$z=\\frac{\\hat{p_f}-\\hat{p_m}}{\\sqrt{\\hat{p_j}(1-\\hat{p_j})(\\frac{1}{n_f}+\\frac{1}{n_m})}}$$\n",
    "<br/>\n",
    "<br/>\n",
    "\n",
    "\n",
    "where the &nbsp; $\\hat{p_f}$, &nbsp; $\\hat{p_m}$, &nbsp; and $\\hat{p_j}$ &nbsp;\n",
    "are the observed female, male, and joint probabilities respectively\n",
    "<br/>\n",
    "\n",
    "$$\\hat{p_f} = \\frac{37}{76} = 0.487$$\n",
    "<br/>\n",
    "\n",
    "$$\\hat{p_m} = \\frac{50}{133} = 0.376$$\n",
    "<br/>\n",
    "\n",
    "$$\\hat{p_j} = \\frac{37+50}{76+133} = 0.416$$\n",
    "<br/>\n",
    "\n",
    "\n",
    "using python to do the computation"
   ]
  },
  {
   "cell_type": "code",
   "execution_count": 3,
   "metadata": {},
   "outputs": [
    {
     "name": "stdout",
     "output_type": "stream",
     "text": [
      "1.5661356065480148\n"
     ]
    }
   ],
   "source": [
    "import numpy as np\n",
    "pf = 0.487\n",
    "pm = 0.376\n",
    "pj = 0.416\n",
    "nf = 76\n",
    "nm = 133\n",
    "\n",
    "z = (pf-pm)/(np.sqrt(pj*(1-pj)*(1/nf + 1/nm)))\n",
    "print(z)\n"
   ]
  },
  {
   "cell_type": "markdown",
   "metadata": {},
   "source": [
    "This will be a two-tailed test since our probabilities could be either above or below the null hypothesis. We find the $z-score = 1.57$, which is well inside of $z=\\pm 1.96$, the critical region values corresponding to a confidence level of 95%. Therefore we cannot conclude that the data shows a significant difference between male and female enrollment"
   ]
  },
  {
   "cell_type": "markdown",
   "metadata": {
    "button": false,
    "new_sheet": false,
    "run_control": {
     "read_only": false
    }
   },
   "source": [
    "<hr style='height:1px'>"
   ]
  },
  {
   "cell_type": "code",
   "execution_count": 4,
   "metadata": {
    "button": false,
    "new_sheet": false,
    "run_control": {
     "read_only": false
    }
   },
   "outputs": [],
   "source": [
    "## RUN THIS CELL \n",
    "# The line %... is a jupyter \"magic\" command, and is not part of the Python language.\n",
    "# In this case we're just telling the plotting library to draw things on\n",
    "# the notebook, instead of on a separate window.\n",
    "%matplotlib inline\n",
    "# See the \"import ... as ...\" contructs below? They're just aliasing the package names.\n",
    "# That way we can call methods like plt.plot() instead of matplotlib.pyplot.plot().\n",
    "import numpy as np\n",
    "import scipy as sp\n",
    "import scipy.stats\n",
    "import matplotlib.pyplot as plt"
   ]
  },
  {
   "cell_type": "markdown",
   "metadata": {
    "button": false,
    "new_sheet": false,
    "run_control": {
     "read_only": false
    }
   },
   "source": [
    "## Simulation of a Coin Throw\n",
    "\n",
    "We'd like to do some experiments with coin flips, but we don't have a physical coin at the moment. So let's **simulate** the process of flipping a coin on a computer. To do this we will use a form of the **random number generator** built into `numpy`. In particular, we will use the function `np.random.choice` which picks items with uniform probability from a list. If we provide it a list ['H', 'T'], it will pick one of the two items in the list. We can also ask it to do this multiple times by specifying the parameter `size`. "
   ]
  },
  {
   "cell_type": "code",
   "execution_count": 5,
   "metadata": {
    "button": false,
    "new_sheet": false,
    "run_control": {
     "read_only": false
    }
   },
   "outputs": [],
   "source": [
    "def throw_a_coin(n_trials):\n",
    "    return np.random.choice(['H','T'], size=n_trials)"
   ]
  },
  {
   "cell_type": "markdown",
   "metadata": {
    "button": false,
    "new_sheet": false,
    "run_control": {
     "read_only": false
    }
   },
   "source": [
    "`np.sum` is a function that returns the sum of items in an iterable (i.e. a list or an array).  Because python coerces `True` to 1 and `False` to 0, the effect of calling `np.sum` on the array of `True`s and `False`s will be to return the number of of `True`s in the array (which can then effectively count the number of heads)."
   ]
  },
  {
   "cell_type": "markdown",
   "metadata": {
    "button": false,
    "new_sheet": false,
    "run_control": {
     "read_only": false
    }
   },
   "source": [
    "<div class=\"exercise\"><b> Question 2: The 12 Labors of Bernoullis </b></div>\n",
    "\n",
    "Now that we know how to run our coin flip experiment, we're interested in knowing what happens as we choose larger and larger number of coin flips.\n",
    "\n",
    "\n",
    "**2.1**.  Run one experiment of flipping a coin 40 times storing the resulting sample in the variable `throws1`.   What's the total proportion of heads?\n",
    "\n",
    "**2.2**.  **Replicate** the experiment in 2.1 storing the resulting sample  in the variable `throws2`.   What's the proportion of heads?  How does this result compare to that you obtained in question 2.1?\n",
    "\n",
    "**2.3**.  Write a function  called `run_trials` that takes as input a list, called `n_flips`, of integers representing different values for the number of coin flips in a trial.  For each element in the input list, `run_trials` should run the coin flip experiment with that number of flips and calculate the proportion of heads.  The output of `run_trials` should be the list of calculated proportions.  Store the output of calling `run_trials` in a list called `proportions`.\n",
    "\n",
    "**2.4**.  Using the results in 2.3, reproduce the plot below. \n",
    "<!--of the proportion of observed heads to total coins flipped in the trial when `run_trials` is run for each of the sample sizes in `trials` -->  <img src=\"./figs/HW0Plot1.png\"/>\n",
    "\n",
    "**2.5**.  What's the appropriate observation about the result of running the coin flip experiment with larger and larger numbers of coin flips?  Choose the appropriate one from the choices below and explain why. \n",
    "\n",
    "> A. Regardless of sample size the probability of in our experiment of observing heads is 0.5 so the proportion of heads observed in the coin-flip experiments will always be 0.5.  \n",
    ">\n",
    "> B. The proportions **fluctuate** about their long-run value of 0.5 (what you might expect if you tossed the coin an infinite amount of times), in accordance with the notion of a fair coin (which we encoded in our simulation by having `np.random.choice` choose between two possibilities with equal probability), with the fluctuations seeming to become much smaller as the number of trials increases.\n",
    ">\n",
    "> C. The proportions **fluctuate** about their long-run value of 0.5 (what you might expect if you tossed the coin an infinite amount of times), in accordance with the notion of a fair coin (which we encoded in our simulation by having `np.random.choice` choose between two possibilities with equal probability), with the fluctuations constant regardless of the number of trials.\n"
   ]
  },
  {
   "cell_type": "markdown",
   "metadata": {
    "button": false,
    "new_sheet": false,
    "run_control": {
     "read_only": false
    }
   },
   "source": [
    "#### Answers"
   ]
  },
  {
   "cell_type": "markdown",
   "metadata": {
    "button": false,
    "new_sheet": false,
    "run_control": {
     "read_only": false
    }
   },
   "source": [
    "**2.1**"
   ]
  },
  {
   "cell_type": "code",
   "execution_count": 6,
   "metadata": {
    "button": false,
    "new_sheet": false,
    "run_control": {
     "read_only": false
    }
   },
   "outputs": [
    {
     "name": "stdout",
     "output_type": "stream",
     "text": [
      "0.425\n"
     ]
    }
   ],
   "source": [
    "nThrows = 40\n",
    "throws1 = throw_a_coin(nThrows)\n",
    "nHeads1 = 0\n",
    "for i in throws1:\n",
    "    if i=='H':\n",
    "        nHeads1 = nHeads1 + 1\n",
    "        \n",
    "\n",
    "print(nHeads1/nThrows)"
   ]
  },
  {
   "cell_type": "markdown",
   "metadata": {
    "button": false,
    "new_sheet": false,
    "run_control": {
     "read_only": false
    }
   },
   "source": [
    "**2.2** "
   ]
  },
  {
   "cell_type": "code",
   "execution_count": 7,
   "metadata": {
    "button": false,
    "new_sheet": false,
    "run_control": {
     "read_only": false
    }
   },
   "outputs": [
    {
     "name": "stdout",
     "output_type": "stream",
     "text": [
      "0.55\n",
      "0.4875\n"
     ]
    }
   ],
   "source": [
    "nThrows = 40\n",
    "throws2 = throw_a_coin(nThrows)\n",
    "nHeads2 = 0\n",
    "for i in throws2:\n",
    "    if i=='H':\n",
    "        nHeads2 = nHeads2 + 1\n",
    "        \n",
    "\n",
    "print(nHeads2/nThrows)\n",
    "print((nHeads1 + nHeads2)/(nThrows*2))"
   ]
  },
  {
   "cell_type": "markdown",
   "metadata": {},
   "source": [
    "The fraction of heads across the two trials are 0.53 and 0.45 respectively. The results are different. \n"
   ]
  },
  {
   "cell_type": "markdown",
   "metadata": {
    "button": false,
    "new_sheet": false,
    "run_control": {
     "read_only": false
    }
   },
   "source": [
    "**2.3** "
   ]
  },
  {
   "cell_type": "code",
   "execution_count": 8,
   "metadata": {
    "button": false,
    "new_sheet": false,
    "run_control": {
     "read_only": false
    }
   },
   "outputs": [],
   "source": [
    "n_flips = [10, 30, 50, 70, 100, 130, 170, 200, 500, 1000, 2000, 5000, 10000]"
   ]
  },
  {
   "cell_type": "code",
   "execution_count": 9,
   "metadata": {
    "button": false,
    "new_sheet": false,
    "run_control": {
     "read_only": false
    }
   },
   "outputs": [],
   "source": [
    "def run_trials(n_flips):\n",
    "\n",
    "    proportions = []\n",
    "    \n",
    "    for i in range(len(n_flips)):\n",
    "        nHeads = 0\n",
    "        throws = throw_a_coin(n_flips[i])\n",
    "        \n",
    "        for j in throws:\n",
    "            if j=='H':\n",
    "                nHeads = nHeads+1\n",
    "                \n",
    "        proportions.append(nHeads/n_flips[i])\n",
    "        \n",
    "    return(proportions)\n",
    "        "
   ]
  },
  {
   "cell_type": "code",
   "execution_count": 10,
   "metadata": {
    "button": false,
    "new_sheet": false,
    "run_control": {
     "read_only": false
    }
   },
   "outputs": [
    {
     "name": "stdout",
     "output_type": "stream",
     "text": [
      "[0.7, 0.36666666666666664, 0.56, 0.44285714285714284, 0.52, 0.5, 0.5235294117647059, 0.505, 0.524, 0.514, 0.496, 0.4978, 0.501]\n"
     ]
    }
   ],
   "source": [
    "proportions = run_trials(n_flips)\n",
    "print(proportions)"
   ]
  },
  {
   "cell_type": "markdown",
   "metadata": {
    "button": false,
    "new_sheet": false,
    "run_control": {
     "read_only": false
    }
   },
   "source": [
    "**2.4** "
   ]
  },
  {
   "cell_type": "code",
   "execution_count": 11,
   "metadata": {
    "button": false,
    "new_sheet": false,
    "run_control": {
     "read_only": false
    }
   },
   "outputs": [
    {
     "data": {
      "text/plain": [
       "[<matplotlib.lines.Line2D at 0x262bdc47470>]"
      ]
     },
     "execution_count": 11,
     "metadata": {},
     "output_type": "execute_result"
    },
    {
     "data": {
      "image/png": "[encoded data removed]",
      "text/plain": [
       "<Figure size 432x288 with 1 Axes>"
      ]
     },
     "metadata": {},
     "output_type": "display_data"
    }
   ],
   "source": [
    "%matplotlib inline\n",
    "import matplotlib.pyplot as plt\n",
    "\n",
    "ph=plt.plot(n_flips,proportions)\n",
    "plt.xlabel('num trials')\n",
    "plt.ylabel('fraction heads')\n",
    "plt.plot((0,n_flips[-1]),(0.5,0.5),'r')\n"
   ]
  },
  {
   "cell_type": "markdown",
   "metadata": {
    "button": false,
    "new_sheet": false,
    "run_control": {
     "read_only": false
    }
   },
   "source": [
    "**2.5** "
   ]
  },
  {
   "cell_type": "markdown",
   "metadata": {
    "button": false,
    "new_sheet": false,
    "run_control": {
     "read_only": false
    }
   },
   "source": [
    "**What's the appropriate observation about the result of applying the coin flip experiment to larger and larger numbers of coin flips?  Choose the appropriate one.**\n",
    "\n",
    "B. The fluctuation observed decreases as the sample size increases, as is consistent with the standard error of the mean. The standard error should go down as the square root of the number of trials.\n"
   ]
  },
  {
   "cell_type": "markdown",
   "metadata": {
    "button": false,
    "new_sheet": false,
    "run_control": {
     "read_only": false
    }
   },
   "source": [
    "<hr style='height:1px'>\n",
    "## Multiple Replications of the Coin Flip Experiment\n",
    "\n",
    "The coin flip experiment that we did above gave us some insight, but we don't have a good notion of how robust our results are under repetition as we've only run one experiment for each number of coin flips. Lets redo the coin flip experiment, but let's incorporate multiple repetitions of each number of coin flips. For each choice of the number of flips,  $n$, in an experiment, we'll do $M$ replications of the coin tossing experiment."
   ]
  },
  {
   "cell_type": "markdown",
   "metadata": {
    "button": false,
    "new_sheet": false,
    "run_control": {
     "read_only": false
    }
   },
   "source": [
    " <div class='exercise'> <b> Question 3. So Many Replications </b></div>\n",
    "\n",
    "**3.1**.  Write a function `make_throws` which takes as arguments the `n_replications` ($M$) and the `n_flips` ($n$), and returns a list (of size $M$) of proportions, with each proportion calculated by taking the ratio of heads to to total number of coin flips in each replication of $n$ coin tosses.  `n_flips` should be a python parameter whose value should default to 20 if unspecified when `make_throws` is called. \n",
    "\n",
    "**3.2**.  Create the variables `proportions_at_n_flips_100` and `proportions_at_n_flips_1000`.  Store in these variables the result of `make_throws` for `n_flips` equal to 100 and 1000 respectively while keeping `n_replications` at 200.  Create a plot with the histograms of `proportions_at_n_flips_100` and `proportions_at_n_flips_1000`.  Make sure to title your plot, label the x-axis and provide a legend.(See below for an example of what the plot may look like) ![](./figs/HW0Plot2.png) \n",
    "\n",
    "**3.3**. Calculate the mean and variance of the results in the each of the variables `proportions_at_n_flips_100` and `proportions_at_n_flips_1000` generated in 3.2.\n",
    "\n",
    "**3.4**. Based upon the plots what would be your guess of what type of distribution is represented by histograms in 3.2?  Explain the factors that influenced your choice.\n",
    "> A. Gamma Distribution\n",
    ">\n",
    "> B. Beta Distribution\n",
    ">\n",
    "> C. Gaussian\n",
    "\n",
    "**3.5**. Let's just assume for arguments sake that the answer to 3.4 is **C. Gaussian**.  Plot a **normed histogram** of your results `proportions_at_n_flips_1000` overlayed with your selection for the appropriate gaussian distribution to represent the experiment of flipping a coin 1000 times.   (**Hint:  What parameters should you use for your Gaussian?**)\n"
   ]
  },
  {
   "cell_type": "markdown",
   "metadata": {
    "button": false,
    "new_sheet": false,
    "run_control": {
     "read_only": false
    }
   },
   "source": [
    "**3.1**"
   ]
  },
  {
   "cell_type": "code",
   "execution_count": 12,
   "metadata": {
    "button": false,
    "new_sheet": false,
    "run_control": {
     "read_only": false
    }
   },
   "outputs": [],
   "source": [
    "def make_throws(n_reps, n_flips=20):\n",
    "        \n",
    "    proportions = np.array([run_trials(n_flips) for _ in range(n_reps)])\n",
    "    return(proportions)"
   ]
  },
  {
   "cell_type": "markdown",
   "metadata": {
    "button": false,
    "new_sheet": false,
    "run_control": {
     "read_only": false
    }
   },
   "source": [
    "**3.2**"
   ]
  },
  {
   "cell_type": "code",
   "execution_count": 13,
   "metadata": {
    "button": false,
    "new_sheet": false,
    "run_control": {
     "read_only": false
    }
   },
   "outputs": [
    {
     "name": "stdout",
     "output_type": "stream",
     "text": [
      "[[0.49 0.58 0.46 0.48 0.55 0.47 0.56 0.5  0.45 0.5  0.54 0.52 0.41 0.51\n",
      "  0.56 0.35 0.57 0.46 0.46 0.52 0.51 0.45 0.45 0.51 0.47 0.56 0.46 0.37\n",
      "  0.49 0.52 0.53 0.47 0.51 0.45 0.49 0.6  0.5  0.45 0.5  0.51 0.52 0.6\n",
      "  0.46 0.48 0.5  0.53 0.57 0.49 0.56 0.45 0.51 0.56 0.42 0.46 0.53 0.5\n",
      "  0.54 0.5  0.49 0.45 0.55 0.46 0.56 0.51 0.45 0.51 0.44 0.5  0.43 0.54\n",
      "  0.47 0.55 0.46 0.51 0.52 0.46 0.53 0.49 0.62 0.51 0.45 0.54 0.45 0.46\n",
      "  0.55 0.56 0.53 0.55 0.46 0.48 0.45 0.57 0.49 0.38 0.55 0.55 0.56 0.51\n",
      "  0.58 0.53 0.54 0.46 0.46 0.39 0.46 0.52 0.52 0.52 0.52 0.45 0.47 0.41\n",
      "  0.38 0.58 0.47 0.58 0.58 0.53 0.46 0.48 0.46 0.39 0.5  0.47 0.43 0.52\n",
      "  0.43 0.47 0.47 0.53 0.53 0.52 0.52 0.43 0.51 0.43 0.53 0.5  0.41 0.52\n",
      "  0.54 0.59 0.49 0.51 0.5  0.57 0.5  0.46 0.55 0.53 0.53 0.52 0.55 0.46\n",
      "  0.56 0.55 0.52 0.42 0.5  0.52 0.46 0.49 0.41 0.55 0.53 0.48 0.57 0.53\n",
      "  0.44 0.59 0.35 0.47 0.49 0.52 0.51 0.45 0.44 0.35 0.44 0.45 0.51 0.38\n",
      "  0.42 0.48 0.56 0.57 0.48 0.54 0.52 0.49 0.43 0.59 0.61 0.43 0.49 0.44\n",
      "  0.48 0.48 0.5  0.48]]\n",
      "[[0.494 0.48  0.482 0.478 0.472 0.514 0.522 0.481 0.498 0.487 0.522 0.515\n",
      "  0.477 0.489 0.499 0.509 0.477 0.493 0.496 0.51  0.473 0.492 0.521 0.483\n",
      "  0.485 0.515 0.51  0.494 0.489 0.515 0.503 0.506 0.497 0.489 0.507 0.501\n",
      "  0.479 0.482 0.488 0.484 0.507 0.496 0.508 0.498 0.483 0.48  0.503 0.487\n",
      "  0.511 0.485 0.478 0.49  0.514 0.505 0.509 0.519 0.483 0.519 0.496 0.496\n",
      "  0.536 0.471 0.489 0.483 0.5   0.505 0.485 0.506 0.469 0.487 0.504 0.502\n",
      "  0.499 0.483 0.486 0.523 0.483 0.491 0.5   0.486 0.503 0.513 0.5   0.499\n",
      "  0.519 0.491 0.505 0.512 0.538 0.496 0.506 0.53  0.497 0.513 0.499 0.49\n",
      "  0.495 0.518 0.497 0.527 0.496 0.51  0.487 0.492 0.513 0.526 0.5   0.518\n",
      "  0.501 0.498 0.517 0.525 0.497 0.508 0.511 0.492 0.508 0.505 0.49  0.495\n",
      "  0.487 0.509 0.502 0.471 0.52  0.47  0.507 0.51  0.525 0.485 0.465 0.458\n",
      "  0.52  0.512 0.505 0.536 0.518 0.51  0.525 0.502 0.51  0.506 0.482 0.51\n",
      "  0.475 0.477 0.513 0.499 0.487 0.517 0.522 0.496 0.528 0.485 0.526 0.527\n",
      "  0.501 0.492 0.501 0.503 0.466 0.476 0.507 0.502 0.478 0.497 0.484 0.523\n",
      "  0.497 0.504 0.469 0.471 0.498 0.471 0.518 0.508 0.489 0.507 0.521 0.502\n",
      "  0.489 0.487 0.504 0.519 0.514 0.508 0.501 0.526 0.508 0.493 0.487 0.507\n",
      "  0.493 0.525 0.489 0.515 0.506 0.5   0.494 0.491]]\n"
     ]
    }
   ],
   "source": [
    "n_reps = 200\n",
    "proportions_n_flips_100 = make_throws(n_reps, n_flips = [100])\n",
    "proportions_n_flips_1000 = make_throws(n_reps, n_flips = [1000])\n",
    "print(proportions_n_flips_100.T)\n",
    "print(proportions_n_flips_1000.T)"
   ]
  },
  {
   "cell_type": "code",
   "execution_count": 14,
   "metadata": {
    "button": false,
    "new_sheet": false,
    "run_control": {
     "read_only": false
    }
   },
   "outputs": [
    {
     "name": "stderr",
     "output_type": "stream",
     "text": [
      "C:\\Users\\werkh\\Anaconda3\\lib\\site-packages\\matplotlib\\axes\\_axes.py:6462: UserWarning: The 'normed' kwarg is deprecated, and has been replaced by the 'density' kwarg.\n",
      "  warnings.warn(\"The 'normed' kwarg is deprecated, and has been \"\n",
      "C:\\Users\\werkh\\Anaconda3\\lib\\site-packages\\matplotlib\\axes\\_axes.py:6462: UserWarning: The 'normed' kwarg is deprecated, and has been replaced by the 'density' kwarg.\n",
      "  warnings.warn(\"The 'normed' kwarg is deprecated, and has been \"\n"
     ]
    },
    {
     "data": {
      "text/plain": [
       "<matplotlib.legend.Legend at 0x262c02399b0>"
      ]
     },
     "execution_count": 14,
     "metadata": {},
     "output_type": "execute_result"
    },
    {
     "data": {
      "image/png": "[encoded data removed]",
      "text/plain": [
       "<Figure size 432x288 with 1 Axes>"
      ]
     },
     "metadata": {},
     "output_type": "display_data"
    }
   ],
   "source": [
    "import seaborn as sns\n",
    "sns.distplot(proportions_n_flips_100, label='100 flips')\n",
    "sns.distplot(proportions_n_flips_1000, label='1000 flips')\n",
    "plt.xlabel('fraction heads')\n",
    "plt.title('histogram of coin flip repetitions')\n",
    "plt.legend()"
   ]
  },
  {
   "cell_type": "markdown",
   "metadata": {
    "button": false,
    "new_sheet": false,
    "run_control": {
     "read_only": false
    }
   },
   "source": [
    "**3.3**"
   ]
  },
  {
   "cell_type": "code",
   "execution_count": 15,
   "metadata": {
    "button": false,
    "new_sheet": false,
    "run_control": {
     "read_only": false
    }
   },
   "outputs": [
    {
     "name": "stdout",
     "output_type": "stream",
     "text": [
      "100 flips mean = 0.50, std = 0.05\n",
      "100 flips mean = 0.50, std = 0.02\n"
     ]
    }
   ],
   "source": [
    "mu_100 = np.mean(proportions_n_flips_100)\n",
    "mu_1000 = np.mean(proportions_n_flips_1000)\n",
    "std_100 = np.std(proportions_n_flips_100)\n",
    "std_1000 = np.std(proportions_n_flips_1000)\n",
    "\n",
    "print('100 flips mean = %0.2f, std = %0.2f' %( mu_100, std_100))\n",
    "print('100 flips mean = %0.2f, std = %0.2f' %( mu_1000, std_1000))"
   ]
  },
  {
   "cell_type": "markdown",
   "metadata": {
    "button": false,
    "new_sheet": false,
    "run_control": {
     "read_only": false
    }
   },
   "source": [
    "**3.4**"
   ]
  },
  {
   "cell_type": "markdown",
   "metadata": {
    "button": false,
    "new_sheet": false,
    "run_control": {
     "read_only": false
    }
   },
   "source": [
    "The values appear to be normally distributed since the mean and shape of the distribution does not appear to change with increased sampling (apart from the dispersion)"
   ]
  },
  {
   "cell_type": "markdown",
   "metadata": {
    "button": false,
    "new_sheet": false,
    "run_control": {
     "read_only": false
    }
   },
   "source": [
    "**3.5**"
   ]
  },
  {
   "cell_type": "markdown",
   "metadata": {
    "button": false,
    "new_sheet": false,
    "run_control": {
     "read_only": false
    }
   },
   "source": [
    "Coin flips should be binomially distributed, with the probability of a heads $p_{h}=0.5$\n",
    "\n",
    "For a binomial distribution, &nbsp; $\\mu=np_{h}$ &nbsp; and &nbsp; $\\sigma=\\sqrt{np_{h}(1-p_{h})}$\n",
    "\n",
    "The binomial distributions approaches the normal distribution for large values of n, and since we are running 1000 flips for\n",
    "each repetition, it is reasonable to assume that it should approach the normal distribution. Since we are interested in the proportion, and not the total number of successes. Therefore, I'll plot\n",
    "<br/>\n",
    "\n",
    "<br/>\n",
    "$$N(\\mu, \\sigma)$$\n",
    "<br/>\n",
    "\n",
    "$$where$$\n",
    "<br/>\n",
    "\n",
    "$$\\mu=np_h=(1000)(0.5)=500$$\n",
    "<br/>\n",
    "\n",
    "$$\\sigma=\\sqrt{np_{h}(1-p_{h})}=\\sqrt{(1000)(0.5)(0.5)}=15.8$$\n",
    "<br/>\n"
   ]
  },
  {
   "cell_type": "code",
   "execution_count": 16,
   "metadata": {},
   "outputs": [
    {
     "name": "stderr",
     "output_type": "stream",
     "text": [
      "C:\\Users\\werkh\\Anaconda3\\lib\\site-packages\\matplotlib\\axes\\_axes.py:6462: UserWarning: The 'normed' kwarg is deprecated, and has been replaced by the 'density' kwarg.\n",
      "  warnings.warn(\"The 'normed' kwarg is deprecated, and has been \"\n"
     ]
    },
    {
     "data": {
      "text/plain": [
       "<matplotlib.legend.Legend at 0x262c137d4a8>"
      ]
     },
     "execution_count": 16,
     "metadata": {},
     "output_type": "execute_result"
    },
    {
     "data": {
      "image/png": "[encoded data removed]",
      "text/plain": [
       "<Figure size 432x288 with 1 Axes>"
      ]
     },
     "metadata": {},
     "output_type": "display_data"
    }
   ],
   "source": [
    "# normalize throw data\n",
    "normalized_flips_1000 = proportions_n_flips_1000/np.sum(proportions_n_flips_1000)\n",
    "\n",
    "# gaussian parameters\n",
    "mu = 0.5\n",
    "sig = 0.0158\n",
    "my_gauss = lambda x: (1/(sig*np.sqrt(2*np.pi)))*np.exp((-1*np.power((x-mu),2)/(2*sig**2)))\n",
    "x = np.linspace(0,1,100)\n",
    "gauss_dist = np.array([my_gauss(i) for i in x])\n",
    "plt.plot(x, gauss_dist, LineWidth=3,label='gaussian')\n",
    "plt.hist(proportions_n_flips_1000, normed=True, label='observed data')\n",
    "plt.legend()"
   ]
  },
  {
   "cell_type": "markdown",
   "metadata": {
    "button": false,
    "new_sheet": false,
    "run_control": {
     "read_only": false
    }
   },
   "source": [
    "<hr style='height:1px'>\n",
    "## Working With Distributions in Numpy/Scipy\n",
    "\n",
    "Earlier in this problem set we've been introduced to the Bernoulli \"aka coin-flip\" distribution and worked with it indirectly by using np.random.choice to make a random selection between two elements 'H' and 'T'.  Let's see if we can create comparable results by taking advantage of the machinery for working with other probability distributions in python using numpy and scipy."
   ]
  },
  {
   "cell_type": "markdown",
   "metadata": {
    "button": false,
    "new_sheet": false,
    "run_control": {
     "read_only": false
    }
   },
   "source": [
    "<div class='exercise'><b> Question 4: My Normal Binomial </b></div>\n",
    "\n",
    "Let's use our coin-flipping machinery to do some experimentation with the binomial distribution.  The binomial distribution, often represented by  $k \\sim Binomial(n, p)$ is often discribed the number of successes in `n` Bernoulli trials with each trial having a probability of success `p`.  In other words,  if you flip a coin `n` times, and each coin-flip has a probability `p` of landing heads, then the number of heads you observe is a sample from a binomial distribution.\n",
    "\n",
    "**4.1**. Sample the binomial distribution with $p = 0.5$ using coin flips by writing a function `sample_binomial1` which takes in integer parameters `n` and `size`.  The output of `sample_binomial1` should be a list of length `size` observations with each observation being the outcome of flipping a coin `n` times and counting the number of heads.  By default `size` should be 1.  Your code should take advantage of the `throw_a_coin` function we defined above. \n",
    "\n",
    "**4.2**. Sample the binomial distribution directly using scipy.stats.binom.rvs by writing another function `sample_binomial2` that takes in integer parameters `n` and `size` as well as a float `p` parameter `p` where $p \\in [0 \\ldots 1]$.  The output of `sample_binomial2` should be a list of length `size` observations with each observation a sample of $Binomial(n, p)$ (taking advantage of scipy.stats.binom).  By default `size` should be 1 and `p` should be 0.5.\n",
    "\n",
    "**4.3**. Run sample_binomial1 with 25 and 200 as values of the `n` and `size` parameters respectively and store the result in `binomial_trials1`. Run sample_binomial2 with 25, 200 and 0.5 as values of the `n`, `size` and `p` parameters respectively and store the results in `binomial_trials2`.  Plot normed histograms of `binomial_trials1` and `binomial_trials2`.  On both histograms, overlay a plot of the pdf of $Binomial(n=25, p=0.5)$\n",
    "\n",
    "**4.4**. How do the plots in 4.3 compare?\n",
    "\n",
    "**4.5**. Find the mean and variance of `binomial_trials1`.  How do they compare to the true mean and varaince of a $Binomial(n=25, p=0.5)$ distribution?"
   ]
  },
  {
   "cell_type": "markdown",
   "metadata": {
    "button": false,
    "new_sheet": false,
    "run_control": {
     "read_only": false
    }
   },
   "source": [
    "#### Answers"
   ]
  },
  {
   "cell_type": "markdown",
   "metadata": {
    "button": false,
    "new_sheet": false,
    "run_control": {
     "read_only": false
    }
   },
   "source": [
    "**4.1**"
   ]
  },
  {
   "cell_type": "code",
   "execution_count": 17,
   "metadata": {
    "button": false,
    "new_sheet": false,
    "run_control": {
     "read_only": false
    }
   },
   "outputs": [
    {
     "name": "stdout",
     "output_type": "stream",
     "text": [
      "[18. 27. 20. 16. 24. 21. 23. 23. 29. 20. 21. 18. 19. 14. 21. 21. 25. 27.\n",
      " 20. 24.]\n"
     ]
    }
   ],
   "source": [
    "def sample_binomial1(n, size=1):\n",
    "\n",
    "    n_heads = np.zeros(size)\n",
    "    \n",
    "    for i in range(len(n_heads)):\n",
    "        flips = throw_a_coin(n)      \n",
    "        for j in flips:\n",
    "            if j=='H':\n",
    "                n_heads[i]+=1\n",
    "                \n",
    "    return(n_heads)\n",
    "        \n",
    "n_heads = sample_binomial1(40, size=20)    \n",
    "\n",
    "print(n_heads)"
   ]
  },
  {
   "cell_type": "markdown",
   "metadata": {
    "button": false,
    "new_sheet": false,
    "run_control": {
     "read_only": false
    }
   },
   "source": [
    "**4.2**"
   ]
  },
  {
   "cell_type": "code",
   "execution_count": 18,
   "metadata": {},
   "outputs": [
    {
     "name": "stdout",
     "output_type": "stream",
     "text": [
      "[19 16 14 18 13 12 20 15 14 17 11 15 15 18 12 13 16 16 16 17]\n"
     ]
    }
   ],
   "source": [
    "from scipy.stats import binom\n",
    "\n",
    "print(binom.rvs(30, p=0.5, size=20))"
   ]
  },
  {
   "cell_type": "code",
   "execution_count": 19,
   "metadata": {
    "button": false,
    "new_sheet": false,
    "run_control": {
     "read_only": false
    }
   },
   "outputs": [
    {
     "name": "stdout",
     "output_type": "stream",
     "text": [
      "[17 24 19 15 20 21 16 21 20 18 20 19 21 25 16 19 16 19 22 21 21 22 19 19\n",
      " 20 13 23 14 23 23 17 18 21 19 19 17 17 18 18 17 15 24 16 22 19 20 15 15\n",
      " 18 20 20 21 17 19 23 24 20 22 17 19 24 19 19 18 19 21 20 23 29 23 20 18\n",
      " 23 20 22 23 20 20 14 18 19 24 23 20 15 18 16 18 21 20 15 20 21 15 21 16\n",
      " 23 17 15 18]\n"
     ]
    }
   ],
   "source": [
    "from scipy.stats import binom\n",
    "\n",
    "def sample_binomial2(n, size=1, p=0.5):\n",
    "\n",
    "    return(binom.rvs(n, p=p, size=size))\n",
    "\n",
    "n_successes = sample_binomial2(40, size=100, p=0.5)\n",
    "print(n_successes)"
   ]
  },
  {
   "cell_type": "markdown",
   "metadata": {
    "button": false,
    "new_sheet": false,
    "run_control": {
     "read_only": false
    }
   },
   "source": [
    "**4.3**"
   ]
  },
  {
   "cell_type": "code",
   "execution_count": 20,
   "metadata": {
    "button": false,
    "new_sheet": false,
    "run_control": {
     "read_only": false
    }
   },
   "outputs": [
    {
     "ename": "NameError",
     "evalue": "name 'p' is not defined",
     "output_type": "error",
     "traceback": [
      "\u001b[1;31m---------------------------------------------------------------------------\u001b[0m",
      "\u001b[1;31mNameError\u001b[0m                                 Traceback (most recent call last)",
      "\u001b[1;32m<ipython-input-20-ae9653bdb7a1>\u001b[0m in \u001b[0;36m<module>\u001b[1;34m()\u001b[0m\n\u001b[0;32m      3\u001b[0m \u001b[1;33m\u001b[0m\u001b[0m\n\u001b[0;32m      4\u001b[0m \u001b[0mbinomial_trials1\u001b[0m \u001b[1;33m=\u001b[0m \u001b[0msample_binomial1\u001b[0m\u001b[1;33m(\u001b[0m\u001b[0mn\u001b[0m\u001b[1;33m,\u001b[0m \u001b[0msize\u001b[0m\u001b[1;33m=\u001b[0m\u001b[0msz\u001b[0m\u001b[1;33m)\u001b[0m\u001b[1;33m\u001b[0m\u001b[0m\n\u001b[1;32m----> 5\u001b[1;33m \u001b[0mbinomial_trials2\u001b[0m \u001b[1;33m=\u001b[0m \u001b[0msample_binomial2\u001b[0m\u001b[1;33m(\u001b[0m\u001b[0mn\u001b[0m\u001b[1;33m,\u001b[0m \u001b[0msize\u001b[0m\u001b[1;33m=\u001b[0m\u001b[0msz\u001b[0m\u001b[1;33m,\u001b[0m \u001b[0mp\u001b[0m\u001b[1;33m=\u001b[0m\u001b[0mp\u001b[0m\u001b[1;33m)\u001b[0m\u001b[1;33m\u001b[0m\u001b[0m\n\u001b[0m\u001b[0;32m      6\u001b[0m \u001b[1;33m\u001b[0m\u001b[0m\n\u001b[0;32m      7\u001b[0m \u001b[0mplt\u001b[0m\u001b[1;33m.\u001b[0m\u001b[0mhist\u001b[0m\u001b[1;33m(\u001b[0m\u001b[0mbinomial_trials1\u001b[0m\u001b[1;33m,\u001b[0m \u001b[0mnormed\u001b[0m\u001b[1;33m=\u001b[0m\u001b[1;32mTrue\u001b[0m\u001b[1;33m,\u001b[0m \u001b[0malpha\u001b[0m\u001b[1;33m=\u001b[0m\u001b[1;36m0.5\u001b[0m\u001b[1;33m,\u001b[0m \u001b[0mlabel\u001b[0m\u001b[1;33m=\u001b[0m\u001b[1;34m'sample_binom1'\u001b[0m\u001b[1;33m)\u001b[0m\u001b[1;33m\u001b[0m\u001b[0m\n",
      "\u001b[1;31mNameError\u001b[0m: name 'p' is not defined"
     ]
    }
   ],
   "source": [
    "n=25\n",
    "sz = 200\n",
    "\n",
    "binomial_trials1 = sample_binomial1(n, size=sz)\n",
    "binomial_trials2 = sample_binomial2(n, size=sz, p=p)\n",
    "\n",
    "plt.hist(binomial_trials1, normed=True, alpha=0.5, label='sample_binom1')\n",
    "plt.hist(binomial_trials2, normed=True, alpha=0.5, label='sample_binom2')\n",
    "x = np.arange(binom.ppf(0.0001, n, p),binom.ppf(0.999999, n, p))\n",
    "plt.plot(x, binom.pmf(x, n, p), 'b', ms=8, label='binom pmf')\n",
    "plt.xlabel('num heads')\n",
    "plt.legend()"
   ]
  },
  {
   "cell_type": "markdown",
   "metadata": {
    "button": false,
    "new_sheet": false,
    "run_control": {
     "read_only": false
    }
   },
   "source": [
    "**4.4**"
   ]
  },
  {
   "cell_type": "markdown",
   "metadata": {
    "button": false,
    "new_sheet": false,
    "run_control": {
     "read_only": false
    }
   },
   "source": [
    "The distributions of the two random sampling methods appear qualitatively the same and are both show some error around the PDF, which is expected due to sampling. \n",
    "\n"
   ]
  },
  {
   "cell_type": "markdown",
   "metadata": {
    "button": false,
    "new_sheet": false,
    "run_control": {
     "read_only": false
    }
   },
   "source": [
    "**4.5**"
   ]
  },
  {
   "cell_type": "code",
   "execution_count": null,
   "metadata": {
    "button": false,
    "new_sheet": false,
    "run_control": {
     "read_only": false
    }
   },
   "outputs": [],
   "source": [
    "mu_100 = np.mean(binomial_trials1)\n",
    "std_100 = np.std(binomial_trials1)\n",
    "print(mu_100)\n",
    "print(std_100)"
   ]
  },
  {
   "cell_type": "markdown",
   "metadata": {
    "button": false,
    "new_sheet": false,
    "run_control": {
     "read_only": false
    }
   },
   "source": [
    "The observed mean and standard deviation are\n",
    "\n",
    "$$\\mu=12.405, \\quad \\sigma=2.38$$\n",
    "\n",
    "The true mean and variance for $Binomial(n=25, p=0.5)$\n",
    "\n",
    "$$\\mu=np=(25)(0.5)=12.5$$\n",
    "<br/>\n",
    "$$\\sigma=\\sqrt{np(1-p)}=\\sqrt{(25)(0.5)(0.5)}=2.5$$\n"
   ]
  },
  {
   "cell_type": "markdown",
   "metadata": {
    "button": false,
    "new_sheet": false,
    "run_control": {
     "read_only": false
    }
   },
   "source": [
    "<hr style='height:1px'>\n",
    "## Testing Your Python Code"
   ]
  },
  {
   "cell_type": "markdown",
   "metadata": {
    "button": false,
    "new_sheet": false,
    "run_control": {
     "read_only": false
    }
   },
   "source": [
    "In the following section we're going to do a brief introduction to unit testing.  We do so not only because unit testing has become an increasingly important part of of the methodology of good software practices, but also because we plan on using unit tests as part of our own CS109 grading practices as a way of increasing rigor and repeatability decreasing complexity and manual workload in our evaluations of your code.  We'll provide an example unit test at the end of this section.\n",
    "\n",
    "### Introduction to unit testing "
   ]
  },
  {
   "cell_type": "code",
   "execution_count": null,
   "metadata": {
    "button": false,
    "new_sheet": false,
    "run_control": {
     "read_only": false
    }
   },
   "outputs": [],
   "source": [
    "import ipytest"
   ]
  },
  {
   "cell_type": "markdown",
   "metadata": {
    "button": false,
    "new_sheet": false,
    "run_control": {
     "read_only": false
    }
   },
   "source": [
    "***Unit testing*** is one of the most important software testing methodologies.  Wikipedia describes unit testing as \"a software testing method by which individual units of source code, sets of one or more computer program modules together with associated control data, usage procedures, and operating procedures, are tested to determine whether they are fit for use.\"\n",
    "\n",
    "There are many different python libraries that support software testing in general and unit testing in particular.  PyTest is one of the most widely used and well-liked libraries for this purpose.  We've chosen to adopt PyTest (and ipytest which allows pytest to be used in ipython notebooks) for our testing needs and we'll do a very brief introduction to Pytest here so that you can become familiar with it too. \n",
    "\n",
    "If you recall the function that we provided you above `throw_a_coin`, which we'll reproduce here for convenience, it took a number and returned that many \"coin tosses\".  We'll start by seeing what happens when we give it different sizes of $N$.  If we give $N=0$, we should get an empty array of \"experiments\"."
   ]
  },
  {
   "cell_type": "code",
   "execution_count": null,
   "metadata": {
    "button": false,
    "new_sheet": false,
    "run_control": {
     "read_only": false
    }
   },
   "outputs": [],
   "source": [
    "def throw_a_coin(N):\n",
    "    return np.random.choice(['H','T'], size=N)"
   ]
  },
  {
   "cell_type": "code",
   "execution_count": null,
   "metadata": {
    "button": false,
    "new_sheet": false,
    "run_control": {
     "read_only": false
    }
   },
   "outputs": [],
   "source": [
    "throw_a_coin(0)"
   ]
  },
  {
   "cell_type": "markdown",
   "metadata": {
    "button": false,
    "new_sheet": false,
    "run_control": {
     "read_only": false
    }
   },
   "source": [
    "Great!  If we give it positive values of $N$ we should get that number of 'H's and 'T's."
   ]
  },
  {
   "cell_type": "code",
   "execution_count": null,
   "metadata": {
    "button": false,
    "new_sheet": false,
    "run_control": {
     "read_only": false
    }
   },
   "outputs": [],
   "source": [
    "throw_a_coin(5)"
   ]
  },
  {
   "cell_type": "code",
   "execution_count": null,
   "metadata": {
    "button": false,
    "new_sheet": false,
    "run_control": {
     "read_only": false
    }
   },
   "outputs": [],
   "source": [
    "throw_a_coin(8)"
   ]
  },
  {
   "cell_type": "markdown",
   "metadata": {
    "button": false,
    "new_sheet": false,
    "run_control": {
     "read_only": false
    }
   },
   "source": [
    "Exactly what we expected!  \n",
    "\n",
    "What happens if the input isn't a positive integer though?"
   ]
  },
  {
   "cell_type": "code",
   "execution_count": null,
   "metadata": {
    "button": false,
    "new_sheet": false,
    "run_control": {
     "read_only": false
    }
   },
   "outputs": [],
   "source": [
    "throw_a_coin(4.5)"
   ]
  },
  {
   "cell_type": "markdown",
   "metadata": {
    "run_control": {}
   },
   "source": [
    "or "
   ]
  },
  {
   "cell_type": "code",
   "execution_count": null,
   "metadata": {
    "button": false,
    "new_sheet": false,
    "run_control": {
     "read_only": false
    }
   },
   "outputs": [],
   "source": [
    "throw_a_coin(-4)"
   ]
  },
  {
   "cell_type": "markdown",
   "metadata": {
    "button": false,
    "new_sheet": false,
    "run_control": {
     "read_only": false
    }
   },
   "source": [
    "It looks like for both real numbers and negative numbers, we get two kinds of errors a `TypeError` and a `ValueError`.  We just engaged in one of the most rudimentary forms of testing, trial and error.  We can use pytest to automate this process by writing some functions that will automatically (and potentially repeatedly) test individual units of our code methodology.  These are called ***unit tests***.\n",
    "\n",
    "Before we write our tests, let's consider what we would think of as the approrpriate behavior for `throw_a_coin` under the conditions we considered above.  If `throw_a_coin` receives positive integer input, we want it to behave exactly as it currently does -- returning an output consisting of a list of characters 'H' or 'T' with the length of the list equal to the positive integer input. For a positive floating point input, we want `throw_a_coin_properly` to treat the input as if it were rounded down to the nearest integer thus returning a list of 'H' or 'T' integers whose length is the same as the input rounded down to the next highest integer.  For a any negative number input or an input of 0, we want `throw_a_coin_properly` to return an empty list."
   ]
  },
  {
   "cell_type": "markdown",
   "metadata": {
    "button": false,
    "new_sheet": false,
    "run_control": {
     "read_only": false
    }
   },
   "source": [
    "We create pytest tests by writing functions that start or end with \"test\".  We'll use the **convention** that our tests will start with \"test\".  \n",
    "\n",
    "We begin the code cell with ipytest's clean_tests function as a way to clear out the results of previous tests starting with \"test_throw_a_coin\" (the * is the standard wild card charater here).\n",
    "\n"
   ]
  },
  {
   "cell_type": "code",
   "execution_count": null,
   "metadata": {
    "button": false,
    "new_sheet": false,
    "run_control": {
     "read_only": false
    }
   },
   "outputs": [],
   "source": [
    "## the * after test_throw_a_coin tells this code cell to clean out the results\n",
    "## of all tests starting with test_throw_a_coin\n",
    "ipytest.clean_tests(\"test_throw_a_coin*\")\n",
    "\n",
    "## run throw_a_coin with a variety of positive integer inputs (all numbers between 1 and 20) and\n",
    "## verify that the length of the output list (e.g ['H', 'H', 'T', 'H', 'T']) matches the input integer\n",
    "def test_throw_a_coin_length_positive():\n",
    "    for n in range(1,20):\n",
    "        assert len(throw_a_coin(n)) == n\n",
    "\n",
    "## verify that throw_a_coin produces an empty list (i.e. a list of length 0) if provide with an input\n",
    "## of 0\n",
    "def test_throw_a_coin_length_zero():\n",
    "    ## should be the empty array\n",
    "    assert len(throw_a_coin(0)) == 0\n",
    "    \n",
    "\n",
    "## verify that given a positive floating point input (i.e. 4.34344298547201), throw_a_coin produces a list of\n",
    "## coin flips of length equal to highest integer less than the input\n",
    "def test_throw_a_coin_float():\n",
    "    for n in np.random.exponential(7, size=5):\n",
    "        assert len(throw_a_coin(n)) == np.floor(n)\n",
    "        \n",
    "\n",
    "## verify that given any negative input (e.g. -323.4), throw_a_coin produces an empty\n",
    "def test_throw_a_coin_negative():\n",
    "    for n in range(-7, 0):\n",
    "        assert len(throw_a_coin(n)) == 0\n",
    "\n",
    "        \n",
    "ipytest.run_tests()"
   ]
  },
  {
   "cell_type": "markdown",
   "metadata": {
    "button": false,
    "new_sheet": false,
    "run_control": {
     "read_only": false
    }
   },
   "source": [
    "As you see, we were able to use pytest (and ipytest which allows us to run pytest tests in our ipython notebooks) to automate the tests that we constructed manually before and get the same errors and successes.  Now time to fix our code and write our own test!"
   ]
  },
  {
   "cell_type": "markdown",
   "metadata": {
    "button": false,
    "new_sheet": false,
    "run_control": {
     "read_only": false
    }
   },
   "source": [
    "<div class='exercise'><b> Question 5: You Better Test Yourself before You Wreck Yourself! </b></div>\n",
    "\n",
    "Now it's time to fix `throw_a_coin` so that it passes the tests we've written above as well as add our own test to the mix!\n",
    "\n",
    "**5.1**. Write a new function called `throw_a_coin_properly` that will pass the tests that we saw above.  For your convenience we'll provide a new jupyter notebook cell with the tests rewritten for the new function.  All the tests should pass.  For a positive floating point input, we want `throw_a_coin_properly` to treat the input as if it were rounded down to the nearest integer.  For a any negative number input, we want `throw_a_coin_properly` to treat the input as if it were 0.\n",
    "\n",
    "**5.2**. Write a new test for `throw_a_coin_properly` that verifies that all the elements of the resultant arrays are 'H' or 'T'."
   ]
  },
  {
   "cell_type": "markdown",
   "metadata": {
    "button": false,
    "new_sheet": false,
    "run_control": {
     "read_only": false
    }
   },
   "source": [
    "#### Answers"
   ]
  },
  {
   "cell_type": "markdown",
   "metadata": {
    "button": false,
    "new_sheet": false,
    "run_control": {
     "read_only": false
    }
   },
   "source": [
    "**5.1**"
   ]
  },
  {
   "cell_type": "code",
   "execution_count": null,
   "metadata": {
    "button": false,
    "new_sheet": false,
    "run_control": {
     "read_only": false
    }
   },
   "outputs": [],
   "source": [
    "def throw_a_coin_properly(n_trials):\n",
    "    n_trials = int(n_trials)\n",
    "    if n_trials < 0:\n",
    "        n_trials = 0\n",
    "    return np.random.choice(['H','T'], size=n_trials)\n",
    "    "
   ]
  },
  {
   "cell_type": "code",
   "execution_count": null,
   "metadata": {
    "button": false,
    "new_sheet": false,
    "run_control": {
     "read_only": false
    }
   },
   "outputs": [],
   "source": [
    "ipytest.clean_tests(\"test_throw_a_coin*\")\n",
    "\n",
    "def test_throw_a_coin_properly_length_positive():\n",
    "    for n in range(1,20):\n",
    "        assert len(throw_a_coin_properly(n)) == n\n",
    "        \n",
    "\n",
    "def test_throw_a_coin_properly_length_zero():\n",
    "    ## should be the empty array\n",
    "    assert len(throw_a_coin_properly(0)) == 0\n",
    "    \n",
    "\n",
    "def test_throw_a_coin_properly_float():\n",
    "    \n",
    "    for n in np.random.exponential(7, size=5):\n",
    "        assert len(throw_a_coin_properly(n)) == np.floor(n)\n",
    "        \n",
    "\n",
    "def test_throw_a_coin_properly_negative():\n",
    "    \n",
    "    for n in range(-7, 0):\n",
    "        assert len(throw_a_coin_properly(n)) == 0\n",
    "\n",
    "        \n",
    "ipytest.run_tests()"
   ]
  },
  {
   "cell_type": "markdown",
   "metadata": {
    "button": false,
    "new_sheet": false,
    "run_control": {
     "read_only": false
    }
   },
   "source": [
    "**5.2** "
   ]
  },
  {
   "cell_type": "code",
   "execution_count": null,
   "metadata": {
    "button": false,
    "new_sheet": false,
    "run_control": {
     "read_only": false
    }
   },
   "outputs": [],
   "source": [
    "ipytest.clean_tests(\"test_throw_a_coin*\")\n",
    "\n",
    "## write a test that verifies you don't have any other elements except H's and T's\n",
    "def test_throw_a_coin_properly_verify_H_T():\n",
    "    \n",
    "    for n in range(1,20):\n",
    "        flips = throw_a_coin_properly(n)\n",
    "        ct = 0\n",
    "        for j in flips:\n",
    "            if j=='H' or j=='T':\n",
    "                ct+=1\n",
    "        assert ct == n\n",
    "        \n",
    "        \n",
    "ipytest.run_tests()"
   ]
  },
  {
   "cell_type": "code",
   "execution_count": null,
   "metadata": {},
   "outputs": [],
   "source": [
    "from IPython.core.display import HTML\n",
    "def css_styling():\n",
    "    styles = open(\"../../styles/cs109.css\", \"r\").read()\n",
    "    return HTML(styles)\n",
    "css_styling()"
   ]
  }
 ],
 "metadata": {
  "anaconda-cloud": {},
  "css": "cs109.css",
  "kernelspec": {
   "display_name": "Python 3",
   "language": "python",
   "name": "python3"
  },
  "language_info": {
   "codemirror_mode": {
    "name": "ipython",
    "version": 3
   },
   "file_extension": ".py",
   "mimetype": "text/x-python",
   "name": "python",
   "nbconvert_exporter": "python",
   "pygments_lexer": "ipython3",
   "version": "3.6.5"
  }
 },
 "nbformat": 4,
 "nbformat_minor": 2
}
