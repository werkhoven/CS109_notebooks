{
 "cells": [
  {
   "cell_type": "markdown",
   "metadata": {},
   "source": [
    "# <img style=\"float: left; padding-right: 10px; width: 45px\" src=\"https://github.com/Harvard-IACS/2018-CS109A/blob/master/content/styles/iacs.png?raw=true\"> CS109A/STAT121A Introduction to Data Science \n",
    "\n",
    "\n",
    "## Lab 3: `numpy`, plotting, K-NN Regression, Simple Linear Regression\n",
    "## <font color='red'> PRE-LAB : DO THIS PART BEFORE COMING TO LAB</font>\n",
    "\n",
    "**Harvard University**<br>\n",
    "**Fall 2018**<br>\n",
    "**Instructors:** Pavlos Protopapas and Kevin Rader<br>\n",
    "\n",
    "**Material prepared by**: David Sondak, Will Claybaugh and Pavlos Protopapas\n",
    "\n",
    "---"
   ]
  },
  {
   "cell_type": "code",
   "execution_count": null,
   "metadata": {},
   "outputs": [],
   "source": [
    "#RUN THIS CELL \n",
    "import requests\n",
    "from IPython.core.display import HTML\n",
    "styles = requests.get(\"https://raw.githubusercontent.com/Harvard-IACS/2018-CS109A/master/content/styles/cs109.css\").text\n",
    "HTML(styles)"
   ]
  },
  {
   "cell_type": "markdown",
   "metadata": {},
   "source": [
    "# Table of Contents\n",
    "<ol start=\"1\">\n",
    "  <li> A revision of `numpy` </li>\n",
    "  <li> A revision of matplotlib - Creating plots </li>\n",
    "</ol>"
   ]
  },
  {
   "cell_type": "markdown",
   "metadata": {},
   "source": [
    "## 1 - Numerical Python:  `numpy`\n",
    "Review the concepts on numpy: Scientific `Python` code uses a fast array structure, called the `numpy` array. Those who have worked in `Matlab` will find this very natural.   For reference, the `numpy` documention can be found here: [`numpy`](http://www.numpy.org/).  \n",
    "\n",
    "\n",
    "Let's make a numpy array."
   ]
  },
  {
   "cell_type": "code",
   "execution_count": null,
   "metadata": {},
   "outputs": [],
   "source": [
    "import numpy as np"
   ]
  },
  {
   "cell_type": "code",
   "execution_count": null,
   "metadata": {},
   "outputs": [],
   "source": [
    "my_array = np.array([1,4,9,16])\n",
    "my_array"
   ]
  },
  {
   "cell_type": "markdown",
   "metadata": {},
   "source": [
    "Numpy arrays support the same operations as lists! Below we compute length, slice, and iterate. "
   ]
  },
  {
   "cell_type": "code",
   "execution_count": null,
   "metadata": {},
   "outputs": [],
   "source": [
    "print(\"len(array):\", len(my_array)) # Length of array\n",
    "\n",
    "print(\"array[2:4]:\", my_array[2:4]) # A slice of the array\n",
    "\n",
    "# Iterate over the array\n",
    "for ele in my_array:\n",
    "    print(\"element:\", ele)"
   ]
  },
  {
   "cell_type": "markdown",
   "metadata": {},
   "source": [
    "**In general you should manipulate numpy arrays by using numpy module functions** (e.g. `np.mean`). This is for efficiency purposes, and a discussion follows below this section.\n",
    "\n",
    "You can calculate the mean of the array elements either by calling the method `.mean` on a numpy array or by applying the function `np.mean` with the `numpy` array as an argument."
   ]
  },
  {
   "cell_type": "code",
   "execution_count": null,
   "metadata": {},
   "outputs": [],
   "source": [
    "# Two ways of calculating the mean\n",
    "\n",
    "print(my_array.mean())\n",
    "\n",
    "print(np.mean(my_array))"
   ]
  },
  {
   "cell_type": "markdown",
   "metadata": {},
   "source": [
    "The way we constructed the `numpy` array above seems redundant. After all we already had a regular `python` list. Indeed, it is the other ways we have to construct `numpy` arrays that make them super useful. \n",
    "\n",
    "There are many such `numpy` array *constructors*. Here are some commonly used constructors. Look them up in the documentation."
   ]
  },
  {
   "cell_type": "code",
   "execution_count": null,
   "metadata": {},
   "outputs": [],
   "source": [
    "zeros = np.zeros(10) # generates 10 floating point zeros\n",
    "zeros"
   ]
  },
  {
   "cell_type": "markdown",
   "metadata": {},
   "source": [
    "`Numpy` gains a lot of its efficiency from being strongly typed. That is, all elements in the array have the same type, such as integer or floating point. The default type, as can be seen above, is a float of size appropriate for the machine (64 bit on a 64 bit machine)."
   ]
  },
  {
   "cell_type": "code",
   "execution_count": null,
   "metadata": {},
   "outputs": [],
   "source": [
    "zeros.dtype"
   ]
  },
  {
   "cell_type": "code",
   "execution_count": null,
   "metadata": {},
   "outputs": [],
   "source": [
    "np.ones(10, dtype='int') # generates 10 integer ones"
   ]
  },
  {
   "cell_type": "markdown",
   "metadata": {},
   "source": [
    "If the elements of an array are of a different type, `numpy` will force them into the same type (the longest in terms of bytes)"
   ]
  },
  {
   "cell_type": "code",
   "execution_count": null,
   "metadata": {},
   "outputs": [],
   "source": [
    "mixed = np.array([1, 2.3, 'eleni', True])\n",
    "\n",
    "#elements are of different type\n",
    "print(type(1), type(2.3), type('eleni'), type(True))\n",
    "\n",
    "# all elements will become strings\n",
    "mixed"
   ]
  },
  {
   "cell_type": "markdown",
   "metadata": {},
   "source": [
    "Often you will want random numbers. Use the `random` constructor!"
   ]
  },
  {
   "cell_type": "code",
   "execution_count": null,
   "metadata": {},
   "outputs": [],
   "source": [
    "np.random.rand(10) # uniform on [0,1]"
   ]
  },
  {
   "cell_type": "markdown",
   "metadata": {},
   "source": [
    "You can generate random numbers from a normal distribution with mean $0$ and variance $1$ using `np.random.randn`:"
   ]
  },
  {
   "cell_type": "code",
   "execution_count": null,
   "metadata": {},
   "outputs": [],
   "source": [
    "normal_array = np.random.randn(10000)\n",
    "print(\"The sample mean and standard devation are {0:17.16f} and {1:17.16f}, respectively.\".format(np.mean(normal_array), np.std(normal_array)))"
   ]
  },
  {
   "cell_type": "markdown",
   "metadata": {},
   "source": [
    "#### `numpy` supports vector operations\n",
    "\n",
    "What does this mean? It means that to add two arrays instead of looping ovr each element (e.g. via a list comprehension as in base Python) you get to simply put a plus sign between the two arrays."
   ]
  },
  {
   "cell_type": "code",
   "execution_count": null,
   "metadata": {},
   "outputs": [],
   "source": [
    "ones_array = np.ones(5)\n",
    "twos_array = 2*np.ones(5)\n",
    "ones_array + twos_array"
   ]
  },
  {
   "cell_type": "markdown",
   "metadata": {},
   "source": [
    "Note that this behavior is very different from `python` lists, which just get longer when you try to + them."
   ]
  },
  {
   "cell_type": "code",
   "execution_count": null,
   "metadata": {},
   "outputs": [],
   "source": [
    "first_list = [1., 1., 1., 1., 1.]\n",
    "second_list = [2., 2., 2., 2., 2.]\n",
    "first_list + second_list # not what you want"
   ]
  },
  {
   "cell_type": "markdown",
   "metadata": {},
   "source": [
    "On some computer chips nunpy's addition actually happens in parallel, so speedups can be high. But even on regular chips, the advantage of greater readability is important."
   ]
  },
  {
   "cell_type": "markdown",
   "metadata": {},
   "source": [
    "`Numpy` supports a concept known as *broadcasting*, which dictates how arrays of different sizes are combined together. There are too many rules to list all of them here.  Here are two important rules:\n",
    "\n",
    "1. Multiplying an array by a number multiplies each element by the number\n",
    "2. Adding a number adds the number to each element."
   ]
  },
  {
   "cell_type": "code",
   "execution_count": null,
   "metadata": {},
   "outputs": [],
   "source": [
    "ones_array + 1"
   ]
  },
  {
   "cell_type": "code",
   "execution_count": null,
   "metadata": {},
   "outputs": [],
   "source": [
    "5 * ones_array"
   ]
  },
  {
   "cell_type": "markdown",
   "metadata": {},
   "source": [
    "This means that if you wanted the distribution $N(5, 7)$ you could do:"
   ]
  },
  {
   "cell_type": "code",
   "execution_count": null,
   "metadata": {},
   "outputs": [],
   "source": [
    "normal_5_7 = 5.0 + 7.0 * normal_array\n",
    "\n",
    "np.mean(normal_5_7), np.std(normal_5_7)"
   ]
  },
  {
   "cell_type": "markdown",
   "metadata": {},
   "source": [
    "Now you have seen how to create and work with simple one dimensional arrays in `numpy`.  You have also been introduced to some important `numpy` functionality (e.g. `mean` and `std`).\n",
    "\n",
    "Next, we push ahead to two-dimensional arrays and begin to dive into some of the deeper aspects of `numpy`."
   ]
  },
  {
   "cell_type": "markdown",
   "metadata": {},
   "source": [
    "### 2D arrays\n",
    "We can create two-dimensional arrays without too much fuss."
   ]
  },
  {
   "cell_type": "code",
   "execution_count": null,
   "metadata": {
    "scrolled": true
   },
   "outputs": [],
   "source": [
    "# create a 2d-array by handing a list of lists\n",
    "my_array2d = np.array([ \n",
    "    [1, 2, 3, 4], \n",
    "    [5, 6, 7, 8], \n",
    "    [9, 10, 11, 12] \n",
    "])\n",
    "\n",
    "# you can do the same without the pretty formatting (decide which style you like better)\n",
    "my_array2d = np.array([ [1, 2, 3, 4], [5, 6, 7, 8], [9, 10, 11, 12] ])\n",
    "\n",
    "\n",
    "# 3 x 4 array of ones\n",
    "ones_2d = np.ones([3, 4])\n",
    "print(ones_2d, \"\\n\")\n",
    "\n",
    "# 3 x 4 array of ones with random noise\n",
    "ones_noise = ones_2d + 0.01*np.random.randn(3, 4)\n",
    "print(ones_noise, \"\\n\")\n",
    "\n",
    "# 3 x 3 identity matrix\n",
    "my_identity = np.eye(3)\n",
    "print(my_identity, \"\\n\")"
   ]
  },
  {
   "cell_type": "markdown",
   "metadata": {},
   "source": [
    "Like lists, `numpy` arrays are $0$-indexed.  Thus we can access the $n$th row and the $m$th column of a two-dimensional array with the indices $[n - 1, m - 1]$."
   ]
  },
  {
   "cell_type": "code",
   "execution_count": null,
   "metadata": {},
   "outputs": [],
   "source": [
    "print(my_array2d)\n",
    "print(\"element [2,3] is:\", my_array2d[2, 3])"
   ]
  },
  {
   "cell_type": "markdown",
   "metadata": {},
   "source": [
    "Numpy arrays can be sliced, and can be iterated over with loops.  Below is a schematic illustrating slicing two-dimensional arrays.  \n",
    "\n",
    " <img src=\"images/2dindex_v2.png\" alt=\"Drawing\" style=\"width: 500px;\"/>\n",
    " \n",
    "Notice that the list slicing syntax still works!  \n",
    "`array[2:,3]` says \"in the array, get rows 2 through the end, column 3]\"  \n",
    "`array[3,:]` says \"in the array, get row 3, all columns\"."
   ]
  },
  {
   "cell_type": "markdown",
   "metadata": {},
   "source": [
    "Numpy functions will by default work on the entire array:"
   ]
  },
  {
   "cell_type": "code",
   "execution_count": null,
   "metadata": {},
   "outputs": [],
   "source": [
    "np.sum(ones_2d)"
   ]
  },
  {
   "cell_type": "markdown",
   "metadata": {},
   "source": [
    "The axis `0` is the one going downwards (i.e. the rows), whereas axis `1` is the one going across (the columns). You will often use functions such as `mean` or `sum` along a particular axis. If you `sum` along axis 0 you are summing across the rows and will end up with one value per column. As a rule, any axis you list in the axis argument will dissapear."
   ]
  },
  {
   "cell_type": "code",
   "execution_count": null,
   "metadata": {},
   "outputs": [],
   "source": [
    "np.sum(ones_2d, axis=0)"
   ]
  },
  {
   "cell_type": "code",
   "execution_count": null,
   "metadata": {},
   "outputs": [],
   "source": [
    "np.sum(ones_2d, axis=1)"
   ]
  },
  {
   "cell_type": "markdown",
   "metadata": {},
   "source": [
    "<div class=\"exercise\"><b>Exercise</b></div>\n",
    "* Create a two-dimensional array of size $3\\times 5$ and do the following:\n",
    "  * Print out the array\n",
    "  * Print out the shape of the array\n",
    "  * Create two slices of the array:\n",
    "    1. The first slice should be the last row and the third through last column\n",
    "    2. The second slice should be rows $1-3$ and columns $3-5$\n",
    "  * Square each element in the array and print the result"
   ]
  },
  {
   "cell_type": "code",
   "execution_count": null,
   "metadata": {},
   "outputs": [],
   "source": [
    "# your code here\n",
    "A = np.array([ [5, 4, 3, 2, 1], [1, 2, 3, 4, 5], [1.1, 2.2, 3.3, 4.4, 5.5] ])\n",
    "print(A, \"\\n\")\n",
    "\n",
    "# set length(shape)\n",
    "dims = A.shape\n",
    "print(dims, \"\\n\")\n",
    "\n",
    "# slicing\n",
    "print(A[-1, 2:], \"\\n\")\n",
    "print(A[1:3, 3:5], \"\\n\")\n",
    "\n",
    "# squaring\n",
    "A2 = A * A\n",
    "print(A2)"
   ]
  },
  {
   "cell_type": "markdown",
   "metadata": {},
   "source": [
    "#### `numpy` supports matrix operations\n",
    "2d arrays are numpy's way of representing matrices. As such there are lots of built-in methods for manipulating them"
   ]
  },
  {
   "cell_type": "markdown",
   "metadata": {},
   "source": [
    "Earlier when we generated the one-dimensional arrays of ones and random numbers, we gave `ones` and `random`  the number of elements we wanted in the arrays. In two dimensions, we need to provide the shape of the array, i.e., the number of rows and columns of the array."
   ]
  },
  {
   "cell_type": "code",
   "execution_count": null,
   "metadata": {
    "scrolled": true
   },
   "outputs": [],
   "source": [
    "three_by_four = np.ones([3,4])\n",
    "three_by_four"
   ]
  },
  {
   "cell_type": "markdown",
   "metadata": {},
   "source": [
    "You can transpose the array:"
   ]
  },
  {
   "cell_type": "code",
   "execution_count": null,
   "metadata": {},
   "outputs": [],
   "source": [
    "three_by_four.shape"
   ]
  },
  {
   "cell_type": "code",
   "execution_count": null,
   "metadata": {},
   "outputs": [],
   "source": [
    "four_by_three = three_by_four.T"
   ]
  },
  {
   "cell_type": "code",
   "execution_count": null,
   "metadata": {},
   "outputs": [],
   "source": [
    "four_by_three.shape"
   ]
  },
  {
   "cell_type": "markdown",
   "metadata": {},
   "source": [
    "Matrix multiplication is accomplished by `np.dot`. The `*` operator will do element-wise multiplication."
   ]
  },
  {
   "cell_type": "code",
   "execution_count": null,
   "metadata": {
    "scrolled": true
   },
   "outputs": [],
   "source": [
    "print(np.dot(three_by_four, four_by_three)) # 3 x 3 matrix\n",
    "np.dot(four_by_three, three_by_four) # 4 x 4 matrix"
   ]
  },
  {
   "cell_type": "markdown",
   "metadata": {},
   "source": [
    "Numpy has functions to do the difficult matrix operations that are awful to do by hand."
   ]
  },
  {
   "cell_type": "code",
   "execution_count": null,
   "metadata": {},
   "outputs": [],
   "source": [
    "matrix = np.random.rand(4,4) # a 4 by 4 matrix\n",
    "matrix"
   ]
  },
  {
   "cell_type": "markdown",
   "metadata": {},
   "source": [
    "Let's get the eigenvalues and eigenvectors!"
   ]
  },
  {
   "cell_type": "code",
   "execution_count": null,
   "metadata": {},
   "outputs": [],
   "source": [
    "np.linalg.eig(matrix)"
   ]
  },
  {
   "cell_type": "markdown",
   "metadata": {},
   "source": [
    "How about inverses?"
   ]
  },
  {
   "cell_type": "code",
   "execution_count": null,
   "metadata": {},
   "outputs": [],
   "source": [
    "inv_matrix = np.linalg.inv(matrix) # the invert matrix\n",
    "print(inv_matrix)\n",
    "\n",
    "#prove it's the inverse\n",
    "np.dot(matrix,inv_matrix)"
   ]
  },
  {
   "cell_type": "markdown",
   "metadata": {},
   "source": [
    "Notice that there is a bit of 'rounding error' in the inverse calculation. This is becuase the computer can't store the exact values the inverse matrix asks for (they have more decimal places than the computer can hold). Built-in numpy routines manage these errors, which is why it's very important to use pre-built tools whenever possible, and to be very cautious when writing your own.\n",
    "\n",
    "(It happens that there are even more advanced numpy functions like `np.linalg.solve` which are more accurate than just taking the naked inverse)\n",
    "\n",
    "See the documentation to learn more about `numpy` functions as needed."
   ]
  },
  {
   "cell_type": "markdown",
   "metadata": {},
   "source": [
    "#### Numpy's layout in the computer's memory\n",
    "**Advanced coders**: You should notice that access is row-by-row and one dimensional iteration gives a row. This is because `numpy` lays out memory row-wise. <br><br>\n",
    "**Starting coders**: If you really need a particular section of numpy to run faster, ask an advanced coder to point out improvements in your code. They may have you transpose your arrays. But if your code is fast enough, then it's fast enough.\n",
    "\n",
    " <img src=\"https://aaronbloomfield.github.io/pdr/slides/images/04-arrays-bigoh/2d-array-layout.png\" alt=\"Drawing\" style=\"width: 500px;\"/>\n",
    " \n",
    "(from https://aaronbloomfield.github.io)"
   ]
  },
  {
   "cell_type": "markdown",
   "metadata": {},
   "source": [
    "An often seen idiom allocates a two-dimensional array, and then fills in one-dimensional arrays from some function.  We will discuss why this is a bad design pattern."
   ]
  },
  {
   "cell_type": "code",
   "execution_count": null,
   "metadata": {},
   "outputs": [],
   "source": [
    "# allocate a 2D array\n",
    "twod = np.zeros([5, 2])\n",
    "print(twod, \"\\n\")\n",
    "\n",
    "# Fill in with random numbers\n",
    "for i in range(twod.shape[0]):\n",
    "    twod[i, :] = np.random.random(2)\n",
    "print(twod)"
   ]
  },
  {
   "cell_type": "markdown",
   "metadata": {},
   "source": [
    "In this and many other cases, it is faster to simply do:"
   ]
  },
  {
   "cell_type": "code",
   "execution_count": null,
   "metadata": {},
   "outputs": [],
   "source": [
    "twod = np.random.random(size=(5,2))\n",
    "twod"
   ]
  },
  {
   "cell_type": "markdown",
   "metadata": {},
   "source": [
    "### `Numpy `Arrays vs. `Python` Lists?\n",
    "\n",
    "1. Why the need for `numpy` arrays?  Can't we just use `Python` lists?\n",
    "2. Iterating over `numpy` arrays is slow. Slicing is faster.\n",
    "\n",
    "`Python` lists may contain items of different types. This flexibility comes at a price: `Python` lists store *pointers* to memory locations.  On the other hand, `numpy` arrays are typed, where the default type is floating point.  Because of this, the system knows how much memory to allocate, and if you ask for an array of size $100$, it will allocate one hundred contiguous spots in memory, where the size of each spot is based on the type.  This makes access extremely fast.\n",
    "\n",
    "<img src=\"https://jakevdp.github.io/PythonDataScienceHandbook/figures/array_vs_list.png\" alt=\"Drawing\" style=\"width: 500px;\"/>\n",
    "\n",
    "(image from Jake Vanderplas's Data Science Handbook)\n",
    "\n",
    "Unfortunately, looping over an array slows things down. In general you should not access `numpy` array elements by iteration.  This is because of type conversion.  `Numpy` stores integers and floating points in `C`-language format.  When you operate on array elements through iteration, `Python` needs to convert that element to a `Python` `int` or `float`, which is a more complex beast (a `struct` in `C` jargon).  This has a cost.\n",
    "\n",
    "<img src=\"https://jakevdp.github.io/PythonDataScienceHandbook/figures/cint_vs_pyint.png\" alt=\"Drawing\" style=\"width: 500px;\"/>\n",
    "\n",
    "(image from Jake Vanderplas's Data Science Handbook)\n",
    "\n",
    "If you want to know more, we will suggest that you read \n",
    "- [Jake Vanderplas's Data Science Handbook](https://jakevdp.github.io/PythonDataScienceHandbook/). \n",
    "- [Wes McKinney's Python for Data Analysis](https://hollis.harvard.edu/primo-explore/fulldisplay?docid=01HVD_ALMA512247401160003941&context=L&vid=HVD2&lang=en_US&search_scope=everything&adaptor=Local%20Search%20Engine&tab=everything&query=any,contains,Wes%20McKinney%27s%20Python%20for%20Data%20Analysis&sortby=rank&offset=0) (HOLLIS)<br>\n",
    "You will find them both incredible resources for this class.\n",
    "\n",
    "Why is slicing faster? The reason is technical: slicing provides a *view* onto the memory occupied by a `numpy` array, instead of creating a new array. That is the reason the code above this cell works nicely as well. However, if you iterate over a slice, then you have gone back to the slow access.\n",
    "\n",
    "By contrast, functions such as `np.dot` are implemented at `C`-level, do not do this type conversion, and access contiguous memory. If you want this kind of access in `Python`, use the `struct` module or `Cython`. Indeed many fast algorithms in `numpy`, `pandas`, and `C` are either implemented at the `C`-level, or employ `Cython`."
   ]
  },
  {
   "cell_type": "markdown",
   "metadata": {},
   "source": [
    "# Concept Check:\n",
    "Answer these questions and see the bottom of the lab to check your answers.\n",
    "\n",
    "1. What is the major benefit of working in `numpy`?\n",
    "2. Why is it vital to use built-in numpy functions whenever possible?\n",
    "3. You need to find the running total of each element in a numpy array. For example, the input \\[2,5,3,2\\] should give the output \\[2,7,10,12\\]. Rather than writing your own code, think of at least two google querrys to find a relevant numpy function.\n",
    "4. What `numpy` function does the job above?"
   ]
  },
  {
   "cell_type": "markdown",
   "metadata": {},
   "source": [
    "## 2 - Plotting with matplot lib (and beyond)\n",
    "Conveying your findings convincingly is an absolutely crucial part of any analysis. Therefore, you must be able to write well and make compelling visuals.  Creating informative visuals is an involved process and we won't cover that in this lab.  However, part of creating informative data visualizations means generating *readable* figures.  If people can't read your figures or have a difficult time interpreting them, they won't understand the results of your work.  Here are some non-negotiable commandments for any plot:\n",
    "* Label $x$ and $y$ axes\n",
    "* Axes labels should be informative\n",
    "* Axes labels should be large enough to read\n",
    "* Make tick labels large enough\n",
    "* Include a legend if necessary\n",
    "* Include a title if necessary\n",
    "* Use appropriate line widths\n",
    "* Use different line styles for different lines on the plot\n",
    "* Use different markers for different lines\n",
    "\n",
    "There are other important elements, but that list should get you started on your way.\n",
    "\n",
    "Here is the anatomy of a figure:\n",
    " <img src=\"https://tacaswell.github.io/matplotlib/_images/anatomy.png\" alt=\"Drawing\" style=\"width: 500px;\"/>\n",
    " \n",
    "taken from [showcase example code: anatomy.py](https://tacaswell.github.io/matplotlib/examples/showcase/anatomy.html).\n",
    "\n",
    "We will work with `matplotlib` and `seaborn` for plotting in this class.  Today's lab will focus on `matplotlib`, which is a very powerful `python` library for making scientific plots.  `seaborn` is a little more specialized in that it was developed for statistical data visualization.  We will put in a little bit of `seaborn` at the end, but if you are comfortable with `matplotlib` then `seaborn` will be a breeze."
   ]
  },
  {
   "cell_type": "markdown",
   "metadata": {},
   "source": [
    "Before diving in, one more note should be made.  We will not focus on the internal aspects of `matplotlib`.  Today's lab will really only focus on the basics and developing good plotting practices.  There are many excellent tutorials out there for `matplotlib`.  For example,\n",
    "* [`matplotlib` homepage](https://matplotlib.org/)\n",
    "* [`matplotlib` tutorial](https://github.com/matplotlib/AnatomyOfMatplotlib)\n",
    "\n",
    "Okay, let's get started!"
   ]
  },
  {
   "cell_type": "markdown",
   "metadata": {},
   "source": [
    "### `matplotlib`"
   ]
  },
  {
   "cell_type": "markdown",
   "metadata": {},
   "source": [
    "First, let's generate some data."
   ]
  },
  {
   "cell_type": "markdown",
   "metadata": {},
   "source": [
    "<div class=\"exercise\"><b>Exercise</b></div>\n",
    "Use the following three functions to make some plots:\n",
    "\n",
    "* Logistic function:\n",
    "  \\begin{align*}\n",
    "    f\\left(z\\right) = \\dfrac{1}{1 + be^{-az}}\n",
    "  \\end{align*}\n",
    "  where $a$ and $b$ are parameters.\n",
    "* Hyperbolic tangent:\n",
    "  \\begin{align*}\n",
    "    g\\left(z\\right) = b\\tanh\\left(az\\right) + c\n",
    "  \\end{align*}\n",
    "  where $a$, $b$, and $c$ are parameters.\n",
    "* Rectified Linear Unit:\n",
    "  \\begin{align*}\n",
    "    h\\left(z\\right) = \n",
    "    \\left\\{\n",
    "      \\begin{array}{lr}\n",
    "        z, \\quad z > 0 \\\\\n",
    "        \\epsilon z, \\quad z\\leq 0\n",
    "      \\end{array}\n",
    "    \\right.\n",
    "  \\end{align*}\n",
    "  where $\\epsilon < 0$ is a small, positive parameter.\n",
    "\n",
    "You are given the code for the first two functions.  Notice that $z$ is passed in as a `numpy` array and that the functions are returned as `numpy` arrays.  Parameters are passed in as floats.\n",
    "\n",
    "You should write a function to compute the rectified linear unit.  The input should be a `numpy` array for $z$ and a positive float for $\\epsilon$."
   ]
  },
  {
   "cell_type": "code",
   "execution_count": null,
   "metadata": {},
   "outputs": [],
   "source": [
    "# Your code here\n",
    "import numpy as np\n",
    "\n",
    "def logistic(z: np.ndarray, a: float, b: float) -> np.ndarray:\n",
    "    \"\"\" Compute logistic function\n",
    "      Inputs:\n",
    "         a: exponential parameter\n",
    "         b: exponential prefactor\n",
    "         z: numpy array; domain\n",
    "      Outputs:\n",
    "         f: numpy array of floats, logistic function\n",
    "    \"\"\"\n",
    "    \n",
    "    den = 1.0 + b * np.exp(-a * z)\n",
    "    return 1.0 / den\n",
    "\n",
    "def stretch_tanh(z: np.ndarray, a: float, b: float, c: float) -> np.ndarray:\n",
    "    \"\"\" Compute stretched hyperbolic tangent\n",
    "      Inputs:\n",
    "         a: horizontal stretch parameter (a>1 implies a horizontal squish)\n",
    "         b: vertical stretch parameter\n",
    "         c: vertical shift parameter\n",
    "         z: numpy array; domain\n",
    "      Outputs:\n",
    "         g: numpy array of floats, stretched tanh\n",
    "    \"\"\"\n",
    "    return b * np.tanh(a * z) + c\n",
    "\n",
    "def relu(z: np.ndarray, eps: float = 0.01) -> np.ndarray:\n",
    "    \"\"\" Compute rectificed linear unit\n",
    "      Inputs:\n",
    "         eps: small positive parameter\n",
    "         z: numpy array; domain\n",
    "      Outputs:\n",
    "         h: numpy array; relu\n",
    "    \"\"\"\n",
    "    return np.fmax(z, eps * z)"
   ]
  },
  {
   "cell_type": "markdown",
   "metadata": {},
   "source": [
    "Now let's make some plots.  First, let's just warm up and plot the logistic function."
   ]
  },
  {
   "cell_type": "code",
   "execution_count": null,
   "metadata": {},
   "outputs": [],
   "source": [
    "x = np.linspace(-5.0, 5.0, 100) # Equally spaced grid of 100 pts between -5 and 5\n",
    "\n",
    "f = logistic(x, 1.0, 1.0) # Generate data"
   ]
  },
  {
   "cell_type": "code",
   "execution_count": null,
   "metadata": {},
   "outputs": [],
   "source": [
    "import matplotlib.pyplot as plt\n",
    "\n",
    "# This is only needed in Jupyter notebooks!  Displays the plots for us.\n",
    "%matplotlib inline \n",
    "\n",
    "plt.plot(x, f); # Use the semicolon to suppress some iPython output (not needed in real Python scripts)"
   ]
  },
  {
   "cell_type": "markdown",
   "metadata": {},
   "source": [
    "Wonderful!  We have a plot.  It's terribly ugly and uninformative.  Let's clean it up a bit by putting some labels on it."
   ]
  },
  {
   "cell_type": "code",
   "execution_count": null,
   "metadata": {},
   "outputs": [],
   "source": [
    "plt.plot(x, f)\n",
    "plt.xlabel('x')\n",
    "plt.ylabel('f')\n",
    "plt.title('Logistic Function');"
   ]
  },
  {
   "cell_type": "markdown",
   "metadata": {},
   "source": [
    "Okay, it's getting better.  Still super ugly.  I see these kinds of plots at conferences all the time.  Unreadable.  We can do better.  Much, much better.  First, let's throw on a grid."
   ]
  },
  {
   "cell_type": "code",
   "execution_count": null,
   "metadata": {},
   "outputs": [],
   "source": [
    "plt.plot(x, f)\n",
    "plt.xlabel('x')\n",
    "plt.ylabel('f')\n",
    "plt.title('Logistic Function')\n",
    "plt.grid(True)"
   ]
  },
  {
   "cell_type": "markdown",
   "metadata": {},
   "source": [
    "At this point, our plot is starting to get a little better but also a little crowded.\n",
    "\n",
    "#### A note on gridlines\n",
    "Gridlines can be very helpful in many scientific disciplines.  They help the reader quickly pick out important points and limiting values.  On the other hand, they can really clutter the plot.  Some people recommend never using gridlines, while others insist on them being present.  The correct approach is probably somewhere in between.  Use gridlines when necessary, but dispense with them when they take away more than they provide.  Ask yourself if they help bring out some important conclusion from the plot.  If not, then best just keep them away.\n",
    "\n",
    "Before proceeding any further, I'm going to change notation.  The plotting interface we've been working with so far is okay, but not as flexible as it can be.  In fact, I don't usually generate my plots with this interface.  I work with slightly lower-level methods, which I will introduce to you now.  The reason I need to make a big deal about this is because the lower-level methods have a slightly different API.  This will become apparent in my next example."
   ]
  },
  {
   "cell_type": "code",
   "execution_count": null,
   "metadata": {},
   "outputs": [],
   "source": [
    "fig, ax = plt.subplots(1,1) # Get figure and axes objects\n",
    "\n",
    "ax.plot(x, f) # Make a plot\n",
    "\n",
    "# Create some labels\n",
    "ax.set_xlabel('x')\n",
    "ax.set_ylabel('f')\n",
    "ax.set_title('Logistic Function')\n",
    "\n",
    "# Grid\n",
    "ax.grid(True)"
   ]
  },
  {
   "cell_type": "markdown",
   "metadata": {},
   "source": [
    "Wow, it's *exactly* the same plot!  Notice, however, the use of `ax.set_xlabel()` instead of `plt.xlabel()`.  The difference is tiny, but you should be aware of it.  I will use this plotting syntax from now on.\n",
    "\n",
    "What else do we need to do to make this figure better?  Here are some options:\n",
    "* Make labels bigger!\n",
    "* Make line fatter\n",
    "* Make tick mark labels bigger\n",
    "* Make the grid less pronounced\n",
    "* Make figure bigger\n",
    "\n",
    "Let's get to it."
   ]
  },
  {
   "cell_type": "code",
   "execution_count": null,
   "metadata": {},
   "outputs": [],
   "source": [
    "fig, ax = plt.subplots(1,1, figsize=(10,6)) # Make figure bigger\n",
    "\n",
    "ax.plot(x, f, lw=4) # Linewidth bigger\n",
    "ax.set_xlabel('x', fontsize=24) # Fontsize bigger\n",
    "ax.set_ylabel('f', fontsize=24) # Fontsize bigger\n",
    "ax.set_title('Logistic Function', fontsize=24) # Fontsize bigger\n",
    "ax.grid(True, lw=1.5, ls='--', alpha=0.75) # Update grid"
   ]
  },
  {
   "cell_type": "markdown",
   "metadata": {},
   "source": [
    "Notice:\n",
    "* `lw` stands for `linewidth`.  We could also write `ax.plot(x, f, linewidth=4)`\n",
    "* `ls` stands for `linestyle`.\n",
    "* `alpha` stands for transparency."
   ]
  },
  {
   "cell_type": "markdown",
   "metadata": {},
   "source": [
    "Things are looking good now!  Unfortunately, people still can't read the tick mark labels.  Let's remedy that presently."
   ]
  },
  {
   "cell_type": "code",
   "execution_count": null,
   "metadata": {},
   "outputs": [],
   "source": [
    "fig, ax = plt.subplots(1,1, figsize=(10,6)) # Make figure bigger\n",
    "\n",
    "# Make line plot\n",
    "ax.plot(x, f, lw=4)\n",
    "\n",
    "# Update ticklabel size\n",
    "ax.tick_params(labelsize=24)\n",
    "\n",
    "# Make labels\n",
    "ax.set_xlabel(r'$x$', fontsize=24) # Use TeX for mathematical rendering\n",
    "ax.set_ylabel(r'$f(x)$', fontsize=24) # Use TeX for mathematical rendering\n",
    "ax.set_title('Logistic Function', fontsize=24)\n",
    "\n",
    "ax.grid(True, lw=1.5, ls='--', alpha=0.75)"
   ]
  },
  {
   "cell_type": "markdown",
   "metadata": {},
   "source": [
    "The only thing remaining to do is to change the $x$ limits.  Clearly these should go from $-5$ to $5$."
   ]
  },
  {
   "cell_type": "code",
   "execution_count": null,
   "metadata": {},
   "outputs": [],
   "source": [
    "fig, ax = plt.subplots(1,1, figsize=(10,6)) # Make figure bigger\n",
    "\n",
    "# Make line plot\n",
    "ax.plot(x, f, lw=4)\n",
    "\n",
    "# Set axes limits\n",
    "ax.set_xlim(x.min(), x.max())\n",
    "\n",
    "# Update ticklabel size\n",
    "ax.tick_params(labelsize=24)\n",
    "\n",
    "# Make labels\n",
    "ax.set_xlabel(r'$x$', fontsize=24) # Use TeX for mathematical rendering\n",
    "ax.set_ylabel(r'$f(x)$', fontsize=24) # Use TeX for mathematical rendering\n",
    "ax.set_title('Logistic Function', fontsize=24)\n",
    "\n",
    "ax.grid(True, lw=1.5, ls='--', alpha=0.75)"
   ]
  },
  {
   "cell_type": "markdown",
   "metadata": {},
   "source": [
    "You can play around with figures forever making them perfect.  At this point, everyone can read and interpret this figure just fine.  Don't spend your life making the perfect figure.  Make it good enough so that you can convey your point to your audience.  Then save if it for later."
   ]
  },
  {
   "cell_type": "code",
   "execution_count": null,
   "metadata": {},
   "outputs": [],
   "source": [
    "fig.savefig('logistic.png')"
   ]
  },
  {
   "cell_type": "markdown",
   "metadata": {},
   "source": [
    "Done!  Let's take a look.\n",
    "![](logistic.png)"
   ]
  },
  {
   "cell_type": "markdown",
   "metadata": {},
   "source": [
    "#### Resources\n",
    "If you want to see all the styles available, please take a look at the documentation.\n",
    "* [Line styles](https://matplotlib.org/2.0.1/api/lines_api.html#matplotlib.lines.Line2D.set_linestyle)\n",
    "* [Marker styles](https://matplotlib.org/2.0.1/api/markers_api.html#module-matplotlib.markers)\n",
    "* [Everything you could ever want](https://matplotlib.org/2.0.1/api/lines_api.html#matplotlib.lines.Line2D.set_marker)\n",
    "\n",
    "We haven't discussed it yet, but you can also put a legend on a figure.  You'll do that in the next exercise.  Here are some additional resources:\n",
    "* [Legend](https://matplotlib.org/api/_as_gen/matplotlib.pyplot.legend.html)\n",
    "* [Grid](https://matplotlib.org/api/_as_gen/matplotlib.pyplot.grid.html)"
   ]
  },
  {
   "cell_type": "markdown",
   "metadata": {},
   "source": [
    "<div class=\"exercise\"><b>Exercise</b></div>\n",
    "\n",
    "Do the following:\n",
    "* Make a figure with the logistic function, hyperbolic tangent, and rectified linear unit.\n",
    "* Use different line styles for each plot\n",
    "* Put a legend on your figure\n",
    "\n",
    "Here's an example of a figure:\n",
    "![](nice_plots.png)\n",
    "\n",
    "You don't need to make the exact same figure, but it should be just as nice and readable."
   ]
  },
  {
   "cell_type": "code",
   "execution_count": null,
   "metadata": {
    "scrolled": false
   },
   "outputs": [],
   "source": [
    "# your code here\n",
    "\n",
    "# First get the data\n",
    "f = logistic(x, 2.0, 1.0)\n",
    "g = stretch_tanh(x, 2.0, 0.5, 0.5)\n",
    "h = relu(x)\n",
    "\n",
    "fig, ax = plt.subplots(1,1, figsize=(10,6)) # Create figure object\n",
    "\n",
    "# Make actual plots\n",
    "# (Notice the label argument!)\n",
    "ax.plot(x, f, lw=4, ls='-', label=r'$L(x;1)$')\n",
    "ax.plot(x, g, lw=4, ls='--', label=r'$\\tanh(2x)$')\n",
    "ax.plot(x, h, lw=4, ls='-.', label=r'$relu(x; 0.01)$')\n",
    "\n",
    "# Make the tick labels readable\n",
    "ax.tick_params(labelsize=24)\n",
    "\n",
    "# Set axes limits to make the scale nice\n",
    "ax.set_xlim(x.min(), x.max())\n",
    "ax.set_ylim(h.min(), 1.1)\n",
    "\n",
    "# Make readable labels\n",
    "ax.set_xlabel(r'$x$', fontsize=24)\n",
    "ax.set_ylabel(r'$h(x)$', fontsize=24)\n",
    "ax.set_title('Activation Functions', fontsize=24)\n",
    "\n",
    "# Set up grid\n",
    "ax.grid(True, lw=1.75, ls='--', alpha=0.75)\n",
    "\n",
    "# Put legend on figure\n",
    "ax.legend(loc='best', fontsize=24);\n",
    "\n",
    "fig.savefig('nice_plots.png')"
   ]
  },
  {
   "cell_type": "markdown",
   "metadata": {},
   "source": [
    "There a many more things you can do to the figure to spice it up.  Remember, there must be a tradeoff between making a figure look good and the time you put into it.  \n",
    "\n",
    "**The guiding principle should be that your audience needs to easily read and understand your figure.**\n",
    "\n",
    "There are of course other types of figures including, but not limited to, \n",
    "* Scatter plots (you will use these all the time)\n",
    "* Bar charts\n",
    "* Histograms\n",
    "* Contour plots\n",
    "* Surface plots\n",
    "* Heatmaps\n",
    "\n",
    "There is documentation on each one of these.  You should feel comforatable enough with the plotting API now to dig in and make readable, understandable plots.\n",
    "\n",
    "Before moving on, we will discuss another way to make your plots look good without all the hassle.  I'll make a beautiful plot without having to specify annoying arguments every single time."
   ]
  },
  {
   "cell_type": "code",
   "execution_count": null,
   "metadata": {},
   "outputs": [],
   "source": [
    "import config # User-defined config file\n",
    "plt.rcParams.update(config.pars) # Update rcParams to make nice plots\n",
    "\n",
    "# First get the data\n",
    "f1 = logistic(x, 1.0, 1.0)\n",
    "f2 = logistic(x, 2.0, 1.0)\n",
    "f3 = logistic(x, 3.0, 1.0)\n",
    "\n",
    "fig, ax = plt.subplots(1,1, figsize=(10,6)) # Create figure object\n",
    "\n",
    "# Make actual plots\n",
    "# (Notice the label argument!)\n",
    "ax.plot(x, f1, ls='-', label=r'$L(x;-1)$')\n",
    "ax.plot(x, f2, ls='--', label=r'$L(x;-2)$')\n",
    "ax.plot(x, f3, ls='-.', label=r'$L(x;-3)$')\n",
    "\n",
    "# Set axes limits to make the scale nice\n",
    "ax.set_xlim(x.min(), x.max())\n",
    "ax.set_ylim(h.min(), 1.1)\n",
    "\n",
    "# Make readable labels\n",
    "ax.set_xlabel(r'$x$')\n",
    "ax.set_ylabel(r'$h(x)$')\n",
    "ax.set_title('Logistic Functions')\n",
    "\n",
    "# Set up grid\n",
    "ax.grid(True, lw=1.75, ls='--', alpha=0.75)\n",
    "\n",
    "# Put legend on figure\n",
    "ax.legend(loc='best')"
   ]
  },
  {
   "cell_type": "markdown",
   "metadata": {},
   "source": [
    "That's a good-looking plot!  Notice that we didn't need to have all those annoying `fontsize` specifications floating around.  If you want to reset the defaults, just use `plt.rcdefaults()`.\n",
    "\n",
    "Now, how in the world did this work?  Obviously, there is something special about the `config` file.  I didn't give you a config file, but the next exercise requires you to create one."
   ]
  },
  {
   "cell_type": "markdown",
   "metadata": {},
   "source": [
    "<div class=\"exercise\"><b>Exercise</b></div>\n",
    "* Read the *matplotlib rcParams* section at the following page: [Customizing matplotlib](https://matplotlib.org/users/customizing.html)\n",
    "* Create your very own `config.py` file.  It should have the following structure:\n",
    "```python\n",
    "pars = {}\n",
    "```\n",
    "You must fill in the `pars` dictionary yourself.  All the possible parameters can be found at the link above.  For example, if you want to set a default line width of `4`, then you would have \n",
    "```python\n",
    "pars = {'lines.linewidth': 4}\n",
    "```\n",
    "  in your `config.py` file.\n",
    "* Make sure your `config.py` file is in the same directory as your lab notebook.\n",
    "* Make a plot (similar to the one I made above) using your `config` file."
   ]
  },
  {
   "cell_type": "markdown",
   "metadata": {},
   "source": [
    "### `seaborn`\n",
    "Early on in this plotting section, we mentioned `seaborn`.  You can use `seaborn` to make very nice plots of statistical data.  Here is the main website:  [seaborn: statistical data visualization](https://seaborn.pydata.org/).\n",
    "\n",
    "We won't dive deep into `seaborn` here.  It is quite popular in the data science community, but it is ultimately up to you whether or not you choose to use it.\n",
    "\n",
    "`seaborn` works great with `pandas`.  It can also be customized easily.  Here is the basic `seaborn` tutorial: [Seaborn tutorial](https://seaborn.pydata.org/tutorial.html)."
   ]
  },
  {
   "cell_type": "markdown",
   "metadata": {},
   "source": [
    "### No Excuses\n",
    "With all of these resourses, there is no reason to have a bad figure. We will take this into account for homework."
   ]
  }
 ],
 "metadata": {
  "anaconda-cloud": {},
  "kernelspec": {
   "display_name": "Python 3",
   "language": "python",
   "name": "python3"
  },
  "language_info": {
   "codemirror_mode": {
    "name": "ipython",
    "version": 3
   },
   "file_extension": ".py",
   "mimetype": "text/x-python",
   "name": "python",
   "nbconvert_exporter": "python",
   "pygments_lexer": "ipython3",
   "version": "3.6.5"
  }
 },
 "nbformat": 4,
 "nbformat_minor": 1
}
